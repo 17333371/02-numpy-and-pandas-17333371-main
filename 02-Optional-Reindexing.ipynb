{
 "cells": [
  {
   "cell_type": "markdown",
   "metadata": {},
   "source": [
    "# Optional Supplemental Exercise: Creating Fancy Indexes and Merging by Index\n",
    "\n",
    "If you are done with the class early, you can attempt this optional exercise."
   ]
  },
  {
   "cell_type": "markdown",
   "metadata": {},
   "source": [
    "### Index Objects and Reindexing\n",
    "\n",
    "We have already seen that Dataframes have an index object. If you don't stipulate a series as an index, then the default is a range index from 0 to number of items - 1. This is what we have been using up to now, and it does fine for most applications:\n",
    "\n",
    "We can optain the index of a Dataframe by simply calling:\n",
    "\n",
    "```python\n",
    "df.index\n",
    "```\n",
    "\n",
    "And we can assign a new index very easily too:\n",
    "\n",
    "```python\n",
    "df.index = new_index\n",
    "```\n",
    "\n",
    "As long as the `new_index` has the same length as the original index. Because it is possible to reindex a dataframe we could assign a more meaningful index. We have seen that a unique identifier for ODP sample can characterized by a string that incorporates the entire description of the sample location, such as **198-1207-A-2-H-2-65**. So, if we can crate a series that contains this name, we could then use it as a unique index for the samples. The benefit is that we can then compare different datasets by index, and for instance find the same sample in two different dataframes very easily.\n",
    "\n",
    "In this more open exercise, I want you to redo exercise 4 from the previous notebook but with the following difference:\n",
    "\n",
    "1. Add a function that creates an index of type string that contains the following information: **Leg-Site-H-Cor-T-Sec** for the two dataframes of interest\n",
    "2. Instead of rounding the `Depth (mbsf)`, this time we will effectively consider that data within a 1.5 meter interval (a section) is the same.\n",
    "3. Drop the columns that you use to create your index as well as `Top (cm)`: we don't need them anymore as all the info is contained in the index itself. \n",
    "4. You will end up with two `Depth (mbsf)` per sample: the depth where the NGR is taken, and the depth where the geochemical data was taken. This is useful, but the default names of these columns (`Depth (mbsf)_x` and `Depth (mbsf)_y`) are not useful. Give these columns more meaningful names. \n",
    "5. Once you have done this, you can rewrite your `merge_by_depth(df1,df2)` to instead merge by index: it should be easier\n",
    "\n",
    "Here are a few things that will help you:\n",
    "* Try not to copy things from the previous notebook, but rather to remember how to do it or good the documentation. This will help you become more independent in your coding, and is important for future projects.\n",
    "* Remember that this is a new notebook: don't forget to do all the necessary imports and to read the data into the dataframes\n",
    "* The easiest way is to create a Pandas Series that contains the strings, and the set this as your new index.\n",
    "* There are several ways to go about this exercise. You can for instance simply add the columns of interest separated by adding the `-` character. This approach is likely to result at first in some `UFuncTypeError`. Google what this means, and how to go around it (*hint:* you probably need to cast some types! Read how to do this for an entire dataframe column)\n",
    "* Another approach is to use a loop and the Pandas function `.iterrows()` for the same job. If you have time, try both approaches to expand your knowledge by reading about `iterrows()`, which is a handy function.\n",
    "\n",
    "# 💃 Have fun!!! \n"
   ]
  },
  {
   "cell_type": "code",
   "execution_count": null,
   "metadata": {},
   "outputs": [],
   "source": [
    "# Your Code:\n",
    "\n"
   ]
  }
 ],
 "metadata": {
  "kernelspec": {
   "display_name": "Python 3",
   "language": "python",
   "name": "python3"
  },
  "language_info": {
   "codemirror_mode": {
    "name": "ipython",
    "version": 3
   },
   "file_extension": ".py",
   "mimetype": "text/x-python",
   "name": "python",
   "nbconvert_exporter": "python",
   "pygments_lexer": "ipython3",
   "version": "3.8.8"
  }
 },
 "nbformat": 4,
 "nbformat_minor": 4
}
