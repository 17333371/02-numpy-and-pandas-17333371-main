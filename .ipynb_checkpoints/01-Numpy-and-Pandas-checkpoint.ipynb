{
 "cells": [
  {
   "cell_type": "markdown",
   "metadata": {},
   "source": [
    "# Lecture 2 : Introduction to NumPy and Pandas\n",
    "\n",
    "Data science and machine learning relies on the ability to easily manipulate large amounts of data, and to efficiently do numerical calculation on this data. This gives rise to series of libraries specialised in dealing with this problem. The strength of the Python 'ecosystem' is that these libraries usually work well together. A central part of the Python ecosystem for data science is the combination of NumPy ('Numerical Python') and Pandas ('Python Data Analysis Library').\n",
    "\n",
    "NumPy is the block on which Pandas is build, so we will briefly explore the main concepts in NumPy. We will then focus on Pandas, as you will need to use this library extensively in the rest of the course. If you walk away with nothing else from this course, at least know how to use Pandas for your data analysis projects!\n",
    "\n",
    "## Learning Objectives\n",
    "1. Understand how array computing avoids bugs and speeds up analysis\n",
    "2. Basics of NumPy NDArrays\n",
    "3. Loading data in Pandas\n",
    "4. Basic terminology of Pandas Series and Dataframes\n",
    "5. Obtaining basic statistics from dataframes\n",
    "6. Numerical computation with dataframes\n",
    "7. Merging data and deleting data\n"
   ]
  },
  {
   "cell_type": "markdown",
   "metadata": {},
   "source": [
    "## 2.0 General Introduction to NumPy\n",
    "<a id=\"intro\"></a>"
   ]
  },
  {
   "cell_type": "code",
   "execution_count": 1,
   "metadata": {
    "execution": {
     "iopub.execute_input": "2022-01-18T13:16:45.882498Z",
     "iopub.status.busy": "2022-01-18T13:16:45.882271Z",
     "iopub.status.idle": "2022-01-18T13:16:45.895385Z",
     "shell.execute_reply": "2022-01-18T13:16:45.894704Z",
     "shell.execute_reply.started": "2022-01-18T13:16:45.882441Z"
    },
    "tags": []
   },
   "outputs": [
    {
     "data": {
      "text/html": [
       "\n",
       "        <iframe\n",
       "            width=\"640\"\n",
       "            height=\"360\"\n",
       "            src=\"https://youtube.com/embed/NLqkYpK0PsI\"\n",
       "            frameborder=\"0\"\n",
       "            allowfullscreen\n",
       "        ></iframe>\n",
       "        "
      ],
      "text/plain": [
       "<IPython.lib.display.IFrame at 0x18d50705400>"
      ]
     },
     "metadata": {},
     "output_type": "display_data"
    }
   ],
   "source": [
    "from IPython.display import IFrame\n",
    "display(IFrame('https://youtube.com/embed/NLqkYpK0PsI', width = 640, height = 360))"
   ]
  },
  {
   "cell_type": "markdown",
   "metadata": {},
   "source": [
    "## 2.1 Introduction to NumPy <a id=\"npintro\"></a>\n",
    "\n",
    "NumPy is a library for the Python programming language, adding support for large, multi-dimensional arrays and matrices, along with a large collection of high-level mathematical functions to operate on these arrays. NumPy was formally created in 2005 by Travis Oliphant but it incorporates features of the competing former libraries Numarray into Numeric, with extensive modifications. NumPy is open-source software and has many contributors.\n",
    "\n",
    "Let's explore how NumPy works. First, let's make sure you are familiar with how to import external libraries into a notebook. Feel free to skip to the next section if you are familiar with this.\n",
    "\n",
    "Before you can import a library into your notebook, you need to install it into your system. We did this last week. If you want to learn more about this (it's not very complicated) you can check the documentation for the ['pip install' command](https://pip.pypa.io/en/stable/reference/pip_install/) or the ['conda install' command](https://docs.conda.io/projects/conda/en/latest/commands/install.html), depending on whether you are using a regular distribution of Python or an Anaconda distribution of Python.\n",
    "\n",
    "Once a library is installed locally on your system, you can use the **import** command to import the library. You will need to do this for any library you want to use in a notebook (or in your VSCode file). You did not have to do this up to now because in *Lecture 1* you only used standard Python command. But NumPy and Pandas are not standard packages. The syntax to import an entire library is easy:\n",
    "\n",
    "```python\n",
    "import name_of_library as local_name_you_want\n",
    "```\n",
    "\n",
    "The local name is a shortname that you can use in your notebook. And you only need to import a library once per notebook for it to be available in all of your cells. The NumPy library name is 'numpy' (case sensitive) and it is convention to use the shortname 'np' for it. Following conventions ensures your code is more readable: so stick to it. So let's import the libary:"
   ]
  },
  {
   "cell_type": "code",
   "execution_count": 2,
   "metadata": {
    "collapsed": false,
    "execution": {
     "iopub.execute_input": "2022-01-18T13:16:45.897089Z",
     "iopub.status.busy": "2022-01-18T13:16:45.896878Z",
     "iopub.status.idle": "2022-01-18T13:16:46.019166Z",
     "shell.execute_reply": "2022-01-18T13:16:46.018543Z",
     "shell.execute_reply.started": "2022-01-18T13:16:45.897066Z"
    },
    "jupyter": {
     "outputs_hidden": false
    }
   },
   "outputs": [],
   "source": [
    "import numpy as np\n",
    "# or you can also import numpy as numpy, its just a convention"
   ]
  },
  {
   "cell_type": "markdown",
   "metadata": {},
   "source": [
    "Now let's go straight to business with why NumPy is so important. Below we will use the 'arrange' method of NumPy to create a NumPy array containing 1 million numbers. We will also create a plain vanilla Python list containing the same 1 million numbers. Let's do this now:"
   ]
  },
  {
   "cell_type": "code",
   "execution_count": 3,
   "metadata": {
    "collapsed": false,
    "execution": {
     "iopub.execute_input": "2022-01-18T13:16:46.020362Z",
     "iopub.status.busy": "2022-01-18T13:16:46.020107Z",
     "iopub.status.idle": "2022-01-18T13:16:46.058372Z",
     "shell.execute_reply": "2022-01-18T13:16:46.057693Z",
     "shell.execute_reply.started": "2022-01-18T13:16:46.020336Z"
    },
    "jupyter": {
     "outputs_hidden": false
    }
   },
   "outputs": [],
   "source": [
    "my_arr = np.arange(1000000) # The NumPy way -> we obtain an NumPy NDArray\n",
    "my_list = list(range(1000000)) # Plain Python -> We obtain a simple Python list"
   ]
  },
  {
   "cell_type": "markdown",
   "metadata": {},
   "source": [
    "The goal is to compare the speed of arithmetic operations between NumPy and plain vanilla python. Remember that NumPy is backed by linear algebra (matrix operations) and it's core is written in C (a low-level compiled language). Plain vanilla Python is an interpreted language, so every command needs to be interpreted first before it is run.\n",
    "\n",
    "We will use a magic command ('%') called 'time' which returns the time that a given operation takes. Let's first multiply the numbers by 2 using the NumPy calculation and timing it:"
   ]
  },
  {
   "cell_type": "code",
   "execution_count": 4,
   "metadata": {
    "collapsed": false,
    "execution": {
     "iopub.execute_input": "2022-01-18T13:16:46.059682Z",
     "iopub.status.busy": "2022-01-18T13:16:46.059420Z",
     "iopub.status.idle": "2022-01-18T13:16:46.082321Z",
     "shell.execute_reply": "2022-01-18T13:16:46.081706Z",
     "shell.execute_reply.started": "2022-01-18T13:16:46.059656Z"
    },
    "jupyter": {
     "outputs_hidden": false
    },
    "tags": []
   },
   "outputs": [
    {
     "name": "stdout",
     "output_type": "stream",
     "text": [
      "Wall time: 27.1 ms\n"
     ]
    }
   ],
   "source": [
    "%time for _ in range(10): my_arr2 = my_arr * 2"
   ]
  },
  {
   "cell_type": "markdown",
   "metadata": {},
   "source": [
    "Now let's do that same using plain vanilla Python and a list comprehension:"
   ]
  },
  {
   "cell_type": "code",
   "execution_count": 5,
   "metadata": {
    "collapsed": false,
    "execution": {
     "iopub.execute_input": "2022-01-18T13:16:46.083447Z",
     "iopub.status.busy": "2022-01-18T13:16:46.083187Z",
     "iopub.status.idle": "2022-01-18T13:16:46.744073Z",
     "shell.execute_reply": "2022-01-18T13:16:46.743556Z",
     "shell.execute_reply.started": "2022-01-18T13:16:46.083425Z"
    },
    "jupyter": {
     "outputs_hidden": false
    },
    "tags": []
   },
   "outputs": [
    {
     "name": "stdout",
     "output_type": "stream",
     "text": [
      "Wall time: 1.37 s\n"
     ]
    }
   ],
   "source": [
    "%time for _ in range(10): my_list2 = [x * 2 for x in my_list]"
   ]
  },
  {
   "cell_type": "markdown",
   "metadata": {},
   "source": [
    "And this was a very simple operation, on 'only' 1 million numbers. On my system, the plain vanilla Python is about 40 times slower. It should now be clear to you why NumPy and Pandas (which uses NumPy behind the scene) are so important."
   ]
  },
  {
   "cell_type": "markdown",
   "metadata": {},
   "source": [
    "## 2.2 The NumPy ndarray: A Multidimensional Array Object <a id=\"intro\"></a>\n",
    "\n",
    "Under the hood, the field of data science and machine learning is concerned with vectors, matrix, and tensor operations. NumPy provide exactly this ability, and the tool for that is known as an 'ndarray' or multidimentionsl array object. You used an `ndarray` in your previous exercise."
   ]
  },
  {
   "cell_type": "code",
   "execution_count": 6,
   "metadata": {
    "execution": {
     "iopub.execute_input": "2022-01-18T13:16:46.745428Z",
     "iopub.status.busy": "2022-01-18T13:16:46.745249Z",
     "iopub.status.idle": "2022-01-18T13:16:46.749088Z",
     "shell.execute_reply": "2022-01-18T13:16:46.748561Z",
     "shell.execute_reply.started": "2022-01-18T13:16:46.745405Z"
    },
    "tags": []
   },
   "outputs": [
    {
     "data": {
      "text/html": [
       "\n",
       "        <iframe\n",
       "            width=\"640\"\n",
       "            height=\"360\"\n",
       "            src=\"https://youtube.com/embed/eSMb1Xe2svM\"\n",
       "            frameborder=\"0\"\n",
       "            allowfullscreen\n",
       "        ></iframe>\n",
       "        "
      ],
      "text/plain": [
       "<IPython.lib.display.IFrame at 0x18d50b5edf0>"
      ]
     },
     "metadata": {},
     "output_type": "display_data"
    }
   ],
   "source": [
    "from IPython.display import IFrame\n",
    "display(IFrame('https://youtube.com/embed/eSMb1Xe2svM', width = 640, height = 360))"
   ]
  },
  {
   "cell_type": "markdown",
   "metadata": {},
   "source": [
    "### 2.2.1 Creating ndarrays <a id=\"creatingarrays\"></a>\n",
    "\n",
    "Arrays can easily be creared using the 'array' method of NumPy:"
   ]
  },
  {
   "cell_type": "code",
   "execution_count": 7,
   "metadata": {
    "collapsed": false,
    "execution": {
     "iopub.execute_input": "2022-01-18T13:16:46.752150Z",
     "iopub.status.busy": "2022-01-18T13:16:46.751976Z",
     "iopub.status.idle": "2022-01-18T13:16:46.771300Z",
     "shell.execute_reply": "2022-01-18T13:16:46.770242Z",
     "shell.execute_reply.started": "2022-01-18T13:16:46.752130Z"
    },
    "jupyter": {
     "outputs_hidden": false
    }
   },
   "outputs": [
    {
     "data": {
      "text/plain": [
       "array([6. , 7.5, 8. , 0. , 1. ])"
      ]
     },
     "execution_count": 7,
     "metadata": {},
     "output_type": "execute_result"
    }
   ],
   "source": [
    "# Let's create a Python list\n",
    "data1 = [6, 7.5, 8, 0, 1]\n",
    "\n",
    "# And turn it into an array\n",
    "arr1 = np.array(data1)\n",
    "arr1"
   ]
  },
  {
   "cell_type": "markdown",
   "metadata": {},
   "source": [
    "The preceding example shows how to create a vector, i.e. a 1D array. We can create 2D arrays by giving a nested list of list to NumPy:"
   ]
  },
  {
   "cell_type": "code",
   "execution_count": 8,
   "metadata": {
    "collapsed": false,
    "execution": {
     "iopub.execute_input": "2022-01-18T13:16:46.774615Z",
     "iopub.status.busy": "2022-01-18T13:16:46.774304Z",
     "iopub.status.idle": "2022-01-18T13:16:46.779010Z",
     "shell.execute_reply": "2022-01-18T13:16:46.778397Z",
     "shell.execute_reply.started": "2022-01-18T13:16:46.774588Z"
    },
    "jupyter": {
     "outputs_hidden": false
    }
   },
   "outputs": [
    {
     "data": {
      "text/plain": [
       "array([[1, 2, 3, 4],\n",
       "       [5, 6, 7, 8]])"
      ]
     },
     "execution_count": 8,
     "metadata": {},
     "output_type": "execute_result"
    }
   ],
   "source": [
    "#\n",
    "data2 = [[1, 2, 3, 4], [5, 6, 7, 8]]\n",
    "arr2 = np.array(data2)\n",
    "arr2"
   ]
  },
  {
   "cell_type": "markdown",
   "metadata": {},
   "source": [
    "We can confirm the dimensions of our array by using the 'ndim' method:"
   ]
  },
  {
   "cell_type": "code",
   "execution_count": 9,
   "metadata": {
    "collapsed": false,
    "execution": {
     "iopub.execute_input": "2022-01-18T13:16:46.780201Z",
     "iopub.status.busy": "2022-01-18T13:16:46.779961Z",
     "iopub.status.idle": "2022-01-18T13:16:46.783503Z",
     "shell.execute_reply": "2022-01-18T13:16:46.782944Z",
     "shell.execute_reply.started": "2022-01-18T13:16:46.780177Z"
    },
    "jupyter": {
     "outputs_hidden": false
    }
   },
   "outputs": [
    {
     "data": {
      "text/plain": [
       "2"
      ]
     },
     "execution_count": 9,
     "metadata": {},
     "output_type": "execute_result"
    }
   ],
   "source": [
    "arr2.ndim"
   ]
  },
  {
   "cell_type": "markdown",
   "metadata": {},
   "source": [
    "And we can see the 'shape' of our array, i.e. the size of each dimension, by calling the 'shape' method:"
   ]
  },
  {
   "cell_type": "code",
   "execution_count": 10,
   "metadata": {
    "collapsed": false,
    "execution": {
     "iopub.execute_input": "2022-01-18T13:16:46.784677Z",
     "iopub.status.busy": "2022-01-18T13:16:46.784417Z",
     "iopub.status.idle": "2022-01-18T13:16:46.788647Z",
     "shell.execute_reply": "2022-01-18T13:16:46.787848Z",
     "shell.execute_reply.started": "2022-01-18T13:16:46.784656Z"
    },
    "jupyter": {
     "outputs_hidden": false
    }
   },
   "outputs": [
    {
     "data": {
      "text/plain": [
       "(2, 4)"
      ]
     },
     "execution_count": 10,
     "metadata": {},
     "output_type": "execute_result"
    }
   ],
   "source": [
    "arr2.shape"
   ]
  },
  {
   "cell_type": "markdown",
   "metadata": {},
   "source": [
    "We see above that the shape of my array is a matrix (2 dimensions) of vectors of dimension 4. Because shape returns a tuple, I can extract the dimension of any axis by giving an argument to the return value. For instance, here I can extract the dimension of the second axis:"
   ]
  },
  {
   "cell_type": "code",
   "execution_count": 11,
   "metadata": {
    "execution": {
     "iopub.execute_input": "2022-01-18T13:16:46.790014Z",
     "iopub.status.busy": "2022-01-18T13:16:46.789815Z",
     "iopub.status.idle": "2022-01-18T13:16:46.793961Z",
     "shell.execute_reply": "2022-01-18T13:16:46.793387Z",
     "shell.execute_reply.started": "2022-01-18T13:16:46.789990Z"
    },
    "tags": []
   },
   "outputs": [
    {
     "data": {
      "text/plain": [
       "4"
      ]
     },
     "execution_count": 11,
     "metadata": {},
     "output_type": "execute_result"
    }
   ],
   "source": [
    "arr2.shape[1]"
   ]
  },
  {
   "cell_type": "markdown",
   "metadata": {},
   "source": [
    "To create an array with a range of number, use the 'arange' method:"
   ]
  },
  {
   "cell_type": "code",
   "execution_count": 12,
   "metadata": {
    "execution": {
     "iopub.execute_input": "2022-01-18T13:16:46.795368Z",
     "iopub.status.busy": "2022-01-18T13:16:46.794975Z",
     "iopub.status.idle": "2022-01-18T13:16:46.799370Z",
     "shell.execute_reply": "2022-01-18T13:16:46.798745Z",
     "shell.execute_reply.started": "2022-01-18T13:16:46.795341Z"
    },
    "tags": []
   },
   "outputs": [
    {
     "data": {
      "text/plain": [
       "array([ 0,  1,  2,  3,  4,  5,  6,  7,  8,  9, 10, 11, 12, 13, 14, 15, 16,\n",
       "       17, 18, 19, 20, 21, 22, 23, 24, 25, 26, 27, 28, 29, 30, 31, 32, 33,\n",
       "       34, 35, 36, 37, 38, 39, 40, 41, 42, 43, 44, 45, 46, 47, 48, 49, 50,\n",
       "       51, 52, 53, 54, 55, 56, 57, 58, 59, 60, 61, 62, 63, 64, 65, 66, 67,\n",
       "       68, 69, 70, 71, 72, 73, 74, 75, 76, 77, 78, 79, 80, 81, 82, 83, 84,\n",
       "       85, 86, 87, 88, 89, 90, 91, 92, 93, 94, 95, 96, 97, 98, 99])"
      ]
     },
     "execution_count": 12,
     "metadata": {},
     "output_type": "execute_result"
    }
   ],
   "source": [
    "np.arange(100)"
   ]
  },
  {
   "cell_type": "markdown",
   "metadata": {},
   "source": [
    "You can also give a starting value, end value, and step to the range function. The code below will create an `ndarray` starting at 50 and ending at 100 (not inclusive of the last value), and taking every 2 values (step of 2):"
   ]
  },
  {
   "cell_type": "code",
   "execution_count": 13,
   "metadata": {
    "execution": {
     "iopub.execute_input": "2022-01-18T13:16:46.800526Z",
     "iopub.status.busy": "2022-01-18T13:16:46.800261Z",
     "iopub.status.idle": "2022-01-18T13:16:46.804463Z",
     "shell.execute_reply": "2022-01-18T13:16:46.803948Z",
     "shell.execute_reply.started": "2022-01-18T13:16:46.800501Z"
    }
   },
   "outputs": [
    {
     "data": {
      "text/plain": [
       "array([50, 52, 54, 56, 58, 60, 62, 64, 66, 68, 70, 72, 74, 76, 78, 80, 82,\n",
       "       84, 86, 88, 90, 92, 94, 96, 98])"
      ]
     },
     "execution_count": 13,
     "metadata": {},
     "output_type": "execute_result"
    }
   ],
   "source": [
    "np.arange(50,100,2)"
   ]
  },
  {
   "cell_type": "markdown",
   "metadata": {},
   "source": [
    "### 2.2.2 Arithmetic with NumPy Arrays <a id=\"numpyarithmetic\"></a>\n",
    "\n",
    "One of the most powerful features of NumPy is that you can treat arrays (and thus matrices and tensors) as you would scalar, and thus you can do batch operations very efficiently. Let's demonstrate with an example:"
   ]
  },
  {
   "cell_type": "code",
   "execution_count": 14,
   "metadata": {
    "collapsed": false,
    "execution": {
     "iopub.execute_input": "2022-01-18T13:16:46.805630Z",
     "iopub.status.busy": "2022-01-18T13:16:46.805474Z",
     "iopub.status.idle": "2022-01-18T13:16:46.809596Z",
     "shell.execute_reply": "2022-01-18T13:16:46.809059Z",
     "shell.execute_reply.started": "2022-01-18T13:16:46.805609Z"
    },
    "jupyter": {
     "outputs_hidden": false
    },
    "tags": []
   },
   "outputs": [
    {
     "data": {
      "text/plain": [
       "array([[1., 2., 3.],\n",
       "       [4., 5., 6.]])"
      ]
     },
     "execution_count": 14,
     "metadata": {},
     "output_type": "execute_result"
    }
   ],
   "source": [
    "# Let's create a 2D array\n",
    "arr = np.array([[1., 2., 3.], [4., 5., 6.]])\n",
    "arr"
   ]
  },
  {
   "cell_type": "markdown",
   "metadata": {},
   "source": [
    "If we multiply two arrays, the result is that each number in the first array is multiplied by the number in the same position of the second array. This is known as an elementwise operation. So for instance we can square our array:"
   ]
  },
  {
   "cell_type": "code",
   "execution_count": 15,
   "metadata": {
    "collapsed": false,
    "execution": {
     "iopub.execute_input": "2022-01-18T13:16:46.810805Z",
     "iopub.status.busy": "2022-01-18T13:16:46.810628Z",
     "iopub.status.idle": "2022-01-18T13:16:46.814114Z",
     "shell.execute_reply": "2022-01-18T13:16:46.813610Z",
     "shell.execute_reply.started": "2022-01-18T13:16:46.810784Z"
    },
    "jupyter": {
     "outputs_hidden": false
    },
    "tags": []
   },
   "outputs": [
    {
     "data": {
      "text/plain": [
       "array([[ 1.,  4.,  9.],\n",
       "       [16., 25., 36.]])"
      ]
     },
     "execution_count": 15,
     "metadata": {},
     "output_type": "execute_result"
    }
   ],
   "source": [
    "arr * arr"
   ]
  },
  {
   "cell_type": "markdown",
   "metadata": {},
   "source": [
    "And if we subtract values, the same rule applies. Try to predict the result of this cell before you run it."
   ]
  },
  {
   "cell_type": "code",
   "execution_count": 16,
   "metadata": {
    "collapsed": false,
    "execution": {
     "iopub.execute_input": "2022-01-18T13:16:46.815314Z",
     "iopub.status.busy": "2022-01-18T13:16:46.815124Z",
     "iopub.status.idle": "2022-01-18T13:16:46.818976Z",
     "shell.execute_reply": "2022-01-18T13:16:46.818395Z",
     "shell.execute_reply.started": "2022-01-18T13:16:46.815293Z"
    },
    "jupyter": {
     "outputs_hidden": false
    },
    "tags": []
   },
   "outputs": [
    {
     "data": {
      "text/plain": [
       "array([[0., 0., 0.],\n",
       "       [0., 0., 0.]])"
      ]
     },
     "execution_count": 16,
     "metadata": {},
     "output_type": "execute_result"
    }
   ],
   "source": [
    "arr - arr"
   ]
  },
  {
   "cell_type": "markdown",
   "metadata": {},
   "source": [
    "Arithmetic operations that use scalars propagate the scalar in the operation. For instance, the math below will result in 1/x for all x's in the array:"
   ]
  },
  {
   "cell_type": "code",
   "execution_count": 17,
   "metadata": {
    "collapsed": false,
    "execution": {
     "iopub.execute_input": "2022-01-18T13:16:46.820219Z",
     "iopub.status.busy": "2022-01-18T13:16:46.820027Z",
     "iopub.status.idle": "2022-01-18T13:16:46.823786Z",
     "shell.execute_reply": "2022-01-18T13:16:46.823179Z",
     "shell.execute_reply.started": "2022-01-18T13:16:46.820196Z"
    },
    "jupyter": {
     "outputs_hidden": false
    },
    "tags": []
   },
   "outputs": [
    {
     "data": {
      "text/plain": [
       "array([[1.        , 0.5       , 0.33333333],\n",
       "       [0.25      , 0.2       , 0.16666667]])"
      ]
     },
     "execution_count": 17,
     "metadata": {},
     "output_type": "execute_result"
    }
   ],
   "source": [
    "1 / arr"
   ]
  },
  {
   "cell_type": "markdown",
   "metadata": {},
   "source": [
    "And this will put each number in the array to the power of 0.5, which is the same as a square root"
   ]
  },
  {
   "cell_type": "code",
   "execution_count": 18,
   "metadata": {
    "collapsed": false,
    "execution": {
     "iopub.execute_input": "2022-01-18T13:16:46.824979Z",
     "iopub.status.busy": "2022-01-18T13:16:46.824798Z",
     "iopub.status.idle": "2022-01-18T13:16:46.828561Z",
     "shell.execute_reply": "2022-01-18T13:16:46.828076Z",
     "shell.execute_reply.started": "2022-01-18T13:16:46.824957Z"
    },
    "jupyter": {
     "outputs_hidden": false
    }
   },
   "outputs": [
    {
     "data": {
      "text/plain": [
       "array([[1.        , 1.41421356, 1.73205081],\n",
       "       [2.        , 2.23606798, 2.44948974]])"
      ]
     },
     "execution_count": 18,
     "metadata": {},
     "output_type": "execute_result"
    }
   ],
   "source": [
    "arr ** 0.5"
   ]
  },
  {
   "cell_type": "markdown",
   "metadata": {},
   "source": [
    "### 2.2.3 Mathematical and Statistical Methods <a id=\"npstatisticalmethods\"></a>\n",
    "\n",
    "NumPy arrays come with a range of built-in mathematical and statistical methods that can be extremely useful. Let's first create an array for random numbers"
   ]
  },
  {
   "cell_type": "code",
   "execution_count": 14,
   "metadata": {
    "collapsed": false,
    "jupyter": {
     "outputs_hidden": false
    },
    "tags": []
   },
   "outputs": [
    {
     "data": {
      "text/plain": [
       "array([[-0.91119094, -0.81942976, -1.60473418, -0.97773994,  0.82375898,\n",
       "        -0.02777976],\n",
       "       [ 0.07639434, -1.02802189, -0.19270944,  0.80779687,  0.14879463,\n",
       "        -0.10620922],\n",
       "       [ 0.60314561,  1.11227953, -0.3475479 , -0.67635706, -1.1774531 ,\n",
       "        -1.58054119],\n",
       "       [ 0.52804959,  0.14706504,  0.67573566,  1.1620366 ,  1.86569259,\n",
       "         1.38451541],\n",
       "       [-1.34201574, -0.14503541, -0.62681327,  1.27104053,  1.08610799,\n",
       "        -0.25652881]])"
      ]
     },
     "execution_count": 14,
     "metadata": {},
     "output_type": "execute_result"
    }
   ],
   "source": [
    "arr = np.random.randn(5, 6)\n",
    "arr"
   ]
  },
  {
   "cell_type": "markdown",
   "metadata": {},
   "source": [
    "We can easily find the mean of the array with this method:"
   ]
  },
  {
   "cell_type": "code",
   "execution_count": 15,
   "metadata": {
    "collapsed": false,
    "jupyter": {
     "outputs_hidden": false
    },
    "tags": []
   },
   "outputs": [
    {
     "data": {
      "text/plain": [
       "-0.004256473792574197"
      ]
     },
     "execution_count": 15,
     "metadata": {},
     "output_type": "execute_result"
    }
   ],
   "source": [
    "arr.mean()"
   ]
  },
  {
   "cell_type": "markdown",
   "metadata": {},
   "source": [
    "We can also find the sum of all the elements in the array:"
   ]
  },
  {
   "cell_type": "code",
   "execution_count": 16,
   "metadata": {
    "collapsed": false,
    "jupyter": {
     "outputs_hidden": false
    },
    "tags": []
   },
   "outputs": [
    {
     "data": {
      "text/plain": [
       "-0.1276942137772259"
      ]
     },
     "execution_count": 16,
     "metadata": {},
     "output_type": "execute_result"
    }
   ],
   "source": [
    "arr.sum()"
   ]
  },
  {
   "cell_type": "markdown",
   "metadata": {},
   "source": [
    "But what if we are only interested in the sum mean per column? \n",
    "When can pass an axis parameter to the method. Rows are on axis 0, and columns on axis 1. More complex ndarrays can have additional axis (an infinity of them). Taking the mean of each column results in an array of a lower dimension, in our case, a row vector:"
   ]
  },
  {
   "cell_type": "code",
   "execution_count": 17,
   "metadata": {
    "collapsed": false,
    "jupyter": {
     "outputs_hidden": false
    },
    "tags": []
   },
   "outputs": [
    {
     "data": {
      "text/plain": [
       "array([-0.20912343, -0.1466285 , -0.41921382,  0.3173554 ,  0.54938022,\n",
       "       -0.11730871])"
      ]
     },
     "execution_count": 17,
     "metadata": {},
     "output_type": "execute_result"
    }
   ],
   "source": [
    "arr.mean(axis=0)"
   ]
  },
  {
   "cell_type": "markdown",
   "metadata": {},
   "source": [
    "This will produce the sum along each column:"
   ]
  },
  {
   "cell_type": "code",
   "execution_count": 18,
   "metadata": {
    "collapsed": false,
    "jupyter": {
     "outputs_hidden": false
    },
    "tags": []
   },
   "outputs": [
    {
     "data": {
      "text/plain": [
       "array([-3.5171156 , -0.29395471, -2.06647411,  5.7630949 , -0.0132447 ])"
      ]
     },
     "execution_count": 18,
     "metadata": {},
     "output_type": "execute_result"
    }
   ],
   "source": [
    "arr.sum(axis=1)"
   ]
  },
  {
   "cell_type": "markdown",
   "metadata": {},
   "source": [
    "Sometimes it can be useful to look at the cummulative sum at each location in your array, starting from position zero.\n",
    "`cumsum` will do just that, add the previous value to the local value in the array, and propagate the result forward"
   ]
  },
  {
   "cell_type": "code",
   "execution_count": 31,
   "metadata": {
    "collapsed": false,
    "jupyter": {
     "outputs_hidden": false
    },
    "tags": []
   },
   "outputs": [
    {
     "data": {
      "text/plain": [
       "array([ 0,  1,  3,  6, 10, 15, 21, 28], dtype=int32)"
      ]
     },
     "execution_count": 31,
     "metadata": {},
     "output_type": "execute_result"
    }
   ],
   "source": [
    "arr = np.array([0, 1, 2, 3, 4, 5, 6, 7])\n",
    "arr.cumsum()"
   ]
  },
  {
   "cell_type": "markdown",
   "metadata": {},
   "source": [
    "Of course you can also do this on a single axis. Let's create a martix and take the cummulative sum along axis 0:"
   ]
  },
  {
   "cell_type": "code",
   "execution_count": 32,
   "metadata": {
    "collapsed": false,
    "jupyter": {
     "outputs_hidden": false
    },
    "tags": []
   },
   "outputs": [
    {
     "data": {
      "text/plain": [
       "array([[0, 1, 2],\n",
       "       [3, 4, 5],\n",
       "       [6, 7, 8]])"
      ]
     },
     "execution_count": 32,
     "metadata": {},
     "output_type": "execute_result"
    }
   ],
   "source": [
    "arr = np.array([[0, 1, 2], [3, 4, 5], [6, 7, 8]])\n",
    "arr"
   ]
  },
  {
   "cell_type": "code",
   "execution_count": 33,
   "metadata": {
    "collapsed": false,
    "jupyter": {
     "outputs_hidden": false
    },
    "tags": []
   },
   "outputs": [
    {
     "data": {
      "text/plain": [
       "array([[ 0,  1,  2],\n",
       "       [ 3,  5,  7],\n",
       "       [ 9, 12, 15]], dtype=int32)"
      ]
     },
     "execution_count": 33,
     "metadata": {},
     "output_type": "execute_result"
    }
   ],
   "source": [
    "arr.cumsum(axis=0)"
   ]
  },
  {
   "cell_type": "markdown",
   "metadata": {},
   "source": [
    "We can also do a cummulative product. Let's do this along the column axis this time:"
   ]
  },
  {
   "cell_type": "code",
   "execution_count": 34,
   "metadata": {
    "collapsed": false,
    "jupyter": {
     "outputs_hidden": false
    },
    "tags": []
   },
   "outputs": [
    {
     "data": {
      "text/plain": [
       "array([[  0,   0,   0],\n",
       "       [  3,  12,  60],\n",
       "       [  6,  42, 336]], dtype=int32)"
      ]
     },
     "execution_count": 34,
     "metadata": {},
     "output_type": "execute_result"
    }
   ],
   "source": [
    "arr.cumprod(axis=1)"
   ]
  },
  {
   "cell_type": "markdown",
   "metadata": {},
   "source": [
    "## 2.2.4 Indexing and slicing arrays <a id=\"slicing\"></a>\n",
    "\n",
    "It is often useful to 'slice' an array to obtain a smaller, subarray. Whilst doing this, you might also obtain an array with different indexes. As usual for Python, ndarrays are index with 0 being the first position. Let's first look at a simple case where we slice a 1D array. This is not so different than slicing a Python array:"
   ]
  },
  {
   "cell_type": "code",
   "execution_count": 35,
   "metadata": {
    "tags": []
   },
   "outputs": [
    {
     "data": {
      "text/plain": [
       "array([3, 4])"
      ]
     },
     "execution_count": 35,
     "metadata": {},
     "output_type": "execute_result"
    }
   ],
   "source": [
    "# Create an array\n",
    "my_arr = np.array([0,1,2,3,4,5,6,7,8,9])\n",
    "\n",
    "# Slice from 3-4, i.e. start at position 3 and stop at position 4 (remember the last position is not included):\n",
    "my_arr[3:5]"
   ]
  },
  {
   "cell_type": "code",
   "execution_count": 36,
   "metadata": {
    "tags": []
   },
   "outputs": [
    {
     "data": {
      "text/plain": [
       "array([0, 1, 2, 3, 4])"
      ]
     },
     "execution_count": 36,
     "metadata": {},
     "output_type": "execute_result"
    }
   ],
   "source": [
    "# If you omit one of the two terms of the slice, you obtain all values from/to the value you give:\n",
    "my_arr[:5]"
   ]
  },
  {
   "cell_type": "code",
   "execution_count": 37,
   "metadata": {
    "tags": []
   },
   "outputs": [
    {
     "data": {
      "text/plain": [
       "array([4, 5, 6, 7, 8, 9])"
      ]
     },
     "execution_count": 37,
     "metadata": {},
     "output_type": "execute_result"
    }
   ],
   "source": [
    "# Or from the 5th position to the end:\n",
    "my_arr[4:]"
   ]
  },
  {
   "cell_type": "markdown",
   "metadata": {},
   "source": [
    "Note that NumPy arrays can also be sliced and indexed from the last position. So for instance, to know the value of the last element in my array I don't need to know its size, I can simply do this:"
   ]
  },
  {
   "cell_type": "code",
   "execution_count": 38,
   "metadata": {
    "tags": []
   },
   "outputs": [
    {
     "data": {
      "text/plain": [
       "9"
      ]
     },
     "execution_count": 38,
     "metadata": {},
     "output_type": "execute_result"
    }
   ],
   "source": [
    "my_arr[-1]"
   ]
  },
  {
   "cell_type": "markdown",
   "metadata": {},
   "source": [
    "And of course I can index in the same way. For instance, here I take everything from the 2nd (position 1 with zero indexing) to the 6th position (10-3 but the last value is not included):"
   ]
  },
  {
   "cell_type": "code",
   "execution_count": 39,
   "metadata": {
    "tags": []
   },
   "outputs": [
    {
     "data": {
      "text/plain": [
       "array([1, 2, 3, 4, 5, 6])"
      ]
     },
     "execution_count": 39,
     "metadata": {},
     "output_type": "execute_result"
    }
   ],
   "source": [
    "my_arr[1:-3]"
   ]
  },
  {
   "cell_type": "markdown",
   "metadata": {},
   "source": [
    "Arrays with higher dimensions are a bit more trick to deal with."
   ]
  },
  {
   "cell_type": "code",
   "execution_count": 40,
   "metadata": {
    "tags": []
   },
   "outputs": [
    {
     "data": {
      "text/plain": [
       "array([[1, 2, 3],\n",
       "       [4, 5, 6],\n",
       "       [7, 8, 9]])"
      ]
     },
     "execution_count": 40,
     "metadata": {},
     "output_type": "execute_result"
    }
   ],
   "source": [
    "my_arr2 = np.array([[1,2,3],[4,5,6],[7,8,9]])\n",
    "my_arr2"
   ]
  },
  {
   "cell_type": "code",
   "execution_count": 41,
   "metadata": {
    "tags": []
   },
   "outputs": [
    {
     "data": {
      "text/plain": [
       "array([1, 2, 3])"
      ]
     },
     "execution_count": 41,
     "metadata": {},
     "output_type": "execute_result"
    }
   ],
   "source": [
    "# You can extract the columns (axis 1) of this data very simply:\n",
    "my_arr2[0]"
   ]
  },
  {
   "cell_type": "code",
   "execution_count": 42,
   "metadata": {
    "tags": []
   },
   "outputs": [
    {
     "data": {
      "text/plain": [
       "array([[1, 2, 3],\n",
       "       [4, 5, 6]])"
      ]
     },
     "execution_count": 42,
     "metadata": {},
     "output_type": "execute_result"
    }
   ],
   "source": [
    "# You can slice as well, to obtain the first 2 columns for instance:\n",
    "my_arr2[0:2]"
   ]
  },
  {
   "cell_type": "code",
   "execution_count": 43,
   "metadata": {
    "tags": []
   },
   "outputs": [
    {
     "data": {
      "text/plain": [
       "array([[1],\n",
       "       [4]])"
      ]
     },
     "execution_count": 43,
     "metadata": {},
     "output_type": "execute_result"
    }
   ],
   "source": [
    "# You can also slice through the higher dimensions by adding a slice argument separated by a comma. For instance, this \n",
    "# slice will give you the first row of the first 2 columns:\n",
    "my_arr2[0:2,0:1]"
   ]
  },
  {
   "cell_type": "code",
   "execution_count": 53,
   "metadata": {},
   "outputs": [
    {
     "data": {
      "text/plain": [
       "array([[1, 2, 3]])"
      ]
     },
     "execution_count": 53,
     "metadata": {},
     "output_type": "execute_result"
    }
   ],
   "source": [
    "my_arr2[:1]"
   ]
  },
  {
   "cell_type": "code",
   "execution_count": 54,
   "metadata": {},
   "outputs": [
    {
     "data": {
      "text/plain": [
       "array([4, 5, 6])"
      ]
     },
     "execution_count": 54,
     "metadata": {},
     "output_type": "execute_result"
    }
   ],
   "source": [
    "my_arr2[1]"
   ]
  },
  {
   "cell_type": "code",
   "execution_count": 45,
   "metadata": {},
   "outputs": [
    {
     "data": {
      "text/plain": [
       "array([[4, 5, 6],\n",
       "       [7, 8, 9]])"
      ]
     },
     "execution_count": 45,
     "metadata": {},
     "output_type": "execute_result"
    }
   ],
   "source": [
    "my_arr2[1:7]"
   ]
  },
  {
   "cell_type": "code",
   "execution_count": 46,
   "metadata": {},
   "outputs": [
    {
     "data": {
      "text/plain": [
       "array([], shape=(0, 3), dtype=int32)"
      ]
     },
     "execution_count": 46,
     "metadata": {},
     "output_type": "execute_result"
    }
   ],
   "source": [
    "my_arr2[1:1]"
   ]
  },
  {
   "cell_type": "code",
   "execution_count": 47,
   "metadata": {},
   "outputs": [
    {
     "data": {
      "text/plain": [
       "array([[7, 8, 9]])"
      ]
     },
     "execution_count": 47,
     "metadata": {},
     "output_type": "execute_result"
    }
   ],
   "source": [
    "my_arr2[2:3]"
   ]
  },
  {
   "cell_type": "code",
   "execution_count": 49,
   "metadata": {},
   "outputs": [
    {
     "data": {
      "text/plain": [
       "array([[7, 8, 9]])"
      ]
     },
     "execution_count": 49,
     "metadata": {},
     "output_type": "execute_result"
    }
   ],
   "source": [
    "my_arr2[2:]"
   ]
  },
  {
   "cell_type": "code",
   "execution_count": 50,
   "metadata": {},
   "outputs": [
    {
     "data": {
      "text/plain": [
       "array([], shape=(0, 3), dtype=int32)"
      ]
     },
     "execution_count": 50,
     "metadata": {},
     "output_type": "execute_result"
    }
   ],
   "source": [
    "my_arr2[3:6]"
   ]
  },
  {
   "cell_type": "markdown",
   "metadata": {},
   "source": [
    "## Exercise 1 \n",
    "<a id=\"x1\"></a>\n",
    "\n",
    "You now have all the elements to do meaningful calculations using ndarrays. We will apply this to a simple example. You are asked to calculate the sedimentation rate in a given well. For this, you are provided with an ndarry of dimension 2 (a matrix). The first vector column represents the depth below seafloor of a stratigraphic marker [**in meters**]. The second column represents the age of the marker in millions of years.\n",
    "\n",
    "You have two objectives in this exercise:\n",
    "1. To produce a martix that shows the sedimentation rate between each marker in cm/kyr. Note that the units are different than the units you were given above, so you will need to account for that.\n",
    "2. I also want to know what the average sedimentation for this site is.\n",
    "\n",
    "Exercise parameters:\n",
    "1. You cannot use any type of loops\n",
    "2. As a hint, you will need to use indexing and slicing. \n",
    "3. Keep in mind that you can make several different slices from the original dataset. \n",
    "4. Also don't loose sight that a sedimentation rate is calculated *between* two points in a well. So if you have n age points, there will be n-1 sedimentation rates\n"
   ]
  },
  {
   "cell_type": "code",
   "execution_count": 51,
   "metadata": {
    "tags": []
   },
   "outputs": [],
   "source": [
    "# The ndarray below represents age in the first column vs burial depth in the second column\n",
    "age_vs_depth = np.array([[0.5,2.1,3.0,6.1,9.3,12.4,15.3,16.2,16.3,20.1,40.2,41.3,55.2],\n",
    "                         [15.0,35.0,100.3,160.3,180.4,220.5,241.2,255.0,258.3,312.1,312.1,320.3,380.1]])"
   ]
  },
  {
   "cell_type": "code",
   "execution_count": 58,
   "metadata": {
    "tags": []
   },
   "outputs": [
    {
     "data": {
      "text/plain": [
       "array([[ 3.33333333,  6.        ,  2.99102692,  3.80536494,  5.15521064,\n",
       "         5.62358277,  6.34328358,  6.35294118,  6.31049168,  6.44024351,\n",
       "        12.88048702, 12.89416172, 14.52249408]])"
      ]
     },
     "execution_count": 58,
     "metadata": {},
     "output_type": "execute_result"
    }
   ],
   "source": [
    "#Your Code:\n",
    "new_array = age_vs_depth[:1]*100/age_vs_depth[1]\n",
    "new_array"
   ]
  },
  {
   "cell_type": "code",
   "execution_count": 59,
   "metadata": {},
   "outputs": [
    {
     "data": {
      "text/plain": [
       "7.127124721280539"
      ]
     },
     "execution_count": 59,
     "metadata": {},
     "output_type": "execute_result"
    }
   ],
   "source": [
    "new_array.mean()"
   ]
  },
  {
   "cell_type": "markdown",
   "metadata": {},
   "source": [
    "## 2.3 Getting Started with pandas <a id=\"intropandas\"></a>\n",
    "\n",
    "Pandas is a software library written for the Python programming language for data manipulation and analysis. In particular, it offers data structures and operations for manipulating numerical tables and time series. It is free software released under the three-clause BSD license.The name is derived from the term \"panel data\", an econometrics term for data sets that include observations over multiple time periods for the same individual observations.Its name is a play on the phrase \"Python data analysis\" itself. Wes McKinney started building what would become Pandas at AQR Capital while he was a researcher there from 2007 to 2010."
   ]
  },
  {
   "cell_type": "code",
   "execution_count": 60,
   "metadata": {
    "tags": []
   },
   "outputs": [
    {
     "data": {
      "text/html": [
       "\n",
       "        <iframe\n",
       "            width=\"640\"\n",
       "            height=\"360\"\n",
       "            src=\"https://youtube.com/embed/jox3od5OB4k\"\n",
       "            frameborder=\"0\"\n",
       "            allowfullscreen\n",
       "        ></iframe>\n",
       "        "
      ],
      "text/plain": [
       "<IPython.lib.display.IFrame at 0x18d54689d30>"
      ]
     },
     "metadata": {},
     "output_type": "display_data"
    }
   ],
   "source": [
    "from IPython.display import IFrame\n",
    "display(IFrame('https://youtube.com/embed/jox3od5OB4k', width = 640, height = 360))"
   ]
  },
  {
   "cell_type": "markdown",
   "metadata": {},
   "source": [
    "Let's first import Pandas as the entire library. However, we also want to be able to refer to the object 'Series' and 'DataFrame' in Pandas, so we will also import specifically these from Pandas. For this, we use this syntax:\n",
    "\n",
    "```python\n",
    "from your_library import object1, object2, ..., objectX\n",
    "```"
   ]
  },
  {
   "cell_type": "code",
   "execution_count": 61,
   "metadata": {
    "collapsed": false,
    "jupyter": {
     "outputs_hidden": false
    },
    "tags": []
   },
   "outputs": [],
   "source": [
    "import pandas as pd\n",
    "from pandas import Series, DataFrame"
   ]
  },
  {
   "cell_type": "markdown",
   "metadata": {},
   "source": [
    "### 2.3.1 Reading Data into Pandas <a id=\"readpandas\"></a>\n",
    "\n",
    "We could go on with programmatic examples and simple arrays turned into pandas objects. That is what most computing courses do. But we are interested in geological data, so rather than do this, let's learn how we can load REAL data into pandas before we play with it.\n",
    "\n",
    "The data I selected is simply geochemical data collected from the Ocean Drilling Program (ODP) Leg 198 (Walvis Ridge), specifically from ODP Site 1207. The data is stored as a comma separated text file ('.cvs') in the `Data` folder where this notebook is located.\n",
    "\n",
    "Opening the dataset could not be easier:"
   ]
  },
  {
   "cell_type": "code",
   "execution_count": 62,
   "metadata": {
    "collapsed": false,
    "jupyter": {
     "outputs_hidden": false
    },
    "tags": []
   },
   "outputs": [
    {
     "data": {
      "text/html": [
       "<div>\n",
       "<style scoped>\n",
       "    .dataframe tbody tr th:only-of-type {\n",
       "        vertical-align: middle;\n",
       "    }\n",
       "\n",
       "    .dataframe tbody tr th {\n",
       "        vertical-align: top;\n",
       "    }\n",
       "\n",
       "    .dataframe thead th {\n",
       "        text-align: right;\n",
       "    }\n",
       "</style>\n",
       "<table border=\"1\" class=\"dataframe\">\n",
       "  <thead>\n",
       "    <tr style=\"text-align: right;\">\n",
       "      <th></th>\n",
       "      <th>Leg</th>\n",
       "      <th>Site</th>\n",
       "      <th>H</th>\n",
       "      <th>Cor</th>\n",
       "      <th>T</th>\n",
       "      <th>Sc</th>\n",
       "      <th>Top(cm)</th>\n",
       "      <th>Depth (mbsf)</th>\n",
       "      <th>CaCO3 (wt %)</th>\n",
       "    </tr>\n",
       "  </thead>\n",
       "  <tbody>\n",
       "    <tr>\n",
       "      <th>0</th>\n",
       "      <td>198</td>\n",
       "      <td>1207</td>\n",
       "      <td>A</td>\n",
       "      <td>2</td>\n",
       "      <td>H</td>\n",
       "      <td>2</td>\n",
       "      <td>65</td>\n",
       "      <td>6.95</td>\n",
       "      <td>69.630</td>\n",
       "    </tr>\n",
       "    <tr>\n",
       "      <th>1</th>\n",
       "      <td>198</td>\n",
       "      <td>1207</td>\n",
       "      <td>A</td>\n",
       "      <td>2</td>\n",
       "      <td>H</td>\n",
       "      <td>5</td>\n",
       "      <td>33</td>\n",
       "      <td>11.13</td>\n",
       "      <td>49.314</td>\n",
       "    </tr>\n",
       "    <tr>\n",
       "      <th>2</th>\n",
       "      <td>198</td>\n",
       "      <td>1207</td>\n",
       "      <td>A</td>\n",
       "      <td>3</td>\n",
       "      <td>H</td>\n",
       "      <td>1</td>\n",
       "      <td>66</td>\n",
       "      <td>14.96</td>\n",
       "      <td>76.000</td>\n",
       "    </tr>\n",
       "    <tr>\n",
       "      <th>3</th>\n",
       "      <td>198</td>\n",
       "      <td>1207</td>\n",
       "      <td>A</td>\n",
       "      <td>3</td>\n",
       "      <td>H</td>\n",
       "      <td>2</td>\n",
       "      <td>126</td>\n",
       "      <td>17.06</td>\n",
       "      <td>55.478</td>\n",
       "    </tr>\n",
       "    <tr>\n",
       "      <th>4</th>\n",
       "      <td>198</td>\n",
       "      <td>1207</td>\n",
       "      <td>A</td>\n",
       "      <td>3</td>\n",
       "      <td>H</td>\n",
       "      <td>4</td>\n",
       "      <td>70</td>\n",
       "      <td>19.50</td>\n",
       "      <td>46.981</td>\n",
       "    </tr>\n",
       "    <tr>\n",
       "      <th>...</th>\n",
       "      <td>...</td>\n",
       "      <td>...</td>\n",
       "      <td>...</td>\n",
       "      <td>...</td>\n",
       "      <td>...</td>\n",
       "      <td>...</td>\n",
       "      <td>...</td>\n",
       "      <td>...</td>\n",
       "      <td>...</td>\n",
       "    </tr>\n",
       "    <tr>\n",
       "      <th>66</th>\n",
       "      <td>198</td>\n",
       "      <td>1207</td>\n",
       "      <td>B</td>\n",
       "      <td>40</td>\n",
       "      <td>R</td>\n",
       "      <td>CC</td>\n",
       "      <td>30</td>\n",
       "      <td>526.80</td>\n",
       "      <td>60.930</td>\n",
       "    </tr>\n",
       "    <tr>\n",
       "      <th>67</th>\n",
       "      <td>198</td>\n",
       "      <td>1207</td>\n",
       "      <td>B</td>\n",
       "      <td>44</td>\n",
       "      <td>R</td>\n",
       "      <td>1</td>\n",
       "      <td>60</td>\n",
       "      <td>565.60</td>\n",
       "      <td>0.000</td>\n",
       "    </tr>\n",
       "    <tr>\n",
       "      <th>68</th>\n",
       "      <td>198</td>\n",
       "      <td>1207</td>\n",
       "      <td>B</td>\n",
       "      <td>44</td>\n",
       "      <td>R</td>\n",
       "      <td>1</td>\n",
       "      <td>76</td>\n",
       "      <td>565.76</td>\n",
       "      <td>0.000</td>\n",
       "    </tr>\n",
       "    <tr>\n",
       "      <th>69</th>\n",
       "      <td>198</td>\n",
       "      <td>1207</td>\n",
       "      <td>B</td>\n",
       "      <td>44</td>\n",
       "      <td>R</td>\n",
       "      <td>1</td>\n",
       "      <td>103</td>\n",
       "      <td>566.03</td>\n",
       "      <td>0.000</td>\n",
       "    </tr>\n",
       "    <tr>\n",
       "      <th>70</th>\n",
       "      <td>198</td>\n",
       "      <td>1207</td>\n",
       "      <td>B</td>\n",
       "      <td>46</td>\n",
       "      <td>R</td>\n",
       "      <td>1</td>\n",
       "      <td>52</td>\n",
       "      <td>584.72</td>\n",
       "      <td>64.200</td>\n",
       "    </tr>\n",
       "  </tbody>\n",
       "</table>\n",
       "<p>71 rows × 9 columns</p>\n",
       "</div>"
      ],
      "text/plain": [
       "    Leg  Site  H  Cor  T  Sc  Top(cm)  Depth (mbsf)  CaCO3 (wt %)\n",
       "0   198  1207  A    2  H   2       65          6.95        69.630\n",
       "1   198  1207  A    2  H   5       33         11.13        49.314\n",
       "2   198  1207  A    3  H   1       66         14.96        76.000\n",
       "3   198  1207  A    3  H   2      126         17.06        55.478\n",
       "4   198  1207  A    3  H   4       70         19.50        46.981\n",
       "..  ...   ... ..  ... ..  ..      ...           ...           ...\n",
       "66  198  1207  B   40  R  CC       30        526.80        60.930\n",
       "67  198  1207  B   44  R   1       60        565.60         0.000\n",
       "68  198  1207  B   44  R   1       76        565.76         0.000\n",
       "69  198  1207  B   44  R   1      103        566.03         0.000\n",
       "70  198  1207  B   46  R   1       52        584.72        64.200\n",
       "\n",
       "[71 rows x 9 columns]"
      ]
     },
     "execution_count": 62,
     "metadata": {},
     "output_type": "execute_result"
    }
   ],
   "source": [
    "geochemistry_df = pd.read_csv('Data/1207_Geochemistry.csv')\n",
    "geochemistry_df"
   ]
  },
  {
   "cell_type": "markdown",
   "metadata": {},
   "source": [
    "It's almost magical how this happens! This data structure (here the variable named `geochemistry_df` is known as a 'DataFrame', or 'df' for short. You can think of it as an excel spreadsheet on steroid, as it can have more than 2 dimensions (thought it gets hard to visualise it then). The `Dataframe` has an index (here from 0 to 70), and several `Series` which you can think of as the columns. As discussed, this is all backed by a NumPy array.\n",
    "\n",
    "Because we will be using ODP/IODP data extensively in this course, let's define what the different data represent.\n",
    "\n",
    "* **Leg** refers to the particular expedition the drill ship was on. In more recent IODP cruises, this is referred to as the 'Expedition' or 'Exp'.\n",
    "* **Site** means the name of the general area that was drilled, which is a sequential number. Then we have the 'Hole' named 'H' here. A hole is essentially a well, and a site can containt multiple nearby wells.\n",
    "* **Cor** is short for core number \n",
    "* **T** is a letter representing the tool used for coring. \n",
    "* **Sc** designates the section of the core: each 9.8 meters-long core is cut into 1.5 meters sections for easy handling, with the addition of the core catcher ('CC') which represents material not in the core liner. \n",
    "* **Top(cm)** gives the cm down from the top of the section where the sample is located.\n",
    "\n",
    "Thus, an ODP/IODP sample can be fully characterized by the combination of the parameters we have seen so far. for instance, the first sample in this dataframe is ODP Sample **198-1207-A-2-H-2-65**.\n",
    "\n",
    "* **Depth (mbsf)** is the depths below seafloor (in meters) of any sample and it can be calculated if you know the full sample name. \n",
    "* **CaCO3 (wt %)**: Finally, the last series (or column) is the % carbonate data measured at this location. \n",
    "\n",
    "Comma Separated Values (CSV) is a common format, but not the only existing one. In fact, Pandas can read multiple format just as easily, including JSON, Parket, and Excel, amongst others. Let's open a second dataframe but this time using the Excel format:"
   ]
  },
  {
   "cell_type": "code",
   "execution_count": 63,
   "metadata": {
    "tags": []
   },
   "outputs": [
    {
     "data": {
      "text/html": [
       "<div>\n",
       "<style scoped>\n",
       "    .dataframe tbody tr th:only-of-type {\n",
       "        vertical-align: middle;\n",
       "    }\n",
       "\n",
       "    .dataframe tbody tr th {\n",
       "        vertical-align: top;\n",
       "    }\n",
       "\n",
       "    .dataframe thead th {\n",
       "        text-align: right;\n",
       "    }\n",
       "</style>\n",
       "<table border=\"1\" class=\"dataframe\">\n",
       "  <thead>\n",
       "    <tr style=\"text-align: right;\">\n",
       "      <th></th>\n",
       "      <th>Leg</th>\n",
       "      <th>Site</th>\n",
       "      <th>H</th>\n",
       "      <th>Cor</th>\n",
       "      <th>T</th>\n",
       "      <th>Sc</th>\n",
       "      <th>Top(cm)</th>\n",
       "      <th>Depth (mbsf)</th>\n",
       "      <th>Corr. Counts</th>\n",
       "    </tr>\n",
       "  </thead>\n",
       "  <tbody>\n",
       "    <tr>\n",
       "      <th>0</th>\n",
       "      <td>198</td>\n",
       "      <td>1207</td>\n",
       "      <td>A</td>\n",
       "      <td>1</td>\n",
       "      <td>H</td>\n",
       "      <td>1</td>\n",
       "      <td>30</td>\n",
       "      <td>0.3</td>\n",
       "      <td>20.08</td>\n",
       "    </tr>\n",
       "    <tr>\n",
       "      <th>1</th>\n",
       "      <td>198</td>\n",
       "      <td>1207</td>\n",
       "      <td>A</td>\n",
       "      <td>1</td>\n",
       "      <td>H</td>\n",
       "      <td>1</td>\n",
       "      <td>60</td>\n",
       "      <td>0.6</td>\n",
       "      <td>17.48</td>\n",
       "    </tr>\n",
       "    <tr>\n",
       "      <th>2</th>\n",
       "      <td>198</td>\n",
       "      <td>1207</td>\n",
       "      <td>A</td>\n",
       "      <td>1</td>\n",
       "      <td>H</td>\n",
       "      <td>1</td>\n",
       "      <td>90</td>\n",
       "      <td>0.9</td>\n",
       "      <td>17.75</td>\n",
       "    </tr>\n",
       "    <tr>\n",
       "      <th>3</th>\n",
       "      <td>198</td>\n",
       "      <td>1207</td>\n",
       "      <td>A</td>\n",
       "      <td>1</td>\n",
       "      <td>H</td>\n",
       "      <td>1</td>\n",
       "      <td>120</td>\n",
       "      <td>1.2</td>\n",
       "      <td>20.22</td>\n",
       "    </tr>\n",
       "    <tr>\n",
       "      <th>4</th>\n",
       "      <td>198</td>\n",
       "      <td>1207</td>\n",
       "      <td>A</td>\n",
       "      <td>1</td>\n",
       "      <td>H</td>\n",
       "      <td>2</td>\n",
       "      <td>30</td>\n",
       "      <td>1.8</td>\n",
       "      <td>19.22</td>\n",
       "    </tr>\n",
       "    <tr>\n",
       "      <th>...</th>\n",
       "      <td>...</td>\n",
       "      <td>...</td>\n",
       "      <td>...</td>\n",
       "      <td>...</td>\n",
       "      <td>...</td>\n",
       "      <td>...</td>\n",
       "      <td>...</td>\n",
       "      <td>...</td>\n",
       "      <td>...</td>\n",
       "    </tr>\n",
       "    <tr>\n",
       "      <th>741</th>\n",
       "      <td>198</td>\n",
       "      <td>1207</td>\n",
       "      <td>B</td>\n",
       "      <td>49</td>\n",
       "      <td>R</td>\n",
       "      <td>1</td>\n",
       "      <td>50</td>\n",
       "      <td>613.7</td>\n",
       "      <td>24.12</td>\n",
       "    </tr>\n",
       "    <tr>\n",
       "      <th>742</th>\n",
       "      <td>198</td>\n",
       "      <td>1207</td>\n",
       "      <td>B</td>\n",
       "      <td>49</td>\n",
       "      <td>R</td>\n",
       "      <td>1</td>\n",
       "      <td>60</td>\n",
       "      <td>613.8</td>\n",
       "      <td>21.45</td>\n",
       "    </tr>\n",
       "    <tr>\n",
       "      <th>743</th>\n",
       "      <td>198</td>\n",
       "      <td>1207</td>\n",
       "      <td>B</td>\n",
       "      <td>49</td>\n",
       "      <td>R</td>\n",
       "      <td>1</td>\n",
       "      <td>70</td>\n",
       "      <td>613.9</td>\n",
       "      <td>15.22</td>\n",
       "    </tr>\n",
       "    <tr>\n",
       "      <th>744</th>\n",
       "      <td>198</td>\n",
       "      <td>1207</td>\n",
       "      <td>B</td>\n",
       "      <td>49</td>\n",
       "      <td>R</td>\n",
       "      <td>1</td>\n",
       "      <td>80</td>\n",
       "      <td>614.0</td>\n",
       "      <td>11.92</td>\n",
       "    </tr>\n",
       "    <tr>\n",
       "      <th>745</th>\n",
       "      <td>198</td>\n",
       "      <td>1207</td>\n",
       "      <td>B</td>\n",
       "      <td>49</td>\n",
       "      <td>R</td>\n",
       "      <td>1</td>\n",
       "      <td>90</td>\n",
       "      <td>614.1</td>\n",
       "      <td>10.35</td>\n",
       "    </tr>\n",
       "  </tbody>\n",
       "</table>\n",
       "<p>746 rows × 9 columns</p>\n",
       "</div>"
      ],
      "text/plain": [
       "     Leg  Site  H  Cor  T  Sc  Top(cm)  Depth (mbsf)  Corr. Counts\n",
       "0    198  1207  A    1  H   1       30           0.3         20.08\n",
       "1    198  1207  A    1  H   1       60           0.6         17.48\n",
       "2    198  1207  A    1  H   1       90           0.9         17.75\n",
       "3    198  1207  A    1  H   1      120           1.2         20.22\n",
       "4    198  1207  A    1  H   2       30           1.8         19.22\n",
       "..   ...   ... ..  ... ..  ..      ...           ...           ...\n",
       "741  198  1207  B   49  R   1       50         613.7         24.12\n",
       "742  198  1207  B   49  R   1       60         613.8         21.45\n",
       "743  198  1207  B   49  R   1       70         613.9         15.22\n",
       "744  198  1207  B   49  R   1       80         614.0         11.92\n",
       "745  198  1207  B   49  R   1       90         614.1         10.35\n",
       "\n",
       "[746 rows x 9 columns]"
      ]
     },
     "execution_count": 63,
     "metadata": {},
     "output_type": "execute_result"
    }
   ],
   "source": [
    "ngr_df = pd.read_excel('Data/1207_NGR.xls')\n",
    "ngr_df"
   ]
  },
  {
   "cell_type": "markdown",
   "metadata": {},
   "source": [
    "As you can see, it was just as easy. Excel and CSV are probably some of the most common format you will be using. Note that it is easier to open the old '.xls' files than the newer '.xlsx' files and this is done on purpose: you can install an extension to open the xlsx but it is not recommended as there are potential safety issues around this.\n",
    "\n",
    "The only column that is different fom the previous dataframe is the last one, the 'Corr. Counts' or 'corrected counts':\n",
    "* **Corr. Counts** is the natural gamma radiation measured on the cores. "
   ]
  },
  {
   "cell_type": "markdown",
   "metadata": {},
   "source": [
    "### 2.3.2 Dropping Entries from an Axis <a id=\"dropping\"></a>\n",
    "\n",
    "Sometimes you want to drop an entry from a dataframe. For instance, to drop the hole name (well name) from the dataset, we can use the 'drop' command in two ways:\n",
    "```python\n",
    "df.drop(columns=['column1', 'column2', ...])\n",
    "```\n",
    "Or\n",
    "```python\n",
    "df.drop(['column1', 'column2', ...], axis=1) # Remember that axis 1 is the column axis, axis 0 the rows in a matrix\n",
    "```\n",
    "By default, the 'drop()' method is applied to the rows. So if you don't stipulate the axis, you can use to to drop rows like this:\n",
    "```python\n",
    "df.drop(['row1', 'row2', ...]) \n",
    "```\n",
    "Of course if you give it a column name you will receive an error. However, the drop() command can have a bit of a counter intuitive effect. Let's try to drop the well name below, and see if the result is what you expect:"
   ]
  },
  {
   "cell_type": "code",
   "execution_count": 47,
   "metadata": {
    "collapsed": false,
    "execution": {
     "iopub.execute_input": "2022-01-18T13:16:47.381360Z",
     "iopub.status.busy": "2022-01-18T13:16:47.381087Z",
     "iopub.status.idle": "2022-01-18T13:16:47.398576Z",
     "shell.execute_reply": "2022-01-18T13:16:47.398014Z",
     "shell.execute_reply.started": "2022-01-18T13:16:47.381333Z"
    },
    "jupyter": {
     "outputs_hidden": false
    },
    "tags": []
   },
   "outputs": [
    {
     "data": {
      "text/html": [
       "<div>\n",
       "<style scoped>\n",
       "    .dataframe tbody tr th:only-of-type {\n",
       "        vertical-align: middle;\n",
       "    }\n",
       "\n",
       "    .dataframe tbody tr th {\n",
       "        vertical-align: top;\n",
       "    }\n",
       "\n",
       "    .dataframe thead th {\n",
       "        text-align: right;\n",
       "    }\n",
       "</style>\n",
       "<table border=\"1\" class=\"dataframe\">\n",
       "  <thead>\n",
       "    <tr style=\"text-align: right;\">\n",
       "      <th></th>\n",
       "      <th>Leg</th>\n",
       "      <th>Site</th>\n",
       "      <th>H</th>\n",
       "      <th>Cor</th>\n",
       "      <th>T</th>\n",
       "      <th>Sc</th>\n",
       "      <th>Top(cm)</th>\n",
       "      <th>Depth (mbsf)</th>\n",
       "      <th>CaCO3 (wt %)</th>\n",
       "    </tr>\n",
       "  </thead>\n",
       "  <tbody>\n",
       "    <tr>\n",
       "      <th>0</th>\n",
       "      <td>198</td>\n",
       "      <td>1207</td>\n",
       "      <td>A</td>\n",
       "      <td>2</td>\n",
       "      <td>H</td>\n",
       "      <td>2</td>\n",
       "      <td>65</td>\n",
       "      <td>6.95</td>\n",
       "      <td>69.630</td>\n",
       "    </tr>\n",
       "    <tr>\n",
       "      <th>1</th>\n",
       "      <td>198</td>\n",
       "      <td>1207</td>\n",
       "      <td>A</td>\n",
       "      <td>2</td>\n",
       "      <td>H</td>\n",
       "      <td>5</td>\n",
       "      <td>33</td>\n",
       "      <td>11.13</td>\n",
       "      <td>49.314</td>\n",
       "    </tr>\n",
       "    <tr>\n",
       "      <th>2</th>\n",
       "      <td>198</td>\n",
       "      <td>1207</td>\n",
       "      <td>A</td>\n",
       "      <td>3</td>\n",
       "      <td>H</td>\n",
       "      <td>1</td>\n",
       "      <td>66</td>\n",
       "      <td>14.96</td>\n",
       "      <td>76.000</td>\n",
       "    </tr>\n",
       "    <tr>\n",
       "      <th>3</th>\n",
       "      <td>198</td>\n",
       "      <td>1207</td>\n",
       "      <td>A</td>\n",
       "      <td>3</td>\n",
       "      <td>H</td>\n",
       "      <td>2</td>\n",
       "      <td>126</td>\n",
       "      <td>17.06</td>\n",
       "      <td>55.478</td>\n",
       "    </tr>\n",
       "    <tr>\n",
       "      <th>4</th>\n",
       "      <td>198</td>\n",
       "      <td>1207</td>\n",
       "      <td>A</td>\n",
       "      <td>3</td>\n",
       "      <td>H</td>\n",
       "      <td>4</td>\n",
       "      <td>70</td>\n",
       "      <td>19.50</td>\n",
       "      <td>46.981</td>\n",
       "    </tr>\n",
       "    <tr>\n",
       "      <th>...</th>\n",
       "      <td>...</td>\n",
       "      <td>...</td>\n",
       "      <td>...</td>\n",
       "      <td>...</td>\n",
       "      <td>...</td>\n",
       "      <td>...</td>\n",
       "      <td>...</td>\n",
       "      <td>...</td>\n",
       "      <td>...</td>\n",
       "    </tr>\n",
       "    <tr>\n",
       "      <th>66</th>\n",
       "      <td>198</td>\n",
       "      <td>1207</td>\n",
       "      <td>B</td>\n",
       "      <td>40</td>\n",
       "      <td>R</td>\n",
       "      <td>CC</td>\n",
       "      <td>30</td>\n",
       "      <td>526.80</td>\n",
       "      <td>60.930</td>\n",
       "    </tr>\n",
       "    <tr>\n",
       "      <th>67</th>\n",
       "      <td>198</td>\n",
       "      <td>1207</td>\n",
       "      <td>B</td>\n",
       "      <td>44</td>\n",
       "      <td>R</td>\n",
       "      <td>1</td>\n",
       "      <td>60</td>\n",
       "      <td>565.60</td>\n",
       "      <td>0.000</td>\n",
       "    </tr>\n",
       "    <tr>\n",
       "      <th>68</th>\n",
       "      <td>198</td>\n",
       "      <td>1207</td>\n",
       "      <td>B</td>\n",
       "      <td>44</td>\n",
       "      <td>R</td>\n",
       "      <td>1</td>\n",
       "      <td>76</td>\n",
       "      <td>565.76</td>\n",
       "      <td>0.000</td>\n",
       "    </tr>\n",
       "    <tr>\n",
       "      <th>69</th>\n",
       "      <td>198</td>\n",
       "      <td>1207</td>\n",
       "      <td>B</td>\n",
       "      <td>44</td>\n",
       "      <td>R</td>\n",
       "      <td>1</td>\n",
       "      <td>103</td>\n",
       "      <td>566.03</td>\n",
       "      <td>0.000</td>\n",
       "    </tr>\n",
       "    <tr>\n",
       "      <th>70</th>\n",
       "      <td>198</td>\n",
       "      <td>1207</td>\n",
       "      <td>B</td>\n",
       "      <td>46</td>\n",
       "      <td>R</td>\n",
       "      <td>1</td>\n",
       "      <td>52</td>\n",
       "      <td>584.72</td>\n",
       "      <td>64.200</td>\n",
       "    </tr>\n",
       "  </tbody>\n",
       "</table>\n",
       "<p>71 rows × 9 columns</p>\n",
       "</div>"
      ],
      "text/plain": [
       "    Leg  Site  H  Cor  T  Sc  Top(cm)  Depth (mbsf)  CaCO3 (wt %)\n",
       "0   198  1207  A    2  H   2       65          6.95        69.630\n",
       "1   198  1207  A    2  H   5       33         11.13        49.314\n",
       "2   198  1207  A    3  H   1       66         14.96        76.000\n",
       "3   198  1207  A    3  H   2      126         17.06        55.478\n",
       "4   198  1207  A    3  H   4       70         19.50        46.981\n",
       "..  ...   ... ..  ... ..  ..      ...           ...           ...\n",
       "66  198  1207  B   40  R  CC       30        526.80        60.930\n",
       "67  198  1207  B   44  R   1       60        565.60         0.000\n",
       "68  198  1207  B   44  R   1       76        565.76         0.000\n",
       "69  198  1207  B   44  R   1      103        566.03         0.000\n",
       "70  198  1207  B   46  R   1       52        584.72        64.200\n",
       "\n",
       "[71 rows x 9 columns]"
      ]
     },
     "execution_count": 47,
     "metadata": {},
     "output_type": "execute_result"
    }
   ],
   "source": [
    "geochemistry_df.drop(columns=['H'])\n",
    "geochemistry_df"
   ]
  },
  {
   "cell_type": "markdown",
   "metadata": {
    "jupyter": {
     "outputs_hidden": false
    }
   },
   "source": [
    "Can you spot the problem? The `H` column is still in our dataframe. So what did we do wrong? \n",
    "\n",
    "### Operations 'in place' in Pandas\n",
    "\n",
    "Surprisingly, the fact that the colum `H` above is not dropped is a big feature of Pandas. It comes from one of the core concept of functional programming that stipulates that data structures should remain unchanged, i.e. are 'immutable'. So the natural default for most Pandas operations is to not change the existing dataframe, and instead return a new structure. So to understand the behaviour we have above, let's break down what happened:\n",
    "\n",
    "* We asked Pandas to drop column `H` from our dataframr\n",
    "* Pandas created a copy of our dataframe\n",
    "* Pandas droped `H` from the copy\n",
    "* We asked Pandas to display the original `geochemistry_df` which of course is unchanged.\n",
    "\n",
    "So how to we deal with this? There are two ways to do that. First and probably the best way, we simply capture the new dataframe in a new variable:"
   ]
  },
  {
   "cell_type": "code",
   "execution_count": 64,
   "metadata": {
    "tags": []
   },
   "outputs": [
    {
     "data": {
      "text/html": [
       "<div>\n",
       "<style scoped>\n",
       "    .dataframe tbody tr th:only-of-type {\n",
       "        vertical-align: middle;\n",
       "    }\n",
       "\n",
       "    .dataframe tbody tr th {\n",
       "        vertical-align: top;\n",
       "    }\n",
       "\n",
       "    .dataframe thead th {\n",
       "        text-align: right;\n",
       "    }\n",
       "</style>\n",
       "<table border=\"1\" class=\"dataframe\">\n",
       "  <thead>\n",
       "    <tr style=\"text-align: right;\">\n",
       "      <th></th>\n",
       "      <th>Leg</th>\n",
       "      <th>Site</th>\n",
       "      <th>Cor</th>\n",
       "      <th>T</th>\n",
       "      <th>Sc</th>\n",
       "      <th>Top(cm)</th>\n",
       "      <th>Depth (mbsf)</th>\n",
       "      <th>CaCO3 (wt %)</th>\n",
       "    </tr>\n",
       "  </thead>\n",
       "  <tbody>\n",
       "    <tr>\n",
       "      <th>0</th>\n",
       "      <td>198</td>\n",
       "      <td>1207</td>\n",
       "      <td>2</td>\n",
       "      <td>H</td>\n",
       "      <td>2</td>\n",
       "      <td>65</td>\n",
       "      <td>6.95</td>\n",
       "      <td>69.630</td>\n",
       "    </tr>\n",
       "    <tr>\n",
       "      <th>1</th>\n",
       "      <td>198</td>\n",
       "      <td>1207</td>\n",
       "      <td>2</td>\n",
       "      <td>H</td>\n",
       "      <td>5</td>\n",
       "      <td>33</td>\n",
       "      <td>11.13</td>\n",
       "      <td>49.314</td>\n",
       "    </tr>\n",
       "    <tr>\n",
       "      <th>2</th>\n",
       "      <td>198</td>\n",
       "      <td>1207</td>\n",
       "      <td>3</td>\n",
       "      <td>H</td>\n",
       "      <td>1</td>\n",
       "      <td>66</td>\n",
       "      <td>14.96</td>\n",
       "      <td>76.000</td>\n",
       "    </tr>\n",
       "    <tr>\n",
       "      <th>3</th>\n",
       "      <td>198</td>\n",
       "      <td>1207</td>\n",
       "      <td>3</td>\n",
       "      <td>H</td>\n",
       "      <td>2</td>\n",
       "      <td>126</td>\n",
       "      <td>17.06</td>\n",
       "      <td>55.478</td>\n",
       "    </tr>\n",
       "    <tr>\n",
       "      <th>4</th>\n",
       "      <td>198</td>\n",
       "      <td>1207</td>\n",
       "      <td>3</td>\n",
       "      <td>H</td>\n",
       "      <td>4</td>\n",
       "      <td>70</td>\n",
       "      <td>19.50</td>\n",
       "      <td>46.981</td>\n",
       "    </tr>\n",
       "    <tr>\n",
       "      <th>...</th>\n",
       "      <td>...</td>\n",
       "      <td>...</td>\n",
       "      <td>...</td>\n",
       "      <td>...</td>\n",
       "      <td>...</td>\n",
       "      <td>...</td>\n",
       "      <td>...</td>\n",
       "      <td>...</td>\n",
       "    </tr>\n",
       "    <tr>\n",
       "      <th>66</th>\n",
       "      <td>198</td>\n",
       "      <td>1207</td>\n",
       "      <td>40</td>\n",
       "      <td>R</td>\n",
       "      <td>CC</td>\n",
       "      <td>30</td>\n",
       "      <td>526.80</td>\n",
       "      <td>60.930</td>\n",
       "    </tr>\n",
       "    <tr>\n",
       "      <th>67</th>\n",
       "      <td>198</td>\n",
       "      <td>1207</td>\n",
       "      <td>44</td>\n",
       "      <td>R</td>\n",
       "      <td>1</td>\n",
       "      <td>60</td>\n",
       "      <td>565.60</td>\n",
       "      <td>0.000</td>\n",
       "    </tr>\n",
       "    <tr>\n",
       "      <th>68</th>\n",
       "      <td>198</td>\n",
       "      <td>1207</td>\n",
       "      <td>44</td>\n",
       "      <td>R</td>\n",
       "      <td>1</td>\n",
       "      <td>76</td>\n",
       "      <td>565.76</td>\n",
       "      <td>0.000</td>\n",
       "    </tr>\n",
       "    <tr>\n",
       "      <th>69</th>\n",
       "      <td>198</td>\n",
       "      <td>1207</td>\n",
       "      <td>44</td>\n",
       "      <td>R</td>\n",
       "      <td>1</td>\n",
       "      <td>103</td>\n",
       "      <td>566.03</td>\n",
       "      <td>0.000</td>\n",
       "    </tr>\n",
       "    <tr>\n",
       "      <th>70</th>\n",
       "      <td>198</td>\n",
       "      <td>1207</td>\n",
       "      <td>46</td>\n",
       "      <td>R</td>\n",
       "      <td>1</td>\n",
       "      <td>52</td>\n",
       "      <td>584.72</td>\n",
       "      <td>64.200</td>\n",
       "    </tr>\n",
       "  </tbody>\n",
       "</table>\n",
       "<p>71 rows × 8 columns</p>\n",
       "</div>"
      ],
      "text/plain": [
       "    Leg  Site  Cor  T  Sc  Top(cm)  Depth (mbsf)  CaCO3 (wt %)\n",
       "0   198  1207    2  H   2       65          6.95        69.630\n",
       "1   198  1207    2  H   5       33         11.13        49.314\n",
       "2   198  1207    3  H   1       66         14.96        76.000\n",
       "3   198  1207    3  H   2      126         17.06        55.478\n",
       "4   198  1207    3  H   4       70         19.50        46.981\n",
       "..  ...   ...  ... ..  ..      ...           ...           ...\n",
       "66  198  1207   40  R  CC       30        526.80        60.930\n",
       "67  198  1207   44  R   1       60        565.60         0.000\n",
       "68  198  1207   44  R   1       76        565.76         0.000\n",
       "69  198  1207   44  R   1      103        566.03         0.000\n",
       "70  198  1207   46  R   1       52        584.72        64.200\n",
       "\n",
       "[71 rows x 8 columns]"
      ]
     },
     "execution_count": 64,
     "metadata": {},
     "output_type": "execute_result"
    }
   ],
   "source": [
    "mod_df = geochemistry_df.drop(columns=['H'])\n",
    "mod_df"
   ]
  },
  {
   "cell_type": "markdown",
   "metadata": {},
   "source": [
    "It worked! But imagine now a situation where we have a dataset of several gigabites. What would happen then? Because we created a copy of this dataframe and kept the original copy in memory, we are going to run out of computer memory very soon.\n",
    "\n",
    "This is why sometimes it makes sense to do operations no the actual data itself. Of course, one approach is to reassign the new dataframe to the same variable name:"
   ]
  },
  {
   "cell_type": "code",
   "execution_count": 65,
   "metadata": {
    "tags": []
   },
   "outputs": [
    {
     "data": {
      "text/html": [
       "<div>\n",
       "<style scoped>\n",
       "    .dataframe tbody tr th:only-of-type {\n",
       "        vertical-align: middle;\n",
       "    }\n",
       "\n",
       "    .dataframe tbody tr th {\n",
       "        vertical-align: top;\n",
       "    }\n",
       "\n",
       "    .dataframe thead th {\n",
       "        text-align: right;\n",
       "    }\n",
       "</style>\n",
       "<table border=\"1\" class=\"dataframe\">\n",
       "  <thead>\n",
       "    <tr style=\"text-align: right;\">\n",
       "      <th></th>\n",
       "      <th>Leg</th>\n",
       "      <th>Site</th>\n",
       "      <th>Cor</th>\n",
       "      <th>T</th>\n",
       "      <th>Sc</th>\n",
       "      <th>Top(cm)</th>\n",
       "      <th>Depth (mbsf)</th>\n",
       "      <th>CaCO3 (wt %)</th>\n",
       "    </tr>\n",
       "  </thead>\n",
       "  <tbody>\n",
       "    <tr>\n",
       "      <th>0</th>\n",
       "      <td>198</td>\n",
       "      <td>1207</td>\n",
       "      <td>2</td>\n",
       "      <td>H</td>\n",
       "      <td>2</td>\n",
       "      <td>65</td>\n",
       "      <td>6.95</td>\n",
       "      <td>69.630</td>\n",
       "    </tr>\n",
       "    <tr>\n",
       "      <th>1</th>\n",
       "      <td>198</td>\n",
       "      <td>1207</td>\n",
       "      <td>2</td>\n",
       "      <td>H</td>\n",
       "      <td>5</td>\n",
       "      <td>33</td>\n",
       "      <td>11.13</td>\n",
       "      <td>49.314</td>\n",
       "    </tr>\n",
       "    <tr>\n",
       "      <th>2</th>\n",
       "      <td>198</td>\n",
       "      <td>1207</td>\n",
       "      <td>3</td>\n",
       "      <td>H</td>\n",
       "      <td>1</td>\n",
       "      <td>66</td>\n",
       "      <td>14.96</td>\n",
       "      <td>76.000</td>\n",
       "    </tr>\n",
       "    <tr>\n",
       "      <th>3</th>\n",
       "      <td>198</td>\n",
       "      <td>1207</td>\n",
       "      <td>3</td>\n",
       "      <td>H</td>\n",
       "      <td>2</td>\n",
       "      <td>126</td>\n",
       "      <td>17.06</td>\n",
       "      <td>55.478</td>\n",
       "    </tr>\n",
       "    <tr>\n",
       "      <th>4</th>\n",
       "      <td>198</td>\n",
       "      <td>1207</td>\n",
       "      <td>3</td>\n",
       "      <td>H</td>\n",
       "      <td>4</td>\n",
       "      <td>70</td>\n",
       "      <td>19.50</td>\n",
       "      <td>46.981</td>\n",
       "    </tr>\n",
       "    <tr>\n",
       "      <th>...</th>\n",
       "      <td>...</td>\n",
       "      <td>...</td>\n",
       "      <td>...</td>\n",
       "      <td>...</td>\n",
       "      <td>...</td>\n",
       "      <td>...</td>\n",
       "      <td>...</td>\n",
       "      <td>...</td>\n",
       "    </tr>\n",
       "    <tr>\n",
       "      <th>66</th>\n",
       "      <td>198</td>\n",
       "      <td>1207</td>\n",
       "      <td>40</td>\n",
       "      <td>R</td>\n",
       "      <td>CC</td>\n",
       "      <td>30</td>\n",
       "      <td>526.80</td>\n",
       "      <td>60.930</td>\n",
       "    </tr>\n",
       "    <tr>\n",
       "      <th>67</th>\n",
       "      <td>198</td>\n",
       "      <td>1207</td>\n",
       "      <td>44</td>\n",
       "      <td>R</td>\n",
       "      <td>1</td>\n",
       "      <td>60</td>\n",
       "      <td>565.60</td>\n",
       "      <td>0.000</td>\n",
       "    </tr>\n",
       "    <tr>\n",
       "      <th>68</th>\n",
       "      <td>198</td>\n",
       "      <td>1207</td>\n",
       "      <td>44</td>\n",
       "      <td>R</td>\n",
       "      <td>1</td>\n",
       "      <td>76</td>\n",
       "      <td>565.76</td>\n",
       "      <td>0.000</td>\n",
       "    </tr>\n",
       "    <tr>\n",
       "      <th>69</th>\n",
       "      <td>198</td>\n",
       "      <td>1207</td>\n",
       "      <td>44</td>\n",
       "      <td>R</td>\n",
       "      <td>1</td>\n",
       "      <td>103</td>\n",
       "      <td>566.03</td>\n",
       "      <td>0.000</td>\n",
       "    </tr>\n",
       "    <tr>\n",
       "      <th>70</th>\n",
       "      <td>198</td>\n",
       "      <td>1207</td>\n",
       "      <td>46</td>\n",
       "      <td>R</td>\n",
       "      <td>1</td>\n",
       "      <td>52</td>\n",
       "      <td>584.72</td>\n",
       "      <td>64.200</td>\n",
       "    </tr>\n",
       "  </tbody>\n",
       "</table>\n",
       "<p>71 rows × 8 columns</p>\n",
       "</div>"
      ],
      "text/plain": [
       "    Leg  Site  Cor  T  Sc  Top(cm)  Depth (mbsf)  CaCO3 (wt %)\n",
       "0   198  1207    2  H   2       65          6.95        69.630\n",
       "1   198  1207    2  H   5       33         11.13        49.314\n",
       "2   198  1207    3  H   1       66         14.96        76.000\n",
       "3   198  1207    3  H   2      126         17.06        55.478\n",
       "4   198  1207    3  H   4       70         19.50        46.981\n",
       "..  ...   ...  ... ..  ..      ...           ...           ...\n",
       "66  198  1207   40  R  CC       30        526.80        60.930\n",
       "67  198  1207   44  R   1       60        565.60         0.000\n",
       "68  198  1207   44  R   1       76        565.76         0.000\n",
       "69  198  1207   44  R   1      103        566.03         0.000\n",
       "70  198  1207   46  R   1       52        584.72        64.200\n",
       "\n",
       "[71 rows x 8 columns]"
      ]
     },
     "execution_count": 65,
     "metadata": {},
     "output_type": "execute_result"
    }
   ],
   "source": [
    "geochemistry_df = geochemistry_df.drop(columns=['H'])\n",
    "geochemistry_df"
   ]
  },
  {
   "cell_type": "markdown",
   "metadata": {},
   "source": [
    "But there is a more elegant solution: using the Pandas `inplace` keyword. `inplace` works with most operations in Pandas that would normally return a copy of the data. In other words, the default value for `inplace` is `False` because it returns a copy of the data. Let's do this for our dataset:"
   ]
  },
  {
   "cell_type": "code",
   "execution_count": 67,
   "metadata": {
    "tags": []
   },
   "outputs": [
    {
     "data": {
      "text/html": [
       "<div>\n",
       "<style scoped>\n",
       "    .dataframe tbody tr th:only-of-type {\n",
       "        vertical-align: middle;\n",
       "    }\n",
       "\n",
       "    .dataframe tbody tr th {\n",
       "        vertical-align: top;\n",
       "    }\n",
       "\n",
       "    .dataframe thead th {\n",
       "        text-align: right;\n",
       "    }\n",
       "</style>\n",
       "<table border=\"1\" class=\"dataframe\">\n",
       "  <thead>\n",
       "    <tr style=\"text-align: right;\">\n",
       "      <th></th>\n",
       "      <th>Leg</th>\n",
       "      <th>Site</th>\n",
       "      <th>Cor</th>\n",
       "      <th>T</th>\n",
       "      <th>Sc</th>\n",
       "      <th>Top(cm)</th>\n",
       "      <th>Depth (mbsf)</th>\n",
       "      <th>CaCO3 (wt %)</th>\n",
       "    </tr>\n",
       "  </thead>\n",
       "  <tbody>\n",
       "    <tr>\n",
       "      <th>0</th>\n",
       "      <td>198</td>\n",
       "      <td>1207</td>\n",
       "      <td>2</td>\n",
       "      <td>H</td>\n",
       "      <td>2</td>\n",
       "      <td>65</td>\n",
       "      <td>6.95</td>\n",
       "      <td>69.630</td>\n",
       "    </tr>\n",
       "    <tr>\n",
       "      <th>1</th>\n",
       "      <td>198</td>\n",
       "      <td>1207</td>\n",
       "      <td>2</td>\n",
       "      <td>H</td>\n",
       "      <td>5</td>\n",
       "      <td>33</td>\n",
       "      <td>11.13</td>\n",
       "      <td>49.314</td>\n",
       "    </tr>\n",
       "    <tr>\n",
       "      <th>2</th>\n",
       "      <td>198</td>\n",
       "      <td>1207</td>\n",
       "      <td>3</td>\n",
       "      <td>H</td>\n",
       "      <td>1</td>\n",
       "      <td>66</td>\n",
       "      <td>14.96</td>\n",
       "      <td>76.000</td>\n",
       "    </tr>\n",
       "    <tr>\n",
       "      <th>3</th>\n",
       "      <td>198</td>\n",
       "      <td>1207</td>\n",
       "      <td>3</td>\n",
       "      <td>H</td>\n",
       "      <td>2</td>\n",
       "      <td>126</td>\n",
       "      <td>17.06</td>\n",
       "      <td>55.478</td>\n",
       "    </tr>\n",
       "    <tr>\n",
       "      <th>4</th>\n",
       "      <td>198</td>\n",
       "      <td>1207</td>\n",
       "      <td>3</td>\n",
       "      <td>H</td>\n",
       "      <td>4</td>\n",
       "      <td>70</td>\n",
       "      <td>19.50</td>\n",
       "      <td>46.981</td>\n",
       "    </tr>\n",
       "    <tr>\n",
       "      <th>...</th>\n",
       "      <td>...</td>\n",
       "      <td>...</td>\n",
       "      <td>...</td>\n",
       "      <td>...</td>\n",
       "      <td>...</td>\n",
       "      <td>...</td>\n",
       "      <td>...</td>\n",
       "      <td>...</td>\n",
       "    </tr>\n",
       "    <tr>\n",
       "      <th>66</th>\n",
       "      <td>198</td>\n",
       "      <td>1207</td>\n",
       "      <td>40</td>\n",
       "      <td>R</td>\n",
       "      <td>CC</td>\n",
       "      <td>30</td>\n",
       "      <td>526.80</td>\n",
       "      <td>60.930</td>\n",
       "    </tr>\n",
       "    <tr>\n",
       "      <th>67</th>\n",
       "      <td>198</td>\n",
       "      <td>1207</td>\n",
       "      <td>44</td>\n",
       "      <td>R</td>\n",
       "      <td>1</td>\n",
       "      <td>60</td>\n",
       "      <td>565.60</td>\n",
       "      <td>0.000</td>\n",
       "    </tr>\n",
       "    <tr>\n",
       "      <th>68</th>\n",
       "      <td>198</td>\n",
       "      <td>1207</td>\n",
       "      <td>44</td>\n",
       "      <td>R</td>\n",
       "      <td>1</td>\n",
       "      <td>76</td>\n",
       "      <td>565.76</td>\n",
       "      <td>0.000</td>\n",
       "    </tr>\n",
       "    <tr>\n",
       "      <th>69</th>\n",
       "      <td>198</td>\n",
       "      <td>1207</td>\n",
       "      <td>44</td>\n",
       "      <td>R</td>\n",
       "      <td>1</td>\n",
       "      <td>103</td>\n",
       "      <td>566.03</td>\n",
       "      <td>0.000</td>\n",
       "    </tr>\n",
       "    <tr>\n",
       "      <th>70</th>\n",
       "      <td>198</td>\n",
       "      <td>1207</td>\n",
       "      <td>46</td>\n",
       "      <td>R</td>\n",
       "      <td>1</td>\n",
       "      <td>52</td>\n",
       "      <td>584.72</td>\n",
       "      <td>64.200</td>\n",
       "    </tr>\n",
       "  </tbody>\n",
       "</table>\n",
       "<p>71 rows × 8 columns</p>\n",
       "</div>"
      ],
      "text/plain": [
       "    Leg  Site  Cor  T  Sc  Top(cm)  Depth (mbsf)  CaCO3 (wt %)\n",
       "0   198  1207    2  H   2       65          6.95        69.630\n",
       "1   198  1207    2  H   5       33         11.13        49.314\n",
       "2   198  1207    3  H   1       66         14.96        76.000\n",
       "3   198  1207    3  H   2      126         17.06        55.478\n",
       "4   198  1207    3  H   4       70         19.50        46.981\n",
       "..  ...   ...  ... ..  ..      ...           ...           ...\n",
       "66  198  1207   40  R  CC       30        526.80        60.930\n",
       "67  198  1207   44  R   1       60        565.60         0.000\n",
       "68  198  1207   44  R   1       76        565.76         0.000\n",
       "69  198  1207   44  R   1      103        566.03         0.000\n",
       "70  198  1207   46  R   1       52        584.72        64.200\n",
       "\n",
       "[71 rows x 8 columns]"
      ]
     },
     "execution_count": 67,
     "metadata": {},
     "output_type": "execute_result"
    }
   ],
   "source": [
    "# I need to reload the data as I already dropped 'H' in my previous example:\n",
    "geochemistry_df = pd.read_csv('Data/1207_Geochemistry.csv')\n",
    "\n",
    "# Using 'inplace':\n",
    "geochemistry_df.drop(columns=['H'], inplace=True)\n",
    "geochemistry_df"
   ]
  },
  {
   "cell_type": "markdown",
   "metadata": {},
   "source": [
    "As you can see, this now works as expected. Be careful though, it is easy to get confused with the return values. When `inplace` is `False` the function returns a new dataframe. But when it is true, it returns nothing. So don't combined the two methods, as in the example below:"
   ]
  },
  {
   "cell_type": "code",
   "execution_count": 68,
   "metadata": {
    "tags": []
   },
   "outputs": [
    {
     "data": {
      "text/plain": [
       "pandas.core.frame.DataFrame"
      ]
     },
     "execution_count": 68,
     "metadata": {},
     "output_type": "execute_result"
    }
   ],
   "source": [
    "# Do Not Do This\n",
    "\n",
    "# I need to reload the data as I already dropped 'H' in my previous example:\n",
    "geochemistry_df = pd.read_csv('Data/1207_Geochemistry.csv')\n",
    "\n",
    "# Using 'inplace' and assigning it to the same variable name:\n",
    "geochemistry_df = geochemistry_df.drop(columns=['H'], inplace=False)\n",
    "\n",
    "# Let's check of what type this new data is\n",
    "type(geochemistry_df)"
   ]
  },
  {
   "cell_type": "code",
   "execution_count": 69,
   "metadata": {},
   "outputs": [
    {
     "data": {
      "text/plain": [
       "NoneType"
      ]
     },
     "execution_count": 69,
     "metadata": {},
     "output_type": "execute_result"
    }
   ],
   "source": [
    "# Do Not Do This\n",
    "\n",
    "# I need to reload the data as I already dropped 'H' in my previous example:\n",
    "geochemistry_df = pd.read_csv('Data/1207_Geochemistry.csv')\n",
    "\n",
    "# Using 'inplace' and assigning it to the same variable name:\n",
    "geochemistry_df = geochemistry_df.drop(columns=['H'], inplace=True)\n",
    "\n",
    "# Let's check of what type this new data is\n",
    "type(geochemistry_df)"
   ]
  },
  {
   "cell_type": "markdown",
   "metadata": {
    "execution": {
     "iopub.execute_input": "2022-01-18T11:09:38.859026Z",
     "iopub.status.busy": "2022-01-18T11:09:38.858692Z",
     "iopub.status.idle": "2022-01-18T11:09:38.862355Z",
     "shell.execute_reply": "2022-01-18T11:09:38.861532Z",
     "shell.execute_reply.started": "2022-01-18T11:09:38.858988Z"
    }
   },
   "source": [
    "As you can see, we have a `NoneType` now and of course any operations on this would not work. Let's reload our `geochemistry_df`:"
   ]
  },
  {
   "cell_type": "code",
   "execution_count": 78,
   "metadata": {
    "tags": []
   },
   "outputs": [],
   "source": [
    "geochemistry_df = pd.read_csv('Data/1207_Geochemistry.csv')"
   ]
  },
  {
   "cell_type": "markdown",
   "metadata": {},
   "source": [
    "## Exercise 2 \n",
    "\n",
    "Reload a fresh version of `geochemistry_df` as we erased it with a `NoneType` before. And create a new dataframe (let's call it `geochemistry_mod_df`) that is a copy of `geochmistry_df` but without the well, core and tool columns. Call this new dataframe `geochemistry_mod_df`."
   ]
  },
  {
   "cell_type": "code",
   "execution_count": 84,
   "metadata": {
    "tags": []
   },
   "outputs": [
    {
     "data": {
      "text/html": [
       "<div>\n",
       "<style scoped>\n",
       "    .dataframe tbody tr th:only-of-type {\n",
       "        vertical-align: middle;\n",
       "    }\n",
       "\n",
       "    .dataframe tbody tr th {\n",
       "        vertical-align: top;\n",
       "    }\n",
       "\n",
       "    .dataframe thead th {\n",
       "        text-align: right;\n",
       "    }\n",
       "</style>\n",
       "<table border=\"1\" class=\"dataframe\">\n",
       "  <thead>\n",
       "    <tr style=\"text-align: right;\">\n",
       "      <th></th>\n",
       "      <th>Leg</th>\n",
       "      <th>H</th>\n",
       "      <th>Sc</th>\n",
       "      <th>Top(cm)</th>\n",
       "      <th>Depth (mbsf)</th>\n",
       "      <th>CaCO3 (wt %)</th>\n",
       "    </tr>\n",
       "  </thead>\n",
       "  <tbody>\n",
       "    <tr>\n",
       "      <th>0</th>\n",
       "      <td>198</td>\n",
       "      <td>A</td>\n",
       "      <td>2</td>\n",
       "      <td>65</td>\n",
       "      <td>6.95</td>\n",
       "      <td>69.630</td>\n",
       "    </tr>\n",
       "    <tr>\n",
       "      <th>1</th>\n",
       "      <td>198</td>\n",
       "      <td>A</td>\n",
       "      <td>5</td>\n",
       "      <td>33</td>\n",
       "      <td>11.13</td>\n",
       "      <td>49.314</td>\n",
       "    </tr>\n",
       "    <tr>\n",
       "      <th>2</th>\n",
       "      <td>198</td>\n",
       "      <td>A</td>\n",
       "      <td>1</td>\n",
       "      <td>66</td>\n",
       "      <td>14.96</td>\n",
       "      <td>76.000</td>\n",
       "    </tr>\n",
       "    <tr>\n",
       "      <th>3</th>\n",
       "      <td>198</td>\n",
       "      <td>A</td>\n",
       "      <td>2</td>\n",
       "      <td>126</td>\n",
       "      <td>17.06</td>\n",
       "      <td>55.478</td>\n",
       "    </tr>\n",
       "    <tr>\n",
       "      <th>4</th>\n",
       "      <td>198</td>\n",
       "      <td>A</td>\n",
       "      <td>4</td>\n",
       "      <td>70</td>\n",
       "      <td>19.50</td>\n",
       "      <td>46.981</td>\n",
       "    </tr>\n",
       "    <tr>\n",
       "      <th>...</th>\n",
       "      <td>...</td>\n",
       "      <td>...</td>\n",
       "      <td>...</td>\n",
       "      <td>...</td>\n",
       "      <td>...</td>\n",
       "      <td>...</td>\n",
       "    </tr>\n",
       "    <tr>\n",
       "      <th>66</th>\n",
       "      <td>198</td>\n",
       "      <td>B</td>\n",
       "      <td>CC</td>\n",
       "      <td>30</td>\n",
       "      <td>526.80</td>\n",
       "      <td>60.930</td>\n",
       "    </tr>\n",
       "    <tr>\n",
       "      <th>67</th>\n",
       "      <td>198</td>\n",
       "      <td>B</td>\n",
       "      <td>1</td>\n",
       "      <td>60</td>\n",
       "      <td>565.60</td>\n",
       "      <td>0.000</td>\n",
       "    </tr>\n",
       "    <tr>\n",
       "      <th>68</th>\n",
       "      <td>198</td>\n",
       "      <td>B</td>\n",
       "      <td>1</td>\n",
       "      <td>76</td>\n",
       "      <td>565.76</td>\n",
       "      <td>0.000</td>\n",
       "    </tr>\n",
       "    <tr>\n",
       "      <th>69</th>\n",
       "      <td>198</td>\n",
       "      <td>B</td>\n",
       "      <td>1</td>\n",
       "      <td>103</td>\n",
       "      <td>566.03</td>\n",
       "      <td>0.000</td>\n",
       "    </tr>\n",
       "    <tr>\n",
       "      <th>70</th>\n",
       "      <td>198</td>\n",
       "      <td>B</td>\n",
       "      <td>1</td>\n",
       "      <td>52</td>\n",
       "      <td>584.72</td>\n",
       "      <td>64.200</td>\n",
       "    </tr>\n",
       "  </tbody>\n",
       "</table>\n",
       "<p>71 rows × 6 columns</p>\n",
       "</div>"
      ],
      "text/plain": [
       "    Leg  H  Sc  Top(cm)  Depth (mbsf)  CaCO3 (wt %)\n",
       "0   198  A   2       65          6.95        69.630\n",
       "1   198  A   5       33         11.13        49.314\n",
       "2   198  A   1       66         14.96        76.000\n",
       "3   198  A   2      126         17.06        55.478\n",
       "4   198  A   4       70         19.50        46.981\n",
       "..  ... ..  ..      ...           ...           ...\n",
       "66  198  B  CC       30        526.80        60.930\n",
       "67  198  B   1       60        565.60         0.000\n",
       "68  198  B   1       76        565.76         0.000\n",
       "69  198  B   1      103        566.03         0.000\n",
       "70  198  B   1       52        584.72        64.200\n",
       "\n",
       "[71 rows x 6 columns]"
      ]
     },
     "execution_count": 84,
     "metadata": {},
     "output_type": "execute_result"
    }
   ],
   "source": [
    "# Your code here\n",
    "\n",
    "geochemistry_df = geochemistry_df.drop(columns=['Site', 'Cor', 'T'])\n",
    "geochemistry_mod_df = geochemistry_df\n",
    "geochemistry_mod_df"
   ]
  },
  {
   "cell_type": "markdown",
   "metadata": {},
   "source": [
    "### 2.3.4 Indexing, Selection, Filtering and sorting <a id=\"indexingdf\"></a>\n",
    "\n",
    "This section will further your understanding of how to extract and filter data out of a dataframe. ou can extract one series by calling it by name:"
   ]
  },
  {
   "cell_type": "code",
   "execution_count": 79,
   "metadata": {
    "tags": []
   },
   "outputs": [
    {
     "data": {
      "text/plain": [
       "0     69.630\n",
       "1     49.314\n",
       "2     76.000\n",
       "3     55.478\n",
       "4     46.981\n",
       "       ...  \n",
       "66    60.930\n",
       "67     0.000\n",
       "68     0.000\n",
       "69     0.000\n",
       "70    64.200\n",
       "Name: CaCO3 (wt %), Length: 71, dtype: float64"
      ]
     },
     "execution_count": 79,
     "metadata": {},
     "output_type": "execute_result"
    }
   ],
   "source": [
    "geochemistry_df['CaCO3 (wt %)'] "
   ]
  },
  {
   "cell_type": "markdown",
   "metadata": {},
   "source": [
    "Watch out, this is case sensitive and typos will lead to a column not found error. **Pro tip:** The 'tab' autocompletion also works for column names in dataframe. So, to avoid an error, if I type `geochemistry_df['Ca <tab>']` Jupyter will auto complete the name.\n",
    "\n",
    "You can extract more than one series at the time by passing a list of names:"
   ]
  },
  {
   "cell_type": "code",
   "execution_count": 80,
   "metadata": {
    "tags": []
   },
   "outputs": [
    {
     "data": {
      "text/html": [
       "<div>\n",
       "<style scoped>\n",
       "    .dataframe tbody tr th:only-of-type {\n",
       "        vertical-align: middle;\n",
       "    }\n",
       "\n",
       "    .dataframe tbody tr th {\n",
       "        vertical-align: top;\n",
       "    }\n",
       "\n",
       "    .dataframe thead th {\n",
       "        text-align: right;\n",
       "    }\n",
       "</style>\n",
       "<table border=\"1\" class=\"dataframe\">\n",
       "  <thead>\n",
       "    <tr style=\"text-align: right;\">\n",
       "      <th></th>\n",
       "      <th>Depth (mbsf)</th>\n",
       "      <th>CaCO3 (wt %)</th>\n",
       "    </tr>\n",
       "  </thead>\n",
       "  <tbody>\n",
       "    <tr>\n",
       "      <th>0</th>\n",
       "      <td>6.95</td>\n",
       "      <td>69.630</td>\n",
       "    </tr>\n",
       "    <tr>\n",
       "      <th>1</th>\n",
       "      <td>11.13</td>\n",
       "      <td>49.314</td>\n",
       "    </tr>\n",
       "    <tr>\n",
       "      <th>2</th>\n",
       "      <td>14.96</td>\n",
       "      <td>76.000</td>\n",
       "    </tr>\n",
       "    <tr>\n",
       "      <th>3</th>\n",
       "      <td>17.06</td>\n",
       "      <td>55.478</td>\n",
       "    </tr>\n",
       "    <tr>\n",
       "      <th>4</th>\n",
       "      <td>19.50</td>\n",
       "      <td>46.981</td>\n",
       "    </tr>\n",
       "    <tr>\n",
       "      <th>...</th>\n",
       "      <td>...</td>\n",
       "      <td>...</td>\n",
       "    </tr>\n",
       "    <tr>\n",
       "      <th>66</th>\n",
       "      <td>526.80</td>\n",
       "      <td>60.930</td>\n",
       "    </tr>\n",
       "    <tr>\n",
       "      <th>67</th>\n",
       "      <td>565.60</td>\n",
       "      <td>0.000</td>\n",
       "    </tr>\n",
       "    <tr>\n",
       "      <th>68</th>\n",
       "      <td>565.76</td>\n",
       "      <td>0.000</td>\n",
       "    </tr>\n",
       "    <tr>\n",
       "      <th>69</th>\n",
       "      <td>566.03</td>\n",
       "      <td>0.000</td>\n",
       "    </tr>\n",
       "    <tr>\n",
       "      <th>70</th>\n",
       "      <td>584.72</td>\n",
       "      <td>64.200</td>\n",
       "    </tr>\n",
       "  </tbody>\n",
       "</table>\n",
       "<p>71 rows × 2 columns</p>\n",
       "</div>"
      ],
      "text/plain": [
       "    Depth (mbsf)  CaCO3 (wt %)\n",
       "0           6.95        69.630\n",
       "1          11.13        49.314\n",
       "2          14.96        76.000\n",
       "3          17.06        55.478\n",
       "4          19.50        46.981\n",
       "..           ...           ...\n",
       "66        526.80        60.930\n",
       "67        565.60         0.000\n",
       "68        565.76         0.000\n",
       "69        566.03         0.000\n",
       "70        584.72        64.200\n",
       "\n",
       "[71 rows x 2 columns]"
      ]
     },
     "execution_count": 80,
     "metadata": {},
     "output_type": "execute_result"
    }
   ],
   "source": [
    "geochemistry_df[['Depth (mbsf)','CaCO3 (wt %)']]"
   ]
  },
  {
   "cell_type": "markdown",
   "metadata": {},
   "source": [
    "Note that all of these operations return a new dataframe, so you can save it as a new dataframe to use later in your code if you want:"
   ]
  },
  {
   "cell_type": "code",
   "execution_count": 81,
   "metadata": {
    "tags": []
   },
   "outputs": [
    {
     "data": {
      "text/html": [
       "<div>\n",
       "<style scoped>\n",
       "    .dataframe tbody tr th:only-of-type {\n",
       "        vertical-align: middle;\n",
       "    }\n",
       "\n",
       "    .dataframe tbody tr th {\n",
       "        vertical-align: top;\n",
       "    }\n",
       "\n",
       "    .dataframe thead th {\n",
       "        text-align: right;\n",
       "    }\n",
       "</style>\n",
       "<table border=\"1\" class=\"dataframe\">\n",
       "  <thead>\n",
       "    <tr style=\"text-align: right;\">\n",
       "      <th></th>\n",
       "      <th>Depth (mbsf)</th>\n",
       "      <th>CaCO3 (wt %)</th>\n",
       "    </tr>\n",
       "  </thead>\n",
       "  <tbody>\n",
       "    <tr>\n",
       "      <th>0</th>\n",
       "      <td>6.95</td>\n",
       "      <td>69.630</td>\n",
       "    </tr>\n",
       "    <tr>\n",
       "      <th>1</th>\n",
       "      <td>11.13</td>\n",
       "      <td>49.314</td>\n",
       "    </tr>\n",
       "    <tr>\n",
       "      <th>2</th>\n",
       "      <td>14.96</td>\n",
       "      <td>76.000</td>\n",
       "    </tr>\n",
       "    <tr>\n",
       "      <th>3</th>\n",
       "      <td>17.06</td>\n",
       "      <td>55.478</td>\n",
       "    </tr>\n",
       "    <tr>\n",
       "      <th>4</th>\n",
       "      <td>19.50</td>\n",
       "      <td>46.981</td>\n",
       "    </tr>\n",
       "    <tr>\n",
       "      <th>...</th>\n",
       "      <td>...</td>\n",
       "      <td>...</td>\n",
       "    </tr>\n",
       "    <tr>\n",
       "      <th>66</th>\n",
       "      <td>526.80</td>\n",
       "      <td>60.930</td>\n",
       "    </tr>\n",
       "    <tr>\n",
       "      <th>67</th>\n",
       "      <td>565.60</td>\n",
       "      <td>0.000</td>\n",
       "    </tr>\n",
       "    <tr>\n",
       "      <th>68</th>\n",
       "      <td>565.76</td>\n",
       "      <td>0.000</td>\n",
       "    </tr>\n",
       "    <tr>\n",
       "      <th>69</th>\n",
       "      <td>566.03</td>\n",
       "      <td>0.000</td>\n",
       "    </tr>\n",
       "    <tr>\n",
       "      <th>70</th>\n",
       "      <td>584.72</td>\n",
       "      <td>64.200</td>\n",
       "    </tr>\n",
       "  </tbody>\n",
       "</table>\n",
       "<p>71 rows × 2 columns</p>\n",
       "</div>"
      ],
      "text/plain": [
       "    Depth (mbsf)  CaCO3 (wt %)\n",
       "0           6.95        69.630\n",
       "1          11.13        49.314\n",
       "2          14.96        76.000\n",
       "3          17.06        55.478\n",
       "4          19.50        46.981\n",
       "..           ...           ...\n",
       "66        526.80        60.930\n",
       "67        565.60         0.000\n",
       "68        565.76         0.000\n",
       "69        566.03         0.000\n",
       "70        584.72        64.200\n",
       "\n",
       "[71 rows x 2 columns]"
      ]
     },
     "execution_count": 81,
     "metadata": {},
     "output_type": "execute_result"
    }
   ],
   "source": [
    "depth_vs_carbonate_df = geochemistry_df[['Depth (mbsf)','CaCO3 (wt %)']]\n",
    "depth_vs_carbonate_df"
   ]
  },
  {
   "cell_type": "markdown",
   "metadata": {},
   "source": [
    "You can also extract a list of boolean values that fit a criteria. For instance, the following code will return a Series containing the value `True` for samples with `CaCO3 (wt %)` >=50% and `False` otherwise:"
   ]
  },
  {
   "cell_type": "code",
   "execution_count": 82,
   "metadata": {
    "tags": []
   },
   "outputs": [
    {
     "data": {
      "text/plain": [
       "0      True\n",
       "1     False\n",
       "2      True\n",
       "3      True\n",
       "4     False\n",
       "      ...  \n",
       "66     True\n",
       "67    False\n",
       "68    False\n",
       "69    False\n",
       "70     True\n",
       "Name: CaCO3 (wt %), Length: 71, dtype: bool"
      ]
     },
     "execution_count": 82,
     "metadata": {},
     "output_type": "execute_result"
    }
   ],
   "source": [
    "geochemistry_df['CaCO3 (wt %)'] >=50"
   ]
  },
  {
   "cell_type": "markdown",
   "metadata": {},
   "source": [
    "Where it gets intersting is that if you pass a list of boolean to a dataframe, it will filter based on this list and return a new dataframe containing only the rows where the condition is met. So this code results in a new dataframe with samples with carbonate content equal or greater than 50%:"
   ]
  },
  {
   "cell_type": "code",
   "execution_count": 83,
   "metadata": {
    "tags": []
   },
   "outputs": [
    {
     "data": {
      "text/html": [
       "<div>\n",
       "<style scoped>\n",
       "    .dataframe tbody tr th:only-of-type {\n",
       "        vertical-align: middle;\n",
       "    }\n",
       "\n",
       "    .dataframe tbody tr th {\n",
       "        vertical-align: top;\n",
       "    }\n",
       "\n",
       "    .dataframe thead th {\n",
       "        text-align: right;\n",
       "    }\n",
       "</style>\n",
       "<table border=\"1\" class=\"dataframe\">\n",
       "  <thead>\n",
       "    <tr style=\"text-align: right;\">\n",
       "      <th></th>\n",
       "      <th>Leg</th>\n",
       "      <th>Site</th>\n",
       "      <th>H</th>\n",
       "      <th>Cor</th>\n",
       "      <th>T</th>\n",
       "      <th>Sc</th>\n",
       "      <th>Top(cm)</th>\n",
       "      <th>Depth (mbsf)</th>\n",
       "      <th>CaCO3 (wt %)</th>\n",
       "    </tr>\n",
       "  </thead>\n",
       "  <tbody>\n",
       "    <tr>\n",
       "      <th>0</th>\n",
       "      <td>198</td>\n",
       "      <td>1207</td>\n",
       "      <td>A</td>\n",
       "      <td>2</td>\n",
       "      <td>H</td>\n",
       "      <td>2</td>\n",
       "      <td>65</td>\n",
       "      <td>6.95</td>\n",
       "      <td>69.630</td>\n",
       "    </tr>\n",
       "    <tr>\n",
       "      <th>2</th>\n",
       "      <td>198</td>\n",
       "      <td>1207</td>\n",
       "      <td>A</td>\n",
       "      <td>3</td>\n",
       "      <td>H</td>\n",
       "      <td>1</td>\n",
       "      <td>66</td>\n",
       "      <td>14.96</td>\n",
       "      <td>76.000</td>\n",
       "    </tr>\n",
       "    <tr>\n",
       "      <th>3</th>\n",
       "      <td>198</td>\n",
       "      <td>1207</td>\n",
       "      <td>A</td>\n",
       "      <td>3</td>\n",
       "      <td>H</td>\n",
       "      <td>2</td>\n",
       "      <td>126</td>\n",
       "      <td>17.06</td>\n",
       "      <td>55.478</td>\n",
       "    </tr>\n",
       "    <tr>\n",
       "      <th>5</th>\n",
       "      <td>198</td>\n",
       "      <td>1207</td>\n",
       "      <td>A</td>\n",
       "      <td>4</td>\n",
       "      <td>H</td>\n",
       "      <td>4</td>\n",
       "      <td>70</td>\n",
       "      <td>29.00</td>\n",
       "      <td>77.950</td>\n",
       "    </tr>\n",
       "    <tr>\n",
       "      <th>6</th>\n",
       "      <td>198</td>\n",
       "      <td>1207</td>\n",
       "      <td>A</td>\n",
       "      <td>4</td>\n",
       "      <td>H</td>\n",
       "      <td>6</td>\n",
       "      <td>13</td>\n",
       "      <td>31.43</td>\n",
       "      <td>53.978</td>\n",
       "    </tr>\n",
       "    <tr>\n",
       "      <th>8</th>\n",
       "      <td>198</td>\n",
       "      <td>1207</td>\n",
       "      <td>A</td>\n",
       "      <td>5</td>\n",
       "      <td>H</td>\n",
       "      <td>3</td>\n",
       "      <td>72</td>\n",
       "      <td>37.02</td>\n",
       "      <td>71.010</td>\n",
       "    </tr>\n",
       "    <tr>\n",
       "      <th>9</th>\n",
       "      <td>198</td>\n",
       "      <td>1207</td>\n",
       "      <td>A</td>\n",
       "      <td>5</td>\n",
       "      <td>H</td>\n",
       "      <td>5</td>\n",
       "      <td>72</td>\n",
       "      <td>40.02</td>\n",
       "      <td>72.750</td>\n",
       "    </tr>\n",
       "    <tr>\n",
       "      <th>10</th>\n",
       "      <td>198</td>\n",
       "      <td>1207</td>\n",
       "      <td>A</td>\n",
       "      <td>6</td>\n",
       "      <td>H</td>\n",
       "      <td>1</td>\n",
       "      <td>68</td>\n",
       "      <td>43.48</td>\n",
       "      <td>72.620</td>\n",
       "    </tr>\n",
       "    <tr>\n",
       "      <th>12</th>\n",
       "      <td>198</td>\n",
       "      <td>1207</td>\n",
       "      <td>A</td>\n",
       "      <td>6</td>\n",
       "      <td>H</td>\n",
       "      <td>5</td>\n",
       "      <td>68</td>\n",
       "      <td>49.48</td>\n",
       "      <td>77.150</td>\n",
       "    </tr>\n",
       "    <tr>\n",
       "      <th>13</th>\n",
       "      <td>198</td>\n",
       "      <td>1207</td>\n",
       "      <td>A</td>\n",
       "      <td>7</td>\n",
       "      <td>H</td>\n",
       "      <td>1</td>\n",
       "      <td>8</td>\n",
       "      <td>52.38</td>\n",
       "      <td>55.644</td>\n",
       "    </tr>\n",
       "    <tr>\n",
       "      <th>14</th>\n",
       "      <td>198</td>\n",
       "      <td>1207</td>\n",
       "      <td>A</td>\n",
       "      <td>7</td>\n",
       "      <td>H</td>\n",
       "      <td>3</td>\n",
       "      <td>73</td>\n",
       "      <td>56.03</td>\n",
       "      <td>75.270</td>\n",
       "    </tr>\n",
       "    <tr>\n",
       "      <th>15</th>\n",
       "      <td>198</td>\n",
       "      <td>1207</td>\n",
       "      <td>A</td>\n",
       "      <td>7</td>\n",
       "      <td>H</td>\n",
       "      <td>5</td>\n",
       "      <td>31</td>\n",
       "      <td>58.61</td>\n",
       "      <td>61.270</td>\n",
       "    </tr>\n",
       "    <tr>\n",
       "      <th>16</th>\n",
       "      <td>198</td>\n",
       "      <td>1207</td>\n",
       "      <td>A</td>\n",
       "      <td>8</td>\n",
       "      <td>H</td>\n",
       "      <td>2</td>\n",
       "      <td>95</td>\n",
       "      <td>64.25</td>\n",
       "      <td>79.020</td>\n",
       "    </tr>\n",
       "    <tr>\n",
       "      <th>17</th>\n",
       "      <td>198</td>\n",
       "      <td>1207</td>\n",
       "      <td>A</td>\n",
       "      <td>8</td>\n",
       "      <td>H</td>\n",
       "      <td>4</td>\n",
       "      <td>37</td>\n",
       "      <td>66.67</td>\n",
       "      <td>52.396</td>\n",
       "    </tr>\n",
       "    <tr>\n",
       "      <th>19</th>\n",
       "      <td>198</td>\n",
       "      <td>1207</td>\n",
       "      <td>A</td>\n",
       "      <td>9</td>\n",
       "      <td>H</td>\n",
       "      <td>1</td>\n",
       "      <td>48</td>\n",
       "      <td>71.78</td>\n",
       "      <td>68.290</td>\n",
       "    </tr>\n",
       "    <tr>\n",
       "      <th>20</th>\n",
       "      <td>198</td>\n",
       "      <td>1207</td>\n",
       "      <td>A</td>\n",
       "      <td>9</td>\n",
       "      <td>H</td>\n",
       "      <td>1</td>\n",
       "      <td>83</td>\n",
       "      <td>72.13</td>\n",
       "      <td>79.830</td>\n",
       "    </tr>\n",
       "    <tr>\n",
       "      <th>21</th>\n",
       "      <td>198</td>\n",
       "      <td>1207</td>\n",
       "      <td>A</td>\n",
       "      <td>9</td>\n",
       "      <td>H</td>\n",
       "      <td>3</td>\n",
       "      <td>73</td>\n",
       "      <td>75.03</td>\n",
       "      <td>70.480</td>\n",
       "    </tr>\n",
       "    <tr>\n",
       "      <th>23</th>\n",
       "      <td>198</td>\n",
       "      <td>1207</td>\n",
       "      <td>A</td>\n",
       "      <td>10</td>\n",
       "      <td>H</td>\n",
       "      <td>1</td>\n",
       "      <td>72</td>\n",
       "      <td>81.52</td>\n",
       "      <td>72.320</td>\n",
       "    </tr>\n",
       "    <tr>\n",
       "      <th>24</th>\n",
       "      <td>198</td>\n",
       "      <td>1207</td>\n",
       "      <td>A</td>\n",
       "      <td>10</td>\n",
       "      <td>H</td>\n",
       "      <td>2</td>\n",
       "      <td>35</td>\n",
       "      <td>82.65</td>\n",
       "      <td>84.620</td>\n",
       "    </tr>\n",
       "    <tr>\n",
       "      <th>26</th>\n",
       "      <td>198</td>\n",
       "      <td>1207</td>\n",
       "      <td>A</td>\n",
       "      <td>11</td>\n",
       "      <td>H</td>\n",
       "      <td>5</td>\n",
       "      <td>71</td>\n",
       "      <td>97.01</td>\n",
       "      <td>76.660</td>\n",
       "    </tr>\n",
       "    <tr>\n",
       "      <th>27</th>\n",
       "      <td>198</td>\n",
       "      <td>1207</td>\n",
       "      <td>A</td>\n",
       "      <td>11</td>\n",
       "      <td>H</td>\n",
       "      <td>5</td>\n",
       "      <td>98</td>\n",
       "      <td>97.28</td>\n",
       "      <td>83.090</td>\n",
       "    </tr>\n",
       "    <tr>\n",
       "      <th>28</th>\n",
       "      <td>198</td>\n",
       "      <td>1207</td>\n",
       "      <td>A</td>\n",
       "      <td>12</td>\n",
       "      <td>H</td>\n",
       "      <td>1</td>\n",
       "      <td>93</td>\n",
       "      <td>100.73</td>\n",
       "      <td>78.580</td>\n",
       "    </tr>\n",
       "    <tr>\n",
       "      <th>31</th>\n",
       "      <td>198</td>\n",
       "      <td>1207</td>\n",
       "      <td>A</td>\n",
       "      <td>13</td>\n",
       "      <td>H</td>\n",
       "      <td>4</td>\n",
       "      <td>44</td>\n",
       "      <td>114.24</td>\n",
       "      <td>52.396</td>\n",
       "    </tr>\n",
       "    <tr>\n",
       "      <th>32</th>\n",
       "      <td>198</td>\n",
       "      <td>1207</td>\n",
       "      <td>A</td>\n",
       "      <td>13</td>\n",
       "      <td>H</td>\n",
       "      <td>6</td>\n",
       "      <td>72</td>\n",
       "      <td>117.52</td>\n",
       "      <td>67.710</td>\n",
       "    </tr>\n",
       "    <tr>\n",
       "      <th>33</th>\n",
       "      <td>198</td>\n",
       "      <td>1207</td>\n",
       "      <td>A</td>\n",
       "      <td>14</td>\n",
       "      <td>H</td>\n",
       "      <td>1</td>\n",
       "      <td>37</td>\n",
       "      <td>119.17</td>\n",
       "      <td>76.950</td>\n",
       "    </tr>\n",
       "    <tr>\n",
       "      <th>35</th>\n",
       "      <td>198</td>\n",
       "      <td>1207</td>\n",
       "      <td>A</td>\n",
       "      <td>14</td>\n",
       "      <td>H</td>\n",
       "      <td>4</td>\n",
       "      <td>67</td>\n",
       "      <td>123.97</td>\n",
       "      <td>79.490</td>\n",
       "    </tr>\n",
       "    <tr>\n",
       "      <th>36</th>\n",
       "      <td>198</td>\n",
       "      <td>1207</td>\n",
       "      <td>A</td>\n",
       "      <td>15</td>\n",
       "      <td>H</td>\n",
       "      <td>1</td>\n",
       "      <td>110</td>\n",
       "      <td>129.40</td>\n",
       "      <td>68.610</td>\n",
       "    </tr>\n",
       "    <tr>\n",
       "      <th>37</th>\n",
       "      <td>198</td>\n",
       "      <td>1207</td>\n",
       "      <td>A</td>\n",
       "      <td>15</td>\n",
       "      <td>H</td>\n",
       "      <td>4</td>\n",
       "      <td>72</td>\n",
       "      <td>133.52</td>\n",
       "      <td>87.310</td>\n",
       "    </tr>\n",
       "    <tr>\n",
       "      <th>38</th>\n",
       "      <td>198</td>\n",
       "      <td>1207</td>\n",
       "      <td>A</td>\n",
       "      <td>15</td>\n",
       "      <td>H</td>\n",
       "      <td>6</td>\n",
       "      <td>30</td>\n",
       "      <td>136.10</td>\n",
       "      <td>71.210</td>\n",
       "    </tr>\n",
       "    <tr>\n",
       "      <th>39</th>\n",
       "      <td>198</td>\n",
       "      <td>1207</td>\n",
       "      <td>A</td>\n",
       "      <td>16</td>\n",
       "      <td>H</td>\n",
       "      <td>1</td>\n",
       "      <td>119</td>\n",
       "      <td>138.99</td>\n",
       "      <td>86.430</td>\n",
       "    </tr>\n",
       "    <tr>\n",
       "      <th>40</th>\n",
       "      <td>198</td>\n",
       "      <td>1207</td>\n",
       "      <td>A</td>\n",
       "      <td>16</td>\n",
       "      <td>H</td>\n",
       "      <td>2</td>\n",
       "      <td>23</td>\n",
       "      <td>139.53</td>\n",
       "      <td>72.410</td>\n",
       "    </tr>\n",
       "    <tr>\n",
       "      <th>41</th>\n",
       "      <td>198</td>\n",
       "      <td>1207</td>\n",
       "      <td>A</td>\n",
       "      <td>16</td>\n",
       "      <td>H</td>\n",
       "      <td>4</td>\n",
       "      <td>68</td>\n",
       "      <td>142.98</td>\n",
       "      <td>75.200</td>\n",
       "    </tr>\n",
       "    <tr>\n",
       "      <th>42</th>\n",
       "      <td>198</td>\n",
       "      <td>1207</td>\n",
       "      <td>A</td>\n",
       "      <td>17</td>\n",
       "      <td>H</td>\n",
       "      <td>1</td>\n",
       "      <td>85</td>\n",
       "      <td>148.15</td>\n",
       "      <td>85.840</td>\n",
       "    </tr>\n",
       "    <tr>\n",
       "      <th>43</th>\n",
       "      <td>198</td>\n",
       "      <td>1207</td>\n",
       "      <td>A</td>\n",
       "      <td>17</td>\n",
       "      <td>H</td>\n",
       "      <td>2</td>\n",
       "      <td>95</td>\n",
       "      <td>149.75</td>\n",
       "      <td>74.030</td>\n",
       "    </tr>\n",
       "    <tr>\n",
       "      <th>44</th>\n",
       "      <td>198</td>\n",
       "      <td>1207</td>\n",
       "      <td>A</td>\n",
       "      <td>17</td>\n",
       "      <td>H</td>\n",
       "      <td>2</td>\n",
       "      <td>124</td>\n",
       "      <td>150.04</td>\n",
       "      <td>79.600</td>\n",
       "    </tr>\n",
       "    <tr>\n",
       "      <th>45</th>\n",
       "      <td>198</td>\n",
       "      <td>1207</td>\n",
       "      <td>A</td>\n",
       "      <td>18</td>\n",
       "      <td>H</td>\n",
       "      <td>1</td>\n",
       "      <td>137</td>\n",
       "      <td>158.17</td>\n",
       "      <td>92.490</td>\n",
       "    </tr>\n",
       "    <tr>\n",
       "      <th>46</th>\n",
       "      <td>198</td>\n",
       "      <td>1207</td>\n",
       "      <td>A</td>\n",
       "      <td>18</td>\n",
       "      <td>H</td>\n",
       "      <td>5</td>\n",
       "      <td>90</td>\n",
       "      <td>163.70</td>\n",
       "      <td>65.020</td>\n",
       "    </tr>\n",
       "    <tr>\n",
       "      <th>47</th>\n",
       "      <td>198</td>\n",
       "      <td>1207</td>\n",
       "      <td>A</td>\n",
       "      <td>18</td>\n",
       "      <td>H</td>\n",
       "      <td>6</td>\n",
       "      <td>73</td>\n",
       "      <td>165.03</td>\n",
       "      <td>95.440</td>\n",
       "    </tr>\n",
       "    <tr>\n",
       "      <th>48</th>\n",
       "      <td>198</td>\n",
       "      <td>1207</td>\n",
       "      <td>A</td>\n",
       "      <td>21</td>\n",
       "      <td>X</td>\n",
       "      <td>2</td>\n",
       "      <td>86</td>\n",
       "      <td>184.16</td>\n",
       "      <td>97.290</td>\n",
       "    </tr>\n",
       "    <tr>\n",
       "      <th>49</th>\n",
       "      <td>198</td>\n",
       "      <td>1207</td>\n",
       "      <td>A</td>\n",
       "      <td>21</td>\n",
       "      <td>X</td>\n",
       "      <td>4</td>\n",
       "      <td>88</td>\n",
       "      <td>187.18</td>\n",
       "      <td>98.230</td>\n",
       "    </tr>\n",
       "    <tr>\n",
       "      <th>50</th>\n",
       "      <td>198</td>\n",
       "      <td>1207</td>\n",
       "      <td>A</td>\n",
       "      <td>23</td>\n",
       "      <td>X</td>\n",
       "      <td>1</td>\n",
       "      <td>89</td>\n",
       "      <td>198.79</td>\n",
       "      <td>97.230</td>\n",
       "    </tr>\n",
       "    <tr>\n",
       "      <th>51</th>\n",
       "      <td>198</td>\n",
       "      <td>1207</td>\n",
       "      <td>A</td>\n",
       "      <td>23</td>\n",
       "      <td>X</td>\n",
       "      <td>4</td>\n",
       "      <td>89</td>\n",
       "      <td>203.29</td>\n",
       "      <td>96.950</td>\n",
       "    </tr>\n",
       "    <tr>\n",
       "      <th>52</th>\n",
       "      <td>198</td>\n",
       "      <td>1207</td>\n",
       "      <td>A</td>\n",
       "      <td>23</td>\n",
       "      <td>X</td>\n",
       "      <td>6</td>\n",
       "      <td>89</td>\n",
       "      <td>206.29</td>\n",
       "      <td>97.860</td>\n",
       "    </tr>\n",
       "    <tr>\n",
       "      <th>53</th>\n",
       "      <td>198</td>\n",
       "      <td>1207</td>\n",
       "      <td>A</td>\n",
       "      <td>24</td>\n",
       "      <td>X</td>\n",
       "      <td>2</td>\n",
       "      <td>34</td>\n",
       "      <td>209.44</td>\n",
       "      <td>97.450</td>\n",
       "    </tr>\n",
       "    <tr>\n",
       "      <th>54</th>\n",
       "      <td>198</td>\n",
       "      <td>1207</td>\n",
       "      <td>A</td>\n",
       "      <td>24</td>\n",
       "      <td>X</td>\n",
       "      <td>4</td>\n",
       "      <td>87</td>\n",
       "      <td>212.97</td>\n",
       "      <td>97.310</td>\n",
       "    </tr>\n",
       "    <tr>\n",
       "      <th>55</th>\n",
       "      <td>198</td>\n",
       "      <td>1207</td>\n",
       "      <td>A</td>\n",
       "      <td>24</td>\n",
       "      <td>X</td>\n",
       "      <td>5</td>\n",
       "      <td>46</td>\n",
       "      <td>214.06</td>\n",
       "      <td>96.710</td>\n",
       "    </tr>\n",
       "    <tr>\n",
       "      <th>56</th>\n",
       "      <td>198</td>\n",
       "      <td>1207</td>\n",
       "      <td>B</td>\n",
       "      <td>1</td>\n",
       "      <td>R</td>\n",
       "      <td>2</td>\n",
       "      <td>56</td>\n",
       "      <td>159.06</td>\n",
       "      <td>91.290</td>\n",
       "    </tr>\n",
       "    <tr>\n",
       "      <th>57</th>\n",
       "      <td>198</td>\n",
       "      <td>1207</td>\n",
       "      <td>B</td>\n",
       "      <td>1</td>\n",
       "      <td>R</td>\n",
       "      <td>3</td>\n",
       "      <td>13</td>\n",
       "      <td>160.13</td>\n",
       "      <td>80.090</td>\n",
       "    </tr>\n",
       "    <tr>\n",
       "      <th>58</th>\n",
       "      <td>198</td>\n",
       "      <td>1207</td>\n",
       "      <td>B</td>\n",
       "      <td>1</td>\n",
       "      <td>R</td>\n",
       "      <td>5</td>\n",
       "      <td>63</td>\n",
       "      <td>163.13</td>\n",
       "      <td>80.500</td>\n",
       "    </tr>\n",
       "    <tr>\n",
       "      <th>59</th>\n",
       "      <td>198</td>\n",
       "      <td>1207</td>\n",
       "      <td>B</td>\n",
       "      <td>2</td>\n",
       "      <td>R</td>\n",
       "      <td>5</td>\n",
       "      <td>26</td>\n",
       "      <td>172.86</td>\n",
       "      <td>96.370</td>\n",
       "    </tr>\n",
       "    <tr>\n",
       "      <th>60</th>\n",
       "      <td>198</td>\n",
       "      <td>1207</td>\n",
       "      <td>B</td>\n",
       "      <td>2</td>\n",
       "      <td>R</td>\n",
       "      <td>5</td>\n",
       "      <td>80</td>\n",
       "      <td>173.40</td>\n",
       "      <td>96.380</td>\n",
       "    </tr>\n",
       "    <tr>\n",
       "      <th>61</th>\n",
       "      <td>198</td>\n",
       "      <td>1207</td>\n",
       "      <td>B</td>\n",
       "      <td>3</td>\n",
       "      <td>R</td>\n",
       "      <td>2</td>\n",
       "      <td>50</td>\n",
       "      <td>178.20</td>\n",
       "      <td>96.670</td>\n",
       "    </tr>\n",
       "    <tr>\n",
       "      <th>62</th>\n",
       "      <td>198</td>\n",
       "      <td>1207</td>\n",
       "      <td>B</td>\n",
       "      <td>4</td>\n",
       "      <td>R</td>\n",
       "      <td>2</td>\n",
       "      <td>53</td>\n",
       "      <td>187.83</td>\n",
       "      <td>97.410</td>\n",
       "    </tr>\n",
       "    <tr>\n",
       "      <th>63</th>\n",
       "      <td>198</td>\n",
       "      <td>1207</td>\n",
       "      <td>B</td>\n",
       "      <td>4</td>\n",
       "      <td>R</td>\n",
       "      <td>3</td>\n",
       "      <td>53</td>\n",
       "      <td>189.33</td>\n",
       "      <td>96.710</td>\n",
       "    </tr>\n",
       "    <tr>\n",
       "      <th>64</th>\n",
       "      <td>198</td>\n",
       "      <td>1207</td>\n",
       "      <td>B</td>\n",
       "      <td>5</td>\n",
       "      <td>R</td>\n",
       "      <td>2</td>\n",
       "      <td>74</td>\n",
       "      <td>197.74</td>\n",
       "      <td>96.910</td>\n",
       "    </tr>\n",
       "    <tr>\n",
       "      <th>65</th>\n",
       "      <td>198</td>\n",
       "      <td>1207</td>\n",
       "      <td>B</td>\n",
       "      <td>6</td>\n",
       "      <td>R</td>\n",
       "      <td>1</td>\n",
       "      <td>65</td>\n",
       "      <td>205.75</td>\n",
       "      <td>96.600</td>\n",
       "    </tr>\n",
       "    <tr>\n",
       "      <th>66</th>\n",
       "      <td>198</td>\n",
       "      <td>1207</td>\n",
       "      <td>B</td>\n",
       "      <td>40</td>\n",
       "      <td>R</td>\n",
       "      <td>CC</td>\n",
       "      <td>30</td>\n",
       "      <td>526.80</td>\n",
       "      <td>60.930</td>\n",
       "    </tr>\n",
       "    <tr>\n",
       "      <th>70</th>\n",
       "      <td>198</td>\n",
       "      <td>1207</td>\n",
       "      <td>B</td>\n",
       "      <td>46</td>\n",
       "      <td>R</td>\n",
       "      <td>1</td>\n",
       "      <td>52</td>\n",
       "      <td>584.72</td>\n",
       "      <td>64.200</td>\n",
       "    </tr>\n",
       "  </tbody>\n",
       "</table>\n",
       "</div>"
      ],
      "text/plain": [
       "    Leg  Site  H  Cor  T  Sc  Top(cm)  Depth (mbsf)  CaCO3 (wt %)\n",
       "0   198  1207  A    2  H   2       65          6.95        69.630\n",
       "2   198  1207  A    3  H   1       66         14.96        76.000\n",
       "3   198  1207  A    3  H   2      126         17.06        55.478\n",
       "5   198  1207  A    4  H   4       70         29.00        77.950\n",
       "6   198  1207  A    4  H   6       13         31.43        53.978\n",
       "8   198  1207  A    5  H   3       72         37.02        71.010\n",
       "9   198  1207  A    5  H   5       72         40.02        72.750\n",
       "10  198  1207  A    6  H   1       68         43.48        72.620\n",
       "12  198  1207  A    6  H   5       68         49.48        77.150\n",
       "13  198  1207  A    7  H   1        8         52.38        55.644\n",
       "14  198  1207  A    7  H   3       73         56.03        75.270\n",
       "15  198  1207  A    7  H   5       31         58.61        61.270\n",
       "16  198  1207  A    8  H   2       95         64.25        79.020\n",
       "17  198  1207  A    8  H   4       37         66.67        52.396\n",
       "19  198  1207  A    9  H   1       48         71.78        68.290\n",
       "20  198  1207  A    9  H   1       83         72.13        79.830\n",
       "21  198  1207  A    9  H   3       73         75.03        70.480\n",
       "23  198  1207  A   10  H   1       72         81.52        72.320\n",
       "24  198  1207  A   10  H   2       35         82.65        84.620\n",
       "26  198  1207  A   11  H   5       71         97.01        76.660\n",
       "27  198  1207  A   11  H   5       98         97.28        83.090\n",
       "28  198  1207  A   12  H   1       93        100.73        78.580\n",
       "31  198  1207  A   13  H   4       44        114.24        52.396\n",
       "32  198  1207  A   13  H   6       72        117.52        67.710\n",
       "33  198  1207  A   14  H   1       37        119.17        76.950\n",
       "35  198  1207  A   14  H   4       67        123.97        79.490\n",
       "36  198  1207  A   15  H   1      110        129.40        68.610\n",
       "37  198  1207  A   15  H   4       72        133.52        87.310\n",
       "38  198  1207  A   15  H   6       30        136.10        71.210\n",
       "39  198  1207  A   16  H   1      119        138.99        86.430\n",
       "40  198  1207  A   16  H   2       23        139.53        72.410\n",
       "41  198  1207  A   16  H   4       68        142.98        75.200\n",
       "42  198  1207  A   17  H   1       85        148.15        85.840\n",
       "43  198  1207  A   17  H   2       95        149.75        74.030\n",
       "44  198  1207  A   17  H   2      124        150.04        79.600\n",
       "45  198  1207  A   18  H   1      137        158.17        92.490\n",
       "46  198  1207  A   18  H   5       90        163.70        65.020\n",
       "47  198  1207  A   18  H   6       73        165.03        95.440\n",
       "48  198  1207  A   21  X   2       86        184.16        97.290\n",
       "49  198  1207  A   21  X   4       88        187.18        98.230\n",
       "50  198  1207  A   23  X   1       89        198.79        97.230\n",
       "51  198  1207  A   23  X   4       89        203.29        96.950\n",
       "52  198  1207  A   23  X   6       89        206.29        97.860\n",
       "53  198  1207  A   24  X   2       34        209.44        97.450\n",
       "54  198  1207  A   24  X   4       87        212.97        97.310\n",
       "55  198  1207  A   24  X   5       46        214.06        96.710\n",
       "56  198  1207  B    1  R   2       56        159.06        91.290\n",
       "57  198  1207  B    1  R   3       13        160.13        80.090\n",
       "58  198  1207  B    1  R   5       63        163.13        80.500\n",
       "59  198  1207  B    2  R   5       26        172.86        96.370\n",
       "60  198  1207  B    2  R   5       80        173.40        96.380\n",
       "61  198  1207  B    3  R   2       50        178.20        96.670\n",
       "62  198  1207  B    4  R   2       53        187.83        97.410\n",
       "63  198  1207  B    4  R   3       53        189.33        96.710\n",
       "64  198  1207  B    5  R   2       74        197.74        96.910\n",
       "65  198  1207  B    6  R   1       65        205.75        96.600\n",
       "66  198  1207  B   40  R  CC       30        526.80        60.930\n",
       "70  198  1207  B   46  R   1       52        584.72        64.200"
      ]
     },
     "execution_count": 83,
     "metadata": {},
     "output_type": "execute_result"
    }
   ],
   "source": [
    "geochemistry_df[geochemistry_df['CaCO3 (wt %)'] >=50]"
   ]
  },
  {
   "cell_type": "markdown",
   "metadata": {},
   "source": [
    "You can of course filter for more than 1 condition. Notice that I wrap each statement into a '()'. I also separate each statement by an 'AND' Python operator, '&':"
   ]
  },
  {
   "cell_type": "code",
   "execution_count": 60,
   "metadata": {
    "execution": {
     "iopub.execute_input": "2022-01-18T13:17:06.876087Z",
     "iopub.status.busy": "2022-01-18T13:17:06.875934Z",
     "iopub.status.idle": "2022-01-18T13:17:06.891374Z",
     "shell.execute_reply": "2022-01-18T13:17:06.890787Z",
     "shell.execute_reply.started": "2022-01-18T13:17:06.876067Z"
    },
    "tags": []
   },
   "outputs": [
    {
     "data": {
      "text/html": [
       "<div>\n",
       "<style scoped>\n",
       "    .dataframe tbody tr th:only-of-type {\n",
       "        vertical-align: middle;\n",
       "    }\n",
       "\n",
       "    .dataframe tbody tr th {\n",
       "        vertical-align: top;\n",
       "    }\n",
       "\n",
       "    .dataframe thead th {\n",
       "        text-align: right;\n",
       "    }\n",
       "</style>\n",
       "<table border=\"1\" class=\"dataframe\">\n",
       "  <thead>\n",
       "    <tr style=\"text-align: right;\">\n",
       "      <th></th>\n",
       "      <th>Leg</th>\n",
       "      <th>Site</th>\n",
       "      <th>H</th>\n",
       "      <th>Cor</th>\n",
       "      <th>T</th>\n",
       "      <th>Sc</th>\n",
       "      <th>Top(cm)</th>\n",
       "      <th>Depth (mbsf)</th>\n",
       "      <th>CaCO3 (wt %)</th>\n",
       "    </tr>\n",
       "  </thead>\n",
       "  <tbody>\n",
       "    <tr>\n",
       "      <th>0</th>\n",
       "      <td>198</td>\n",
       "      <td>1207</td>\n",
       "      <td>A</td>\n",
       "      <td>2</td>\n",
       "      <td>H</td>\n",
       "      <td>2</td>\n",
       "      <td>65</td>\n",
       "      <td>6.95</td>\n",
       "      <td>69.630</td>\n",
       "    </tr>\n",
       "    <tr>\n",
       "      <th>2</th>\n",
       "      <td>198</td>\n",
       "      <td>1207</td>\n",
       "      <td>A</td>\n",
       "      <td>3</td>\n",
       "      <td>H</td>\n",
       "      <td>1</td>\n",
       "      <td>66</td>\n",
       "      <td>14.96</td>\n",
       "      <td>76.000</td>\n",
       "    </tr>\n",
       "    <tr>\n",
       "      <th>3</th>\n",
       "      <td>198</td>\n",
       "      <td>1207</td>\n",
       "      <td>A</td>\n",
       "      <td>3</td>\n",
       "      <td>H</td>\n",
       "      <td>2</td>\n",
       "      <td>126</td>\n",
       "      <td>17.06</td>\n",
       "      <td>55.478</td>\n",
       "    </tr>\n",
       "    <tr>\n",
       "      <th>5</th>\n",
       "      <td>198</td>\n",
       "      <td>1207</td>\n",
       "      <td>A</td>\n",
       "      <td>4</td>\n",
       "      <td>H</td>\n",
       "      <td>4</td>\n",
       "      <td>70</td>\n",
       "      <td>29.00</td>\n",
       "      <td>77.950</td>\n",
       "    </tr>\n",
       "    <tr>\n",
       "      <th>6</th>\n",
       "      <td>198</td>\n",
       "      <td>1207</td>\n",
       "      <td>A</td>\n",
       "      <td>4</td>\n",
       "      <td>H</td>\n",
       "      <td>6</td>\n",
       "      <td>13</td>\n",
       "      <td>31.43</td>\n",
       "      <td>53.978</td>\n",
       "    </tr>\n",
       "    <tr>\n",
       "      <th>8</th>\n",
       "      <td>198</td>\n",
       "      <td>1207</td>\n",
       "      <td>A</td>\n",
       "      <td>5</td>\n",
       "      <td>H</td>\n",
       "      <td>3</td>\n",
       "      <td>72</td>\n",
       "      <td>37.02</td>\n",
       "      <td>71.010</td>\n",
       "    </tr>\n",
       "    <tr>\n",
       "      <th>9</th>\n",
       "      <td>198</td>\n",
       "      <td>1207</td>\n",
       "      <td>A</td>\n",
       "      <td>5</td>\n",
       "      <td>H</td>\n",
       "      <td>5</td>\n",
       "      <td>72</td>\n",
       "      <td>40.02</td>\n",
       "      <td>72.750</td>\n",
       "    </tr>\n",
       "    <tr>\n",
       "      <th>10</th>\n",
       "      <td>198</td>\n",
       "      <td>1207</td>\n",
       "      <td>A</td>\n",
       "      <td>6</td>\n",
       "      <td>H</td>\n",
       "      <td>1</td>\n",
       "      <td>68</td>\n",
       "      <td>43.48</td>\n",
       "      <td>72.620</td>\n",
       "    </tr>\n",
       "    <tr>\n",
       "      <th>12</th>\n",
       "      <td>198</td>\n",
       "      <td>1207</td>\n",
       "      <td>A</td>\n",
       "      <td>6</td>\n",
       "      <td>H</td>\n",
       "      <td>5</td>\n",
       "      <td>68</td>\n",
       "      <td>49.48</td>\n",
       "      <td>77.150</td>\n",
       "    </tr>\n",
       "    <tr>\n",
       "      <th>13</th>\n",
       "      <td>198</td>\n",
       "      <td>1207</td>\n",
       "      <td>A</td>\n",
       "      <td>7</td>\n",
       "      <td>H</td>\n",
       "      <td>1</td>\n",
       "      <td>8</td>\n",
       "      <td>52.38</td>\n",
       "      <td>55.644</td>\n",
       "    </tr>\n",
       "    <tr>\n",
       "      <th>14</th>\n",
       "      <td>198</td>\n",
       "      <td>1207</td>\n",
       "      <td>A</td>\n",
       "      <td>7</td>\n",
       "      <td>H</td>\n",
       "      <td>3</td>\n",
       "      <td>73</td>\n",
       "      <td>56.03</td>\n",
       "      <td>75.270</td>\n",
       "    </tr>\n",
       "    <tr>\n",
       "      <th>15</th>\n",
       "      <td>198</td>\n",
       "      <td>1207</td>\n",
       "      <td>A</td>\n",
       "      <td>7</td>\n",
       "      <td>H</td>\n",
       "      <td>5</td>\n",
       "      <td>31</td>\n",
       "      <td>58.61</td>\n",
       "      <td>61.270</td>\n",
       "    </tr>\n",
       "    <tr>\n",
       "      <th>16</th>\n",
       "      <td>198</td>\n",
       "      <td>1207</td>\n",
       "      <td>A</td>\n",
       "      <td>8</td>\n",
       "      <td>H</td>\n",
       "      <td>2</td>\n",
       "      <td>95</td>\n",
       "      <td>64.25</td>\n",
       "      <td>79.020</td>\n",
       "    </tr>\n",
       "    <tr>\n",
       "      <th>17</th>\n",
       "      <td>198</td>\n",
       "      <td>1207</td>\n",
       "      <td>A</td>\n",
       "      <td>8</td>\n",
       "      <td>H</td>\n",
       "      <td>4</td>\n",
       "      <td>37</td>\n",
       "      <td>66.67</td>\n",
       "      <td>52.396</td>\n",
       "    </tr>\n",
       "    <tr>\n",
       "      <th>19</th>\n",
       "      <td>198</td>\n",
       "      <td>1207</td>\n",
       "      <td>A</td>\n",
       "      <td>9</td>\n",
       "      <td>H</td>\n",
       "      <td>1</td>\n",
       "      <td>48</td>\n",
       "      <td>71.78</td>\n",
       "      <td>68.290</td>\n",
       "    </tr>\n",
       "    <tr>\n",
       "      <th>20</th>\n",
       "      <td>198</td>\n",
       "      <td>1207</td>\n",
       "      <td>A</td>\n",
       "      <td>9</td>\n",
       "      <td>H</td>\n",
       "      <td>1</td>\n",
       "      <td>83</td>\n",
       "      <td>72.13</td>\n",
       "      <td>79.830</td>\n",
       "    </tr>\n",
       "    <tr>\n",
       "      <th>21</th>\n",
       "      <td>198</td>\n",
       "      <td>1207</td>\n",
       "      <td>A</td>\n",
       "      <td>9</td>\n",
       "      <td>H</td>\n",
       "      <td>3</td>\n",
       "      <td>73</td>\n",
       "      <td>75.03</td>\n",
       "      <td>70.480</td>\n",
       "    </tr>\n",
       "    <tr>\n",
       "      <th>23</th>\n",
       "      <td>198</td>\n",
       "      <td>1207</td>\n",
       "      <td>A</td>\n",
       "      <td>10</td>\n",
       "      <td>H</td>\n",
       "      <td>1</td>\n",
       "      <td>72</td>\n",
       "      <td>81.52</td>\n",
       "      <td>72.320</td>\n",
       "    </tr>\n",
       "    <tr>\n",
       "      <th>24</th>\n",
       "      <td>198</td>\n",
       "      <td>1207</td>\n",
       "      <td>A</td>\n",
       "      <td>10</td>\n",
       "      <td>H</td>\n",
       "      <td>2</td>\n",
       "      <td>35</td>\n",
       "      <td>82.65</td>\n",
       "      <td>84.620</td>\n",
       "    </tr>\n",
       "    <tr>\n",
       "      <th>26</th>\n",
       "      <td>198</td>\n",
       "      <td>1207</td>\n",
       "      <td>A</td>\n",
       "      <td>11</td>\n",
       "      <td>H</td>\n",
       "      <td>5</td>\n",
       "      <td>71</td>\n",
       "      <td>97.01</td>\n",
       "      <td>76.660</td>\n",
       "    </tr>\n",
       "    <tr>\n",
       "      <th>27</th>\n",
       "      <td>198</td>\n",
       "      <td>1207</td>\n",
       "      <td>A</td>\n",
       "      <td>11</td>\n",
       "      <td>H</td>\n",
       "      <td>5</td>\n",
       "      <td>98</td>\n",
       "      <td>97.28</td>\n",
       "      <td>83.090</td>\n",
       "    </tr>\n",
       "  </tbody>\n",
       "</table>\n",
       "</div>"
      ],
      "text/plain": [
       "    Leg  Site  H  Cor  T Sc  Top(cm)  Depth (mbsf)  CaCO3 (wt %)\n",
       "0   198  1207  A    2  H  2       65          6.95        69.630\n",
       "2   198  1207  A    3  H  1       66         14.96        76.000\n",
       "3   198  1207  A    3  H  2      126         17.06        55.478\n",
       "5   198  1207  A    4  H  4       70         29.00        77.950\n",
       "6   198  1207  A    4  H  6       13         31.43        53.978\n",
       "8   198  1207  A    5  H  3       72         37.02        71.010\n",
       "9   198  1207  A    5  H  5       72         40.02        72.750\n",
       "10  198  1207  A    6  H  1       68         43.48        72.620\n",
       "12  198  1207  A    6  H  5       68         49.48        77.150\n",
       "13  198  1207  A    7  H  1        8         52.38        55.644\n",
       "14  198  1207  A    7  H  3       73         56.03        75.270\n",
       "15  198  1207  A    7  H  5       31         58.61        61.270\n",
       "16  198  1207  A    8  H  2       95         64.25        79.020\n",
       "17  198  1207  A    8  H  4       37         66.67        52.396\n",
       "19  198  1207  A    9  H  1       48         71.78        68.290\n",
       "20  198  1207  A    9  H  1       83         72.13        79.830\n",
       "21  198  1207  A    9  H  3       73         75.03        70.480\n",
       "23  198  1207  A   10  H  1       72         81.52        72.320\n",
       "24  198  1207  A   10  H  2       35         82.65        84.620\n",
       "26  198  1207  A   11  H  5       71         97.01        76.660\n",
       "27  198  1207  A   11  H  5       98         97.28        83.090"
      ]
     },
     "execution_count": 60,
     "metadata": {},
     "output_type": "execute_result"
    }
   ],
   "source": [
    "geochemistry_df[(geochemistry_df['CaCO3 (wt %)'] >=50) & (geochemistry_df['Depth (mbsf)'] <100)] "
   ]
  },
  {
   "cell_type": "markdown",
   "metadata": {},
   "source": [
    "You can also use an 'OR' Python operator, '|'. In this case I get all the samples above 100 mbsf irrespective of carbonate content AND all the samples below 100 mbsf with >=50% carbonates:"
   ]
  },
  {
   "cell_type": "code",
   "execution_count": 61,
   "metadata": {
    "execution": {
     "iopub.execute_input": "2022-01-18T13:17:06.892616Z",
     "iopub.status.busy": "2022-01-18T13:17:06.892425Z",
     "iopub.status.idle": "2022-01-18T13:17:06.909110Z",
     "shell.execute_reply": "2022-01-18T13:17:06.908539Z",
     "shell.execute_reply.started": "2022-01-18T13:17:06.892593Z"
    },
    "tags": []
   },
   "outputs": [
    {
     "data": {
      "text/html": [
       "<div>\n",
       "<style scoped>\n",
       "    .dataframe tbody tr th:only-of-type {\n",
       "        vertical-align: middle;\n",
       "    }\n",
       "\n",
       "    .dataframe tbody tr th {\n",
       "        vertical-align: top;\n",
       "    }\n",
       "\n",
       "    .dataframe thead th {\n",
       "        text-align: right;\n",
       "    }\n",
       "</style>\n",
       "<table border=\"1\" class=\"dataframe\">\n",
       "  <thead>\n",
       "    <tr style=\"text-align: right;\">\n",
       "      <th></th>\n",
       "      <th>Leg</th>\n",
       "      <th>Site</th>\n",
       "      <th>H</th>\n",
       "      <th>Cor</th>\n",
       "      <th>T</th>\n",
       "      <th>Sc</th>\n",
       "      <th>Top(cm)</th>\n",
       "      <th>Depth (mbsf)</th>\n",
       "      <th>CaCO3 (wt %)</th>\n",
       "    </tr>\n",
       "  </thead>\n",
       "  <tbody>\n",
       "    <tr>\n",
       "      <th>0</th>\n",
       "      <td>198</td>\n",
       "      <td>1207</td>\n",
       "      <td>A</td>\n",
       "      <td>2</td>\n",
       "      <td>H</td>\n",
       "      <td>2</td>\n",
       "      <td>65</td>\n",
       "      <td>6.95</td>\n",
       "      <td>69.630</td>\n",
       "    </tr>\n",
       "    <tr>\n",
       "      <th>1</th>\n",
       "      <td>198</td>\n",
       "      <td>1207</td>\n",
       "      <td>A</td>\n",
       "      <td>2</td>\n",
       "      <td>H</td>\n",
       "      <td>5</td>\n",
       "      <td>33</td>\n",
       "      <td>11.13</td>\n",
       "      <td>49.314</td>\n",
       "    </tr>\n",
       "    <tr>\n",
       "      <th>2</th>\n",
       "      <td>198</td>\n",
       "      <td>1207</td>\n",
       "      <td>A</td>\n",
       "      <td>3</td>\n",
       "      <td>H</td>\n",
       "      <td>1</td>\n",
       "      <td>66</td>\n",
       "      <td>14.96</td>\n",
       "      <td>76.000</td>\n",
       "    </tr>\n",
       "    <tr>\n",
       "      <th>3</th>\n",
       "      <td>198</td>\n",
       "      <td>1207</td>\n",
       "      <td>A</td>\n",
       "      <td>3</td>\n",
       "      <td>H</td>\n",
       "      <td>2</td>\n",
       "      <td>126</td>\n",
       "      <td>17.06</td>\n",
       "      <td>55.478</td>\n",
       "    </tr>\n",
       "    <tr>\n",
       "      <th>4</th>\n",
       "      <td>198</td>\n",
       "      <td>1207</td>\n",
       "      <td>A</td>\n",
       "      <td>3</td>\n",
       "      <td>H</td>\n",
       "      <td>4</td>\n",
       "      <td>70</td>\n",
       "      <td>19.50</td>\n",
       "      <td>46.981</td>\n",
       "    </tr>\n",
       "    <tr>\n",
       "      <th>...</th>\n",
       "      <td>...</td>\n",
       "      <td>...</td>\n",
       "      <td>...</td>\n",
       "      <td>...</td>\n",
       "      <td>...</td>\n",
       "      <td>...</td>\n",
       "      <td>...</td>\n",
       "      <td>...</td>\n",
       "      <td>...</td>\n",
       "    </tr>\n",
       "    <tr>\n",
       "      <th>63</th>\n",
       "      <td>198</td>\n",
       "      <td>1207</td>\n",
       "      <td>B</td>\n",
       "      <td>4</td>\n",
       "      <td>R</td>\n",
       "      <td>3</td>\n",
       "      <td>53</td>\n",
       "      <td>189.33</td>\n",
       "      <td>96.710</td>\n",
       "    </tr>\n",
       "    <tr>\n",
       "      <th>64</th>\n",
       "      <td>198</td>\n",
       "      <td>1207</td>\n",
       "      <td>B</td>\n",
       "      <td>5</td>\n",
       "      <td>R</td>\n",
       "      <td>2</td>\n",
       "      <td>74</td>\n",
       "      <td>197.74</td>\n",
       "      <td>96.910</td>\n",
       "    </tr>\n",
       "    <tr>\n",
       "      <th>65</th>\n",
       "      <td>198</td>\n",
       "      <td>1207</td>\n",
       "      <td>B</td>\n",
       "      <td>6</td>\n",
       "      <td>R</td>\n",
       "      <td>1</td>\n",
       "      <td>65</td>\n",
       "      <td>205.75</td>\n",
       "      <td>96.600</td>\n",
       "    </tr>\n",
       "    <tr>\n",
       "      <th>66</th>\n",
       "      <td>198</td>\n",
       "      <td>1207</td>\n",
       "      <td>B</td>\n",
       "      <td>40</td>\n",
       "      <td>R</td>\n",
       "      <td>CC</td>\n",
       "      <td>30</td>\n",
       "      <td>526.80</td>\n",
       "      <td>60.930</td>\n",
       "    </tr>\n",
       "    <tr>\n",
       "      <th>70</th>\n",
       "      <td>198</td>\n",
       "      <td>1207</td>\n",
       "      <td>B</td>\n",
       "      <td>46</td>\n",
       "      <td>R</td>\n",
       "      <td>1</td>\n",
       "      <td>52</td>\n",
       "      <td>584.72</td>\n",
       "      <td>64.200</td>\n",
       "    </tr>\n",
       "  </tbody>\n",
       "</table>\n",
       "<p>65 rows × 9 columns</p>\n",
       "</div>"
      ],
      "text/plain": [
       "    Leg  Site  H  Cor  T  Sc  Top(cm)  Depth (mbsf)  CaCO3 (wt %)\n",
       "0   198  1207  A    2  H   2       65          6.95        69.630\n",
       "1   198  1207  A    2  H   5       33         11.13        49.314\n",
       "2   198  1207  A    3  H   1       66         14.96        76.000\n",
       "3   198  1207  A    3  H   2      126         17.06        55.478\n",
       "4   198  1207  A    3  H   4       70         19.50        46.981\n",
       "..  ...   ... ..  ... ..  ..      ...           ...           ...\n",
       "63  198  1207  B    4  R   3       53        189.33        96.710\n",
       "64  198  1207  B    5  R   2       74        197.74        96.910\n",
       "65  198  1207  B    6  R   1       65        205.75        96.600\n",
       "66  198  1207  B   40  R  CC       30        526.80        60.930\n",
       "70  198  1207  B   46  R   1       52        584.72        64.200\n",
       "\n",
       "[65 rows x 9 columns]"
      ]
     },
     "execution_count": 61,
     "metadata": {},
     "output_type": "execute_result"
    }
   ],
   "source": [
    "geochemistry_df[(geochemistry_df['CaCO3 (wt %)'] >=50) | (geochemistry_df['Depth (mbsf)'] <100)]"
   ]
  },
  {
   "cell_type": "markdown",
   "metadata": {},
   "source": [
    "You can combine 'OR' and 'AND' logic to your hearts content. The '()' give the order of priority for the operation. In the case below, it will return all the data from the previous query above, but limit it to the samples above 300 mbsf (notice the '&' at the end)"
   ]
  },
  {
   "cell_type": "code",
   "execution_count": 62,
   "metadata": {
    "execution": {
     "iopub.execute_input": "2022-01-18T13:17:06.912174Z",
     "iopub.status.busy": "2022-01-18T13:17:06.911997Z",
     "iopub.status.idle": "2022-01-18T13:17:06.932381Z",
     "shell.execute_reply": "2022-01-18T13:17:06.931788Z",
     "shell.execute_reply.started": "2022-01-18T13:17:06.912153Z"
    },
    "tags": []
   },
   "outputs": [
    {
     "data": {
      "text/html": [
       "<div>\n",
       "<style scoped>\n",
       "    .dataframe tbody tr th:only-of-type {\n",
       "        vertical-align: middle;\n",
       "    }\n",
       "\n",
       "    .dataframe tbody tr th {\n",
       "        vertical-align: top;\n",
       "    }\n",
       "\n",
       "    .dataframe thead th {\n",
       "        text-align: right;\n",
       "    }\n",
       "</style>\n",
       "<table border=\"1\" class=\"dataframe\">\n",
       "  <thead>\n",
       "    <tr style=\"text-align: right;\">\n",
       "      <th></th>\n",
       "      <th>Leg</th>\n",
       "      <th>Site</th>\n",
       "      <th>H</th>\n",
       "      <th>Cor</th>\n",
       "      <th>T</th>\n",
       "      <th>Sc</th>\n",
       "      <th>Top(cm)</th>\n",
       "      <th>Depth (mbsf)</th>\n",
       "      <th>CaCO3 (wt %)</th>\n",
       "    </tr>\n",
       "  </thead>\n",
       "  <tbody>\n",
       "    <tr>\n",
       "      <th>0</th>\n",
       "      <td>198</td>\n",
       "      <td>1207</td>\n",
       "      <td>A</td>\n",
       "      <td>2</td>\n",
       "      <td>H</td>\n",
       "      <td>2</td>\n",
       "      <td>65</td>\n",
       "      <td>6.95</td>\n",
       "      <td>69.630</td>\n",
       "    </tr>\n",
       "    <tr>\n",
       "      <th>1</th>\n",
       "      <td>198</td>\n",
       "      <td>1207</td>\n",
       "      <td>A</td>\n",
       "      <td>2</td>\n",
       "      <td>H</td>\n",
       "      <td>5</td>\n",
       "      <td>33</td>\n",
       "      <td>11.13</td>\n",
       "      <td>49.314</td>\n",
       "    </tr>\n",
       "    <tr>\n",
       "      <th>2</th>\n",
       "      <td>198</td>\n",
       "      <td>1207</td>\n",
       "      <td>A</td>\n",
       "      <td>3</td>\n",
       "      <td>H</td>\n",
       "      <td>1</td>\n",
       "      <td>66</td>\n",
       "      <td>14.96</td>\n",
       "      <td>76.000</td>\n",
       "    </tr>\n",
       "    <tr>\n",
       "      <th>3</th>\n",
       "      <td>198</td>\n",
       "      <td>1207</td>\n",
       "      <td>A</td>\n",
       "      <td>3</td>\n",
       "      <td>H</td>\n",
       "      <td>2</td>\n",
       "      <td>126</td>\n",
       "      <td>17.06</td>\n",
       "      <td>55.478</td>\n",
       "    </tr>\n",
       "    <tr>\n",
       "      <th>4</th>\n",
       "      <td>198</td>\n",
       "      <td>1207</td>\n",
       "      <td>A</td>\n",
       "      <td>3</td>\n",
       "      <td>H</td>\n",
       "      <td>4</td>\n",
       "      <td>70</td>\n",
       "      <td>19.50</td>\n",
       "      <td>46.981</td>\n",
       "    </tr>\n",
       "    <tr>\n",
       "      <th>5</th>\n",
       "      <td>198</td>\n",
       "      <td>1207</td>\n",
       "      <td>A</td>\n",
       "      <td>4</td>\n",
       "      <td>H</td>\n",
       "      <td>4</td>\n",
       "      <td>70</td>\n",
       "      <td>29.00</td>\n",
       "      <td>77.950</td>\n",
       "    </tr>\n",
       "    <tr>\n",
       "      <th>6</th>\n",
       "      <td>198</td>\n",
       "      <td>1207</td>\n",
       "      <td>A</td>\n",
       "      <td>4</td>\n",
       "      <td>H</td>\n",
       "      <td>6</td>\n",
       "      <td>13</td>\n",
       "      <td>31.43</td>\n",
       "      <td>53.978</td>\n",
       "    </tr>\n",
       "    <tr>\n",
       "      <th>7</th>\n",
       "      <td>198</td>\n",
       "      <td>1207</td>\n",
       "      <td>A</td>\n",
       "      <td>5</td>\n",
       "      <td>H</td>\n",
       "      <td>1</td>\n",
       "      <td>72</td>\n",
       "      <td>34.02</td>\n",
       "      <td>49.980</td>\n",
       "    </tr>\n",
       "    <tr>\n",
       "      <th>8</th>\n",
       "      <td>198</td>\n",
       "      <td>1207</td>\n",
       "      <td>A</td>\n",
       "      <td>5</td>\n",
       "      <td>H</td>\n",
       "      <td>3</td>\n",
       "      <td>72</td>\n",
       "      <td>37.02</td>\n",
       "      <td>71.010</td>\n",
       "    </tr>\n",
       "    <tr>\n",
       "      <th>9</th>\n",
       "      <td>198</td>\n",
       "      <td>1207</td>\n",
       "      <td>A</td>\n",
       "      <td>5</td>\n",
       "      <td>H</td>\n",
       "      <td>5</td>\n",
       "      <td>72</td>\n",
       "      <td>40.02</td>\n",
       "      <td>72.750</td>\n",
       "    </tr>\n",
       "    <tr>\n",
       "      <th>10</th>\n",
       "      <td>198</td>\n",
       "      <td>1207</td>\n",
       "      <td>A</td>\n",
       "      <td>6</td>\n",
       "      <td>H</td>\n",
       "      <td>1</td>\n",
       "      <td>68</td>\n",
       "      <td>43.48</td>\n",
       "      <td>72.620</td>\n",
       "    </tr>\n",
       "    <tr>\n",
       "      <th>11</th>\n",
       "      <td>198</td>\n",
       "      <td>1207</td>\n",
       "      <td>A</td>\n",
       "      <td>6</td>\n",
       "      <td>H</td>\n",
       "      <td>3</td>\n",
       "      <td>68</td>\n",
       "      <td>46.48</td>\n",
       "      <td>41.067</td>\n",
       "    </tr>\n",
       "    <tr>\n",
       "      <th>12</th>\n",
       "      <td>198</td>\n",
       "      <td>1207</td>\n",
       "      <td>A</td>\n",
       "      <td>6</td>\n",
       "      <td>H</td>\n",
       "      <td>5</td>\n",
       "      <td>68</td>\n",
       "      <td>49.48</td>\n",
       "      <td>77.150</td>\n",
       "    </tr>\n",
       "    <tr>\n",
       "      <th>13</th>\n",
       "      <td>198</td>\n",
       "      <td>1207</td>\n",
       "      <td>A</td>\n",
       "      <td>7</td>\n",
       "      <td>H</td>\n",
       "      <td>1</td>\n",
       "      <td>8</td>\n",
       "      <td>52.38</td>\n",
       "      <td>55.644</td>\n",
       "    </tr>\n",
       "    <tr>\n",
       "      <th>14</th>\n",
       "      <td>198</td>\n",
       "      <td>1207</td>\n",
       "      <td>A</td>\n",
       "      <td>7</td>\n",
       "      <td>H</td>\n",
       "      <td>3</td>\n",
       "      <td>73</td>\n",
       "      <td>56.03</td>\n",
       "      <td>75.270</td>\n",
       "    </tr>\n",
       "    <tr>\n",
       "      <th>15</th>\n",
       "      <td>198</td>\n",
       "      <td>1207</td>\n",
       "      <td>A</td>\n",
       "      <td>7</td>\n",
       "      <td>H</td>\n",
       "      <td>5</td>\n",
       "      <td>31</td>\n",
       "      <td>58.61</td>\n",
       "      <td>61.270</td>\n",
       "    </tr>\n",
       "    <tr>\n",
       "      <th>16</th>\n",
       "      <td>198</td>\n",
       "      <td>1207</td>\n",
       "      <td>A</td>\n",
       "      <td>8</td>\n",
       "      <td>H</td>\n",
       "      <td>2</td>\n",
       "      <td>95</td>\n",
       "      <td>64.25</td>\n",
       "      <td>79.020</td>\n",
       "    </tr>\n",
       "    <tr>\n",
       "      <th>17</th>\n",
       "      <td>198</td>\n",
       "      <td>1207</td>\n",
       "      <td>A</td>\n",
       "      <td>8</td>\n",
       "      <td>H</td>\n",
       "      <td>4</td>\n",
       "      <td>37</td>\n",
       "      <td>66.67</td>\n",
       "      <td>52.396</td>\n",
       "    </tr>\n",
       "    <tr>\n",
       "      <th>18</th>\n",
       "      <td>198</td>\n",
       "      <td>1207</td>\n",
       "      <td>A</td>\n",
       "      <td>8</td>\n",
       "      <td>H</td>\n",
       "      <td>5</td>\n",
       "      <td>94</td>\n",
       "      <td>68.74</td>\n",
       "      <td>16.160</td>\n",
       "    </tr>\n",
       "    <tr>\n",
       "      <th>19</th>\n",
       "      <td>198</td>\n",
       "      <td>1207</td>\n",
       "      <td>A</td>\n",
       "      <td>9</td>\n",
       "      <td>H</td>\n",
       "      <td>1</td>\n",
       "      <td>48</td>\n",
       "      <td>71.78</td>\n",
       "      <td>68.290</td>\n",
       "    </tr>\n",
       "    <tr>\n",
       "      <th>20</th>\n",
       "      <td>198</td>\n",
       "      <td>1207</td>\n",
       "      <td>A</td>\n",
       "      <td>9</td>\n",
       "      <td>H</td>\n",
       "      <td>1</td>\n",
       "      <td>83</td>\n",
       "      <td>72.13</td>\n",
       "      <td>79.830</td>\n",
       "    </tr>\n",
       "    <tr>\n",
       "      <th>21</th>\n",
       "      <td>198</td>\n",
       "      <td>1207</td>\n",
       "      <td>A</td>\n",
       "      <td>9</td>\n",
       "      <td>H</td>\n",
       "      <td>3</td>\n",
       "      <td>73</td>\n",
       "      <td>75.03</td>\n",
       "      <td>70.480</td>\n",
       "    </tr>\n",
       "    <tr>\n",
       "      <th>22</th>\n",
       "      <td>198</td>\n",
       "      <td>1207</td>\n",
       "      <td>A</td>\n",
       "      <td>10</td>\n",
       "      <td>H</td>\n",
       "      <td>1</td>\n",
       "      <td>16</td>\n",
       "      <td>80.96</td>\n",
       "      <td>44.149</td>\n",
       "    </tr>\n",
       "    <tr>\n",
       "      <th>23</th>\n",
       "      <td>198</td>\n",
       "      <td>1207</td>\n",
       "      <td>A</td>\n",
       "      <td>10</td>\n",
       "      <td>H</td>\n",
       "      <td>1</td>\n",
       "      <td>72</td>\n",
       "      <td>81.52</td>\n",
       "      <td>72.320</td>\n",
       "    </tr>\n",
       "    <tr>\n",
       "      <th>24</th>\n",
       "      <td>198</td>\n",
       "      <td>1207</td>\n",
       "      <td>A</td>\n",
       "      <td>10</td>\n",
       "      <td>H</td>\n",
       "      <td>2</td>\n",
       "      <td>35</td>\n",
       "      <td>82.65</td>\n",
       "      <td>84.620</td>\n",
       "    </tr>\n",
       "    <tr>\n",
       "      <th>25</th>\n",
       "      <td>198</td>\n",
       "      <td>1207</td>\n",
       "      <td>A</td>\n",
       "      <td>11</td>\n",
       "      <td>H</td>\n",
       "      <td>3</td>\n",
       "      <td>23</td>\n",
       "      <td>93.53</td>\n",
       "      <td>46.398</td>\n",
       "    </tr>\n",
       "    <tr>\n",
       "      <th>26</th>\n",
       "      <td>198</td>\n",
       "      <td>1207</td>\n",
       "      <td>A</td>\n",
       "      <td>11</td>\n",
       "      <td>H</td>\n",
       "      <td>5</td>\n",
       "      <td>71</td>\n",
       "      <td>97.01</td>\n",
       "      <td>76.660</td>\n",
       "    </tr>\n",
       "    <tr>\n",
       "      <th>27</th>\n",
       "      <td>198</td>\n",
       "      <td>1207</td>\n",
       "      <td>A</td>\n",
       "      <td>11</td>\n",
       "      <td>H</td>\n",
       "      <td>5</td>\n",
       "      <td>98</td>\n",
       "      <td>97.28</td>\n",
       "      <td>83.090</td>\n",
       "    </tr>\n",
       "    <tr>\n",
       "      <th>28</th>\n",
       "      <td>198</td>\n",
       "      <td>1207</td>\n",
       "      <td>A</td>\n",
       "      <td>12</td>\n",
       "      <td>H</td>\n",
       "      <td>1</td>\n",
       "      <td>93</td>\n",
       "      <td>100.73</td>\n",
       "      <td>78.580</td>\n",
       "    </tr>\n",
       "    <tr>\n",
       "      <th>31</th>\n",
       "      <td>198</td>\n",
       "      <td>1207</td>\n",
       "      <td>A</td>\n",
       "      <td>13</td>\n",
       "      <td>H</td>\n",
       "      <td>4</td>\n",
       "      <td>44</td>\n",
       "      <td>114.24</td>\n",
       "      <td>52.396</td>\n",
       "    </tr>\n",
       "    <tr>\n",
       "      <th>32</th>\n",
       "      <td>198</td>\n",
       "      <td>1207</td>\n",
       "      <td>A</td>\n",
       "      <td>13</td>\n",
       "      <td>H</td>\n",
       "      <td>6</td>\n",
       "      <td>72</td>\n",
       "      <td>117.52</td>\n",
       "      <td>67.710</td>\n",
       "    </tr>\n",
       "    <tr>\n",
       "      <th>33</th>\n",
       "      <td>198</td>\n",
       "      <td>1207</td>\n",
       "      <td>A</td>\n",
       "      <td>14</td>\n",
       "      <td>H</td>\n",
       "      <td>1</td>\n",
       "      <td>37</td>\n",
       "      <td>119.17</td>\n",
       "      <td>76.950</td>\n",
       "    </tr>\n",
       "    <tr>\n",
       "      <th>35</th>\n",
       "      <td>198</td>\n",
       "      <td>1207</td>\n",
       "      <td>A</td>\n",
       "      <td>14</td>\n",
       "      <td>H</td>\n",
       "      <td>4</td>\n",
       "      <td>67</td>\n",
       "      <td>123.97</td>\n",
       "      <td>79.490</td>\n",
       "    </tr>\n",
       "    <tr>\n",
       "      <th>36</th>\n",
       "      <td>198</td>\n",
       "      <td>1207</td>\n",
       "      <td>A</td>\n",
       "      <td>15</td>\n",
       "      <td>H</td>\n",
       "      <td>1</td>\n",
       "      <td>110</td>\n",
       "      <td>129.40</td>\n",
       "      <td>68.610</td>\n",
       "    </tr>\n",
       "    <tr>\n",
       "      <th>37</th>\n",
       "      <td>198</td>\n",
       "      <td>1207</td>\n",
       "      <td>A</td>\n",
       "      <td>15</td>\n",
       "      <td>H</td>\n",
       "      <td>4</td>\n",
       "      <td>72</td>\n",
       "      <td>133.52</td>\n",
       "      <td>87.310</td>\n",
       "    </tr>\n",
       "    <tr>\n",
       "      <th>38</th>\n",
       "      <td>198</td>\n",
       "      <td>1207</td>\n",
       "      <td>A</td>\n",
       "      <td>15</td>\n",
       "      <td>H</td>\n",
       "      <td>6</td>\n",
       "      <td>30</td>\n",
       "      <td>136.10</td>\n",
       "      <td>71.210</td>\n",
       "    </tr>\n",
       "    <tr>\n",
       "      <th>39</th>\n",
       "      <td>198</td>\n",
       "      <td>1207</td>\n",
       "      <td>A</td>\n",
       "      <td>16</td>\n",
       "      <td>H</td>\n",
       "      <td>1</td>\n",
       "      <td>119</td>\n",
       "      <td>138.99</td>\n",
       "      <td>86.430</td>\n",
       "    </tr>\n",
       "    <tr>\n",
       "      <th>40</th>\n",
       "      <td>198</td>\n",
       "      <td>1207</td>\n",
       "      <td>A</td>\n",
       "      <td>16</td>\n",
       "      <td>H</td>\n",
       "      <td>2</td>\n",
       "      <td>23</td>\n",
       "      <td>139.53</td>\n",
       "      <td>72.410</td>\n",
       "    </tr>\n",
       "    <tr>\n",
       "      <th>41</th>\n",
       "      <td>198</td>\n",
       "      <td>1207</td>\n",
       "      <td>A</td>\n",
       "      <td>16</td>\n",
       "      <td>H</td>\n",
       "      <td>4</td>\n",
       "      <td>68</td>\n",
       "      <td>142.98</td>\n",
       "      <td>75.200</td>\n",
       "    </tr>\n",
       "    <tr>\n",
       "      <th>42</th>\n",
       "      <td>198</td>\n",
       "      <td>1207</td>\n",
       "      <td>A</td>\n",
       "      <td>17</td>\n",
       "      <td>H</td>\n",
       "      <td>1</td>\n",
       "      <td>85</td>\n",
       "      <td>148.15</td>\n",
       "      <td>85.840</td>\n",
       "    </tr>\n",
       "    <tr>\n",
       "      <th>43</th>\n",
       "      <td>198</td>\n",
       "      <td>1207</td>\n",
       "      <td>A</td>\n",
       "      <td>17</td>\n",
       "      <td>H</td>\n",
       "      <td>2</td>\n",
       "      <td>95</td>\n",
       "      <td>149.75</td>\n",
       "      <td>74.030</td>\n",
       "    </tr>\n",
       "  </tbody>\n",
       "</table>\n",
       "</div>"
      ],
      "text/plain": [
       "    Leg  Site  H  Cor  T Sc  Top(cm)  Depth (mbsf)  CaCO3 (wt %)\n",
       "0   198  1207  A    2  H  2       65          6.95        69.630\n",
       "1   198  1207  A    2  H  5       33         11.13        49.314\n",
       "2   198  1207  A    3  H  1       66         14.96        76.000\n",
       "3   198  1207  A    3  H  2      126         17.06        55.478\n",
       "4   198  1207  A    3  H  4       70         19.50        46.981\n",
       "5   198  1207  A    4  H  4       70         29.00        77.950\n",
       "6   198  1207  A    4  H  6       13         31.43        53.978\n",
       "7   198  1207  A    5  H  1       72         34.02        49.980\n",
       "8   198  1207  A    5  H  3       72         37.02        71.010\n",
       "9   198  1207  A    5  H  5       72         40.02        72.750\n",
       "10  198  1207  A    6  H  1       68         43.48        72.620\n",
       "11  198  1207  A    6  H  3       68         46.48        41.067\n",
       "12  198  1207  A    6  H  5       68         49.48        77.150\n",
       "13  198  1207  A    7  H  1        8         52.38        55.644\n",
       "14  198  1207  A    7  H  3       73         56.03        75.270\n",
       "15  198  1207  A    7  H  5       31         58.61        61.270\n",
       "16  198  1207  A    8  H  2       95         64.25        79.020\n",
       "17  198  1207  A    8  H  4       37         66.67        52.396\n",
       "18  198  1207  A    8  H  5       94         68.74        16.160\n",
       "19  198  1207  A    9  H  1       48         71.78        68.290\n",
       "20  198  1207  A    9  H  1       83         72.13        79.830\n",
       "21  198  1207  A    9  H  3       73         75.03        70.480\n",
       "22  198  1207  A   10  H  1       16         80.96        44.149\n",
       "23  198  1207  A   10  H  1       72         81.52        72.320\n",
       "24  198  1207  A   10  H  2       35         82.65        84.620\n",
       "25  198  1207  A   11  H  3       23         93.53        46.398\n",
       "26  198  1207  A   11  H  5       71         97.01        76.660\n",
       "27  198  1207  A   11  H  5       98         97.28        83.090\n",
       "28  198  1207  A   12  H  1       93        100.73        78.580\n",
       "31  198  1207  A   13  H  4       44        114.24        52.396\n",
       "32  198  1207  A   13  H  6       72        117.52        67.710\n",
       "33  198  1207  A   14  H  1       37        119.17        76.950\n",
       "35  198  1207  A   14  H  4       67        123.97        79.490\n",
       "36  198  1207  A   15  H  1      110        129.40        68.610\n",
       "37  198  1207  A   15  H  4       72        133.52        87.310\n",
       "38  198  1207  A   15  H  6       30        136.10        71.210\n",
       "39  198  1207  A   16  H  1      119        138.99        86.430\n",
       "40  198  1207  A   16  H  2       23        139.53        72.410\n",
       "41  198  1207  A   16  H  4       68        142.98        75.200\n",
       "42  198  1207  A   17  H  1       85        148.15        85.840\n",
       "43  198  1207  A   17  H  2       95        149.75        74.030"
      ]
     },
     "execution_count": 62,
     "metadata": {},
     "output_type": "execute_result"
    }
   ],
   "source": [
    "geochemistry_df[((geochemistry_df['CaCO3 (wt %)'] >=50) | (geochemistry_df['Depth (mbsf)'] <100)) & (geochemistry_df['Depth (mbsf)'] <150)]"
   ]
  },
  {
   "cell_type": "markdown",
   "metadata": {},
   "source": [
    "#### Selection with loc and iloc\n",
    "\n",
    "You can also access data in your dataframe using the '.loc' method (stands for 'location') and '.iloc' method ('index location').\n",
    "\n",
    "Let's first use 'loc', and return the `CaCO3 (wt %)` for the rows at index 1 and 10:"
   ]
  },
  {
   "cell_type": "code",
   "execution_count": 63,
   "metadata": {
    "collapsed": false,
    "execution": {
     "iopub.execute_input": "2022-01-18T13:17:06.934707Z",
     "iopub.status.busy": "2022-01-18T13:17:06.934531Z",
     "iopub.status.idle": "2022-01-18T13:17:06.939386Z",
     "shell.execute_reply": "2022-01-18T13:17:06.938785Z",
     "shell.execute_reply.started": "2022-01-18T13:17:06.934687Z"
    },
    "jupyter": {
     "outputs_hidden": false
    },
    "tags": []
   },
   "outputs": [
    {
     "data": {
      "text/plain": [
       "1     49.314\n",
       "10    72.620\n",
       "Name: CaCO3 (wt %), dtype: float64"
      ]
     },
     "execution_count": 63,
     "metadata": {},
     "output_type": "execute_result"
    }
   ],
   "source": [
    "geochemistry_df.loc[[1, 10],'CaCO3 (wt %)'] "
   ]
  },
  {
   "cell_type": "code",
   "execution_count": 64,
   "metadata": {
    "execution": {
     "iopub.execute_input": "2022-01-18T13:17:06.940600Z",
     "iopub.status.busy": "2022-01-18T13:17:06.940378Z",
     "iopub.status.idle": "2022-01-18T13:17:06.950019Z",
     "shell.execute_reply": "2022-01-18T13:17:06.949434Z",
     "shell.execute_reply.started": "2022-01-18T13:17:06.940575Z"
    },
    "tags": []
   },
   "outputs": [
    {
     "data": {
      "text/html": [
       "<div>\n",
       "<style scoped>\n",
       "    .dataframe tbody tr th:only-of-type {\n",
       "        vertical-align: middle;\n",
       "    }\n",
       "\n",
       "    .dataframe tbody tr th {\n",
       "        vertical-align: top;\n",
       "    }\n",
       "\n",
       "    .dataframe thead th {\n",
       "        text-align: right;\n",
       "    }\n",
       "</style>\n",
       "<table border=\"1\" class=\"dataframe\">\n",
       "  <thead>\n",
       "    <tr style=\"text-align: right;\">\n",
       "      <th></th>\n",
       "      <th>Leg</th>\n",
       "      <th>Site</th>\n",
       "      <th>H</th>\n",
       "      <th>Cor</th>\n",
       "      <th>T</th>\n",
       "      <th>Sc</th>\n",
       "      <th>Top(cm)</th>\n",
       "      <th>Depth (mbsf)</th>\n",
       "      <th>CaCO3 (wt %)</th>\n",
       "    </tr>\n",
       "  </thead>\n",
       "  <tbody>\n",
       "    <tr>\n",
       "      <th>1</th>\n",
       "      <td>198</td>\n",
       "      <td>1207</td>\n",
       "      <td>A</td>\n",
       "      <td>2</td>\n",
       "      <td>H</td>\n",
       "      <td>5</td>\n",
       "      <td>33</td>\n",
       "      <td>11.13</td>\n",
       "      <td>49.314</td>\n",
       "    </tr>\n",
       "    <tr>\n",
       "      <th>10</th>\n",
       "      <td>198</td>\n",
       "      <td>1207</td>\n",
       "      <td>A</td>\n",
       "      <td>6</td>\n",
       "      <td>H</td>\n",
       "      <td>1</td>\n",
       "      <td>68</td>\n",
       "      <td>43.48</td>\n",
       "      <td>72.620</td>\n",
       "    </tr>\n",
       "  </tbody>\n",
       "</table>\n",
       "</div>"
      ],
      "text/plain": [
       "    Leg  Site  H  Cor  T Sc  Top(cm)  Depth (mbsf)  CaCO3 (wt %)\n",
       "1   198  1207  A    2  H  5       33         11.13        49.314\n",
       "10  198  1207  A    6  H  1       68         43.48        72.620"
      ]
     },
     "execution_count": 64,
     "metadata": {},
     "output_type": "execute_result"
    }
   ],
   "source": [
    "# The ':' sign is shorthand for 'all'. For instance, this will output all columns for the selected samples:\n",
    "geochemistry_df.loc[[1, 10],:] "
   ]
  },
  {
   "cell_type": "code",
   "execution_count": 65,
   "metadata": {
    "execution": {
     "iopub.execute_input": "2022-01-18T13:17:06.951146Z",
     "iopub.status.busy": "2022-01-18T13:17:06.950969Z",
     "iopub.status.idle": "2022-01-18T13:17:06.955542Z",
     "shell.execute_reply": "2022-01-18T13:17:06.955051Z",
     "shell.execute_reply.started": "2022-01-18T13:17:06.951122Z"
    },
    "tags": []
   },
   "outputs": [
    {
     "data": {
      "text/plain": [
       "0     69.630\n",
       "1     49.314\n",
       "2     76.000\n",
       "3     55.478\n",
       "4     46.981\n",
       "       ...  \n",
       "66    60.930\n",
       "67     0.000\n",
       "68     0.000\n",
       "69     0.000\n",
       "70    64.200\n",
       "Name: CaCO3 (wt %), Length: 71, dtype: float64"
      ]
     },
     "execution_count": 65,
     "metadata": {},
     "output_type": "execute_result"
    }
   ],
   "source": [
    "# Or all samples for the selected column:\n",
    "geochemistry_df.loc[:,'CaCO3 (wt %)']"
   ]
  },
  {
   "cell_type": "markdown",
   "metadata": {},
   "source": [
    "Similar to when you sliced ndarrays, you can slice using loc:"
   ]
  },
  {
   "cell_type": "code",
   "execution_count": 66,
   "metadata": {
    "execution": {
     "iopub.execute_input": "2022-01-18T13:17:06.956646Z",
     "iopub.status.busy": "2022-01-18T13:17:06.956469Z",
     "iopub.status.idle": "2022-01-18T13:17:06.973749Z",
     "shell.execute_reply": "2022-01-18T13:17:06.973172Z",
     "shell.execute_reply.started": "2022-01-18T13:17:06.956626Z"
    },
    "tags": []
   },
   "outputs": [
    {
     "data": {
      "text/plain": [
       "1    49.314\n",
       "2    76.000\n",
       "3    55.478\n",
       "4    46.981\n",
       "Name: CaCO3 (wt %), dtype: float64"
      ]
     },
     "execution_count": 66,
     "metadata": {},
     "output_type": "execute_result"
    }
   ],
   "source": [
    "geochemistry_df.loc[1:4,'CaCO3 (wt %)'] # This returns carbonate content for samples from index 1 to 4"
   ]
  },
  {
   "cell_type": "code",
   "execution_count": 67,
   "metadata": {
    "collapsed": false,
    "execution": {
     "iopub.execute_input": "2022-01-18T13:17:06.974732Z",
     "iopub.status.busy": "2022-01-18T13:17:06.974584Z",
     "iopub.status.idle": "2022-01-18T13:17:06.983253Z",
     "shell.execute_reply": "2022-01-18T13:17:06.982765Z",
     "shell.execute_reply.started": "2022-01-18T13:17:06.974713Z"
    },
    "jupyter": {
     "outputs_hidden": false
    },
    "tags": []
   },
   "outputs": [
    {
     "data": {
      "text/html": [
       "<div>\n",
       "<style scoped>\n",
       "    .dataframe tbody tr th:only-of-type {\n",
       "        vertical-align: middle;\n",
       "    }\n",
       "\n",
       "    .dataframe tbody tr th {\n",
       "        vertical-align: top;\n",
       "    }\n",
       "\n",
       "    .dataframe thead th {\n",
       "        text-align: right;\n",
       "    }\n",
       "</style>\n",
       "<table border=\"1\" class=\"dataframe\">\n",
       "  <thead>\n",
       "    <tr style=\"text-align: right;\">\n",
       "      <th></th>\n",
       "      <th>Depth (mbsf)</th>\n",
       "      <th>CaCO3 (wt %)</th>\n",
       "    </tr>\n",
       "  </thead>\n",
       "  <tbody>\n",
       "    <tr>\n",
       "      <th>7</th>\n",
       "      <td>34.02</td>\n",
       "      <td>49.980</td>\n",
       "    </tr>\n",
       "    <tr>\n",
       "      <th>8</th>\n",
       "      <td>37.02</td>\n",
       "      <td>71.010</td>\n",
       "    </tr>\n",
       "    <tr>\n",
       "      <th>9</th>\n",
       "      <td>40.02</td>\n",
       "      <td>72.750</td>\n",
       "    </tr>\n",
       "    <tr>\n",
       "      <th>10</th>\n",
       "      <td>43.48</td>\n",
       "      <td>72.620</td>\n",
       "    </tr>\n",
       "    <tr>\n",
       "      <th>11</th>\n",
       "      <td>46.48</td>\n",
       "      <td>41.067</td>\n",
       "    </tr>\n",
       "    <tr>\n",
       "      <th>12</th>\n",
       "      <td>49.48</td>\n",
       "      <td>77.150</td>\n",
       "    </tr>\n",
       "    <tr>\n",
       "      <th>13</th>\n",
       "      <td>52.38</td>\n",
       "      <td>55.644</td>\n",
       "    </tr>\n",
       "    <tr>\n",
       "      <th>14</th>\n",
       "      <td>56.03</td>\n",
       "      <td>75.270</td>\n",
       "    </tr>\n",
       "    <tr>\n",
       "      <th>15</th>\n",
       "      <td>58.61</td>\n",
       "      <td>61.270</td>\n",
       "    </tr>\n",
       "    <tr>\n",
       "      <th>16</th>\n",
       "      <td>64.25</td>\n",
       "      <td>79.020</td>\n",
       "    </tr>\n",
       "    <tr>\n",
       "      <th>17</th>\n",
       "      <td>66.67</td>\n",
       "      <td>52.396</td>\n",
       "    </tr>\n",
       "    <tr>\n",
       "      <th>18</th>\n",
       "      <td>68.74</td>\n",
       "      <td>16.160</td>\n",
       "    </tr>\n",
       "    <tr>\n",
       "      <th>19</th>\n",
       "      <td>71.78</td>\n",
       "      <td>68.290</td>\n",
       "    </tr>\n",
       "    <tr>\n",
       "      <th>20</th>\n",
       "      <td>72.13</td>\n",
       "      <td>79.830</td>\n",
       "    </tr>\n",
       "    <tr>\n",
       "      <th>21</th>\n",
       "      <td>75.03</td>\n",
       "      <td>70.480</td>\n",
       "    </tr>\n",
       "    <tr>\n",
       "      <th>22</th>\n",
       "      <td>80.96</td>\n",
       "      <td>44.149</td>\n",
       "    </tr>\n",
       "    <tr>\n",
       "      <th>23</th>\n",
       "      <td>81.52</td>\n",
       "      <td>72.320</td>\n",
       "    </tr>\n",
       "    <tr>\n",
       "      <th>24</th>\n",
       "      <td>82.65</td>\n",
       "      <td>84.620</td>\n",
       "    </tr>\n",
       "    <tr>\n",
       "      <th>25</th>\n",
       "      <td>93.53</td>\n",
       "      <td>46.398</td>\n",
       "    </tr>\n",
       "    <tr>\n",
       "      <th>26</th>\n",
       "      <td>97.01</td>\n",
       "      <td>76.660</td>\n",
       "    </tr>\n",
       "  </tbody>\n",
       "</table>\n",
       "</div>"
      ],
      "text/plain": [
       "    Depth (mbsf)  CaCO3 (wt %)\n",
       "7          34.02        49.980\n",
       "8          37.02        71.010\n",
       "9          40.02        72.750\n",
       "10         43.48        72.620\n",
       "11         46.48        41.067\n",
       "12         49.48        77.150\n",
       "13         52.38        55.644\n",
       "14         56.03        75.270\n",
       "15         58.61        61.270\n",
       "16         64.25        79.020\n",
       "17         66.67        52.396\n",
       "18         68.74        16.160\n",
       "19         71.78        68.290\n",
       "20         72.13        79.830\n",
       "21         75.03        70.480\n",
       "22         80.96        44.149\n",
       "23         81.52        72.320\n",
       "24         82.65        84.620\n",
       "25         93.53        46.398\n",
       "26         97.01        76.660"
      ]
     },
     "execution_count": 67,
     "metadata": {},
     "output_type": "execute_result"
    }
   ],
   "source": [
    "# iloc works similarly to loc, but uses the index position of the row and columns. So, here we take rows 7 to 27, and columns 7 (Depth) to the end (CaCO3)\n",
    "geochemistry_df.iloc[7:27, 7:]"
   ]
  },
  {
   "cell_type": "markdown",
   "metadata": {},
   "source": [
    "#### Sorting series and dataframes\n",
    "\n",
    "You can also sort a dataframe by its index, or by a column. Sorting our geochemistry dataframe by it's index:"
   ]
  },
  {
   "cell_type": "code",
   "execution_count": 68,
   "metadata": {
    "collapsed": false,
    "execution": {
     "iopub.execute_input": "2022-01-18T13:17:06.984155Z",
     "iopub.status.busy": "2022-01-18T13:17:06.984011Z",
     "iopub.status.idle": "2022-01-18T13:17:06.998990Z",
     "shell.execute_reply": "2022-01-18T13:17:06.998450Z",
     "shell.execute_reply.started": "2022-01-18T13:17:06.984135Z"
    },
    "jupyter": {
     "outputs_hidden": false
    },
    "tags": []
   },
   "outputs": [
    {
     "data": {
      "text/html": [
       "<div>\n",
       "<style scoped>\n",
       "    .dataframe tbody tr th:only-of-type {\n",
       "        vertical-align: middle;\n",
       "    }\n",
       "\n",
       "    .dataframe tbody tr th {\n",
       "        vertical-align: top;\n",
       "    }\n",
       "\n",
       "    .dataframe thead th {\n",
       "        text-align: right;\n",
       "    }\n",
       "</style>\n",
       "<table border=\"1\" class=\"dataframe\">\n",
       "  <thead>\n",
       "    <tr style=\"text-align: right;\">\n",
       "      <th></th>\n",
       "      <th>Leg</th>\n",
       "      <th>Site</th>\n",
       "      <th>H</th>\n",
       "      <th>Cor</th>\n",
       "      <th>T</th>\n",
       "      <th>Sc</th>\n",
       "      <th>Top(cm)</th>\n",
       "      <th>Depth (mbsf)</th>\n",
       "      <th>CaCO3 (wt %)</th>\n",
       "    </tr>\n",
       "  </thead>\n",
       "  <tbody>\n",
       "    <tr>\n",
       "      <th>0</th>\n",
       "      <td>198</td>\n",
       "      <td>1207</td>\n",
       "      <td>A</td>\n",
       "      <td>2</td>\n",
       "      <td>H</td>\n",
       "      <td>2</td>\n",
       "      <td>65</td>\n",
       "      <td>6.95</td>\n",
       "      <td>69.630</td>\n",
       "    </tr>\n",
       "    <tr>\n",
       "      <th>1</th>\n",
       "      <td>198</td>\n",
       "      <td>1207</td>\n",
       "      <td>A</td>\n",
       "      <td>2</td>\n",
       "      <td>H</td>\n",
       "      <td>5</td>\n",
       "      <td>33</td>\n",
       "      <td>11.13</td>\n",
       "      <td>49.314</td>\n",
       "    </tr>\n",
       "    <tr>\n",
       "      <th>2</th>\n",
       "      <td>198</td>\n",
       "      <td>1207</td>\n",
       "      <td>A</td>\n",
       "      <td>3</td>\n",
       "      <td>H</td>\n",
       "      <td>1</td>\n",
       "      <td>66</td>\n",
       "      <td>14.96</td>\n",
       "      <td>76.000</td>\n",
       "    </tr>\n",
       "    <tr>\n",
       "      <th>3</th>\n",
       "      <td>198</td>\n",
       "      <td>1207</td>\n",
       "      <td>A</td>\n",
       "      <td>3</td>\n",
       "      <td>H</td>\n",
       "      <td>2</td>\n",
       "      <td>126</td>\n",
       "      <td>17.06</td>\n",
       "      <td>55.478</td>\n",
       "    </tr>\n",
       "    <tr>\n",
       "      <th>4</th>\n",
       "      <td>198</td>\n",
       "      <td>1207</td>\n",
       "      <td>A</td>\n",
       "      <td>3</td>\n",
       "      <td>H</td>\n",
       "      <td>4</td>\n",
       "      <td>70</td>\n",
       "      <td>19.50</td>\n",
       "      <td>46.981</td>\n",
       "    </tr>\n",
       "    <tr>\n",
       "      <th>...</th>\n",
       "      <td>...</td>\n",
       "      <td>...</td>\n",
       "      <td>...</td>\n",
       "      <td>...</td>\n",
       "      <td>...</td>\n",
       "      <td>...</td>\n",
       "      <td>...</td>\n",
       "      <td>...</td>\n",
       "      <td>...</td>\n",
       "    </tr>\n",
       "    <tr>\n",
       "      <th>66</th>\n",
       "      <td>198</td>\n",
       "      <td>1207</td>\n",
       "      <td>B</td>\n",
       "      <td>40</td>\n",
       "      <td>R</td>\n",
       "      <td>CC</td>\n",
       "      <td>30</td>\n",
       "      <td>526.80</td>\n",
       "      <td>60.930</td>\n",
       "    </tr>\n",
       "    <tr>\n",
       "      <th>67</th>\n",
       "      <td>198</td>\n",
       "      <td>1207</td>\n",
       "      <td>B</td>\n",
       "      <td>44</td>\n",
       "      <td>R</td>\n",
       "      <td>1</td>\n",
       "      <td>60</td>\n",
       "      <td>565.60</td>\n",
       "      <td>0.000</td>\n",
       "    </tr>\n",
       "    <tr>\n",
       "      <th>68</th>\n",
       "      <td>198</td>\n",
       "      <td>1207</td>\n",
       "      <td>B</td>\n",
       "      <td>44</td>\n",
       "      <td>R</td>\n",
       "      <td>1</td>\n",
       "      <td>76</td>\n",
       "      <td>565.76</td>\n",
       "      <td>0.000</td>\n",
       "    </tr>\n",
       "    <tr>\n",
       "      <th>69</th>\n",
       "      <td>198</td>\n",
       "      <td>1207</td>\n",
       "      <td>B</td>\n",
       "      <td>44</td>\n",
       "      <td>R</td>\n",
       "      <td>1</td>\n",
       "      <td>103</td>\n",
       "      <td>566.03</td>\n",
       "      <td>0.000</td>\n",
       "    </tr>\n",
       "    <tr>\n",
       "      <th>70</th>\n",
       "      <td>198</td>\n",
       "      <td>1207</td>\n",
       "      <td>B</td>\n",
       "      <td>46</td>\n",
       "      <td>R</td>\n",
       "      <td>1</td>\n",
       "      <td>52</td>\n",
       "      <td>584.72</td>\n",
       "      <td>64.200</td>\n",
       "    </tr>\n",
       "  </tbody>\n",
       "</table>\n",
       "<p>71 rows × 9 columns</p>\n",
       "</div>"
      ],
      "text/plain": [
       "    Leg  Site  H  Cor  T  Sc  Top(cm)  Depth (mbsf)  CaCO3 (wt %)\n",
       "0   198  1207  A    2  H   2       65          6.95        69.630\n",
       "1   198  1207  A    2  H   5       33         11.13        49.314\n",
       "2   198  1207  A    3  H   1       66         14.96        76.000\n",
       "3   198  1207  A    3  H   2      126         17.06        55.478\n",
       "4   198  1207  A    3  H   4       70         19.50        46.981\n",
       "..  ...   ... ..  ... ..  ..      ...           ...           ...\n",
       "66  198  1207  B   40  R  CC       30        526.80        60.930\n",
       "67  198  1207  B   44  R   1       60        565.60         0.000\n",
       "68  198  1207  B   44  R   1       76        565.76         0.000\n",
       "69  198  1207  B   44  R   1      103        566.03         0.000\n",
       "70  198  1207  B   46  R   1       52        584.72        64.200\n",
       "\n",
       "[71 rows x 9 columns]"
      ]
     },
     "execution_count": 68,
     "metadata": {},
     "output_type": "execute_result"
    }
   ],
   "source": [
    "geochemistry_df.sort_index()"
   ]
  },
  {
   "cell_type": "markdown",
   "metadata": {},
   "source": [
    "To reverse sort it:"
   ]
  },
  {
   "cell_type": "code",
   "execution_count": 69,
   "metadata": {
    "execution": {
     "iopub.execute_input": "2022-01-18T13:17:06.999967Z",
     "iopub.status.busy": "2022-01-18T13:17:06.999823Z",
     "iopub.status.idle": "2022-01-18T13:17:07.014740Z",
     "shell.execute_reply": "2022-01-18T13:17:07.014261Z",
     "shell.execute_reply.started": "2022-01-18T13:17:06.999947Z"
    },
    "tags": []
   },
   "outputs": [
    {
     "data": {
      "text/html": [
       "<div>\n",
       "<style scoped>\n",
       "    .dataframe tbody tr th:only-of-type {\n",
       "        vertical-align: middle;\n",
       "    }\n",
       "\n",
       "    .dataframe tbody tr th {\n",
       "        vertical-align: top;\n",
       "    }\n",
       "\n",
       "    .dataframe thead th {\n",
       "        text-align: right;\n",
       "    }\n",
       "</style>\n",
       "<table border=\"1\" class=\"dataframe\">\n",
       "  <thead>\n",
       "    <tr style=\"text-align: right;\">\n",
       "      <th></th>\n",
       "      <th>Leg</th>\n",
       "      <th>Site</th>\n",
       "      <th>H</th>\n",
       "      <th>Cor</th>\n",
       "      <th>T</th>\n",
       "      <th>Sc</th>\n",
       "      <th>Top(cm)</th>\n",
       "      <th>Depth (mbsf)</th>\n",
       "      <th>CaCO3 (wt %)</th>\n",
       "    </tr>\n",
       "  </thead>\n",
       "  <tbody>\n",
       "    <tr>\n",
       "      <th>70</th>\n",
       "      <td>198</td>\n",
       "      <td>1207</td>\n",
       "      <td>B</td>\n",
       "      <td>46</td>\n",
       "      <td>R</td>\n",
       "      <td>1</td>\n",
       "      <td>52</td>\n",
       "      <td>584.72</td>\n",
       "      <td>64.200</td>\n",
       "    </tr>\n",
       "    <tr>\n",
       "      <th>69</th>\n",
       "      <td>198</td>\n",
       "      <td>1207</td>\n",
       "      <td>B</td>\n",
       "      <td>44</td>\n",
       "      <td>R</td>\n",
       "      <td>1</td>\n",
       "      <td>103</td>\n",
       "      <td>566.03</td>\n",
       "      <td>0.000</td>\n",
       "    </tr>\n",
       "    <tr>\n",
       "      <th>68</th>\n",
       "      <td>198</td>\n",
       "      <td>1207</td>\n",
       "      <td>B</td>\n",
       "      <td>44</td>\n",
       "      <td>R</td>\n",
       "      <td>1</td>\n",
       "      <td>76</td>\n",
       "      <td>565.76</td>\n",
       "      <td>0.000</td>\n",
       "    </tr>\n",
       "    <tr>\n",
       "      <th>67</th>\n",
       "      <td>198</td>\n",
       "      <td>1207</td>\n",
       "      <td>B</td>\n",
       "      <td>44</td>\n",
       "      <td>R</td>\n",
       "      <td>1</td>\n",
       "      <td>60</td>\n",
       "      <td>565.60</td>\n",
       "      <td>0.000</td>\n",
       "    </tr>\n",
       "    <tr>\n",
       "      <th>66</th>\n",
       "      <td>198</td>\n",
       "      <td>1207</td>\n",
       "      <td>B</td>\n",
       "      <td>40</td>\n",
       "      <td>R</td>\n",
       "      <td>CC</td>\n",
       "      <td>30</td>\n",
       "      <td>526.80</td>\n",
       "      <td>60.930</td>\n",
       "    </tr>\n",
       "    <tr>\n",
       "      <th>...</th>\n",
       "      <td>...</td>\n",
       "      <td>...</td>\n",
       "      <td>...</td>\n",
       "      <td>...</td>\n",
       "      <td>...</td>\n",
       "      <td>...</td>\n",
       "      <td>...</td>\n",
       "      <td>...</td>\n",
       "      <td>...</td>\n",
       "    </tr>\n",
       "    <tr>\n",
       "      <th>4</th>\n",
       "      <td>198</td>\n",
       "      <td>1207</td>\n",
       "      <td>A</td>\n",
       "      <td>3</td>\n",
       "      <td>H</td>\n",
       "      <td>4</td>\n",
       "      <td>70</td>\n",
       "      <td>19.50</td>\n",
       "      <td>46.981</td>\n",
       "    </tr>\n",
       "    <tr>\n",
       "      <th>3</th>\n",
       "      <td>198</td>\n",
       "      <td>1207</td>\n",
       "      <td>A</td>\n",
       "      <td>3</td>\n",
       "      <td>H</td>\n",
       "      <td>2</td>\n",
       "      <td>126</td>\n",
       "      <td>17.06</td>\n",
       "      <td>55.478</td>\n",
       "    </tr>\n",
       "    <tr>\n",
       "      <th>2</th>\n",
       "      <td>198</td>\n",
       "      <td>1207</td>\n",
       "      <td>A</td>\n",
       "      <td>3</td>\n",
       "      <td>H</td>\n",
       "      <td>1</td>\n",
       "      <td>66</td>\n",
       "      <td>14.96</td>\n",
       "      <td>76.000</td>\n",
       "    </tr>\n",
       "    <tr>\n",
       "      <th>1</th>\n",
       "      <td>198</td>\n",
       "      <td>1207</td>\n",
       "      <td>A</td>\n",
       "      <td>2</td>\n",
       "      <td>H</td>\n",
       "      <td>5</td>\n",
       "      <td>33</td>\n",
       "      <td>11.13</td>\n",
       "      <td>49.314</td>\n",
       "    </tr>\n",
       "    <tr>\n",
       "      <th>0</th>\n",
       "      <td>198</td>\n",
       "      <td>1207</td>\n",
       "      <td>A</td>\n",
       "      <td>2</td>\n",
       "      <td>H</td>\n",
       "      <td>2</td>\n",
       "      <td>65</td>\n",
       "      <td>6.95</td>\n",
       "      <td>69.630</td>\n",
       "    </tr>\n",
       "  </tbody>\n",
       "</table>\n",
       "<p>71 rows × 9 columns</p>\n",
       "</div>"
      ],
      "text/plain": [
       "    Leg  Site  H  Cor  T  Sc  Top(cm)  Depth (mbsf)  CaCO3 (wt %)\n",
       "70  198  1207  B   46  R   1       52        584.72        64.200\n",
       "69  198  1207  B   44  R   1      103        566.03         0.000\n",
       "68  198  1207  B   44  R   1       76        565.76         0.000\n",
       "67  198  1207  B   44  R   1       60        565.60         0.000\n",
       "66  198  1207  B   40  R  CC       30        526.80        60.930\n",
       "..  ...   ... ..  ... ..  ..      ...           ...           ...\n",
       "4   198  1207  A    3  H   4       70         19.50        46.981\n",
       "3   198  1207  A    3  H   2      126         17.06        55.478\n",
       "2   198  1207  A    3  H   1       66         14.96        76.000\n",
       "1   198  1207  A    2  H   5       33         11.13        49.314\n",
       "0   198  1207  A    2  H   2       65          6.95        69.630\n",
       "\n",
       "[71 rows x 9 columns]"
      ]
     },
     "execution_count": 69,
     "metadata": {},
     "output_type": "execute_result"
    }
   ],
   "source": [
    "geochemistry_df.sort_index(ascending = False)"
   ]
  },
  {
   "cell_type": "markdown",
   "metadata": {},
   "source": [
    "Sorting a series is done using `sort_values()`:"
   ]
  },
  {
   "cell_type": "code",
   "execution_count": 70,
   "metadata": {
    "execution": {
     "iopub.execute_input": "2022-01-18T13:17:07.015921Z",
     "iopub.status.busy": "2022-01-18T13:17:07.015750Z",
     "iopub.status.idle": "2022-01-18T13:17:07.020654Z",
     "shell.execute_reply": "2022-01-18T13:17:07.020162Z",
     "shell.execute_reply.started": "2022-01-18T13:17:07.015900Z"
    },
    "tags": []
   },
   "outputs": [
    {
     "data": {
      "text/plain": [
       "69     0.000\n",
       "68     0.000\n",
       "67     0.000\n",
       "18    16.160\n",
       "29    31.737\n",
       "       ...  \n",
       "54    97.310\n",
       "62    97.410\n",
       "53    97.450\n",
       "52    97.860\n",
       "49    98.230\n",
       "Name: CaCO3 (wt %), Length: 71, dtype: float64"
      ]
     },
     "execution_count": 70,
     "metadata": {},
     "output_type": "execute_result"
    }
   ],
   "source": [
    "geochemistry_df['CaCO3 (wt %)'].sort_values()"
   ]
  },
  {
   "cell_type": "markdown",
   "metadata": {},
   "source": [
    "And you can sort (or reverse sort) a whole dataframe by your preferred column. Here, the percentage of carbonate:"
   ]
  },
  {
   "cell_type": "code",
   "execution_count": 71,
   "metadata": {
    "execution": {
     "iopub.execute_input": "2022-01-18T13:17:07.021765Z",
     "iopub.status.busy": "2022-01-18T13:17:07.021598Z",
     "iopub.status.idle": "2022-01-18T13:17:07.036744Z",
     "shell.execute_reply": "2022-01-18T13:17:07.036161Z",
     "shell.execute_reply.started": "2022-01-18T13:17:07.021745Z"
    },
    "tags": []
   },
   "outputs": [
    {
     "data": {
      "text/html": [
       "<div>\n",
       "<style scoped>\n",
       "    .dataframe tbody tr th:only-of-type {\n",
       "        vertical-align: middle;\n",
       "    }\n",
       "\n",
       "    .dataframe tbody tr th {\n",
       "        vertical-align: top;\n",
       "    }\n",
       "\n",
       "    .dataframe thead th {\n",
       "        text-align: right;\n",
       "    }\n",
       "</style>\n",
       "<table border=\"1\" class=\"dataframe\">\n",
       "  <thead>\n",
       "    <tr style=\"text-align: right;\">\n",
       "      <th></th>\n",
       "      <th>Leg</th>\n",
       "      <th>Site</th>\n",
       "      <th>H</th>\n",
       "      <th>Cor</th>\n",
       "      <th>T</th>\n",
       "      <th>Sc</th>\n",
       "      <th>Top(cm)</th>\n",
       "      <th>Depth (mbsf)</th>\n",
       "      <th>CaCO3 (wt %)</th>\n",
       "    </tr>\n",
       "  </thead>\n",
       "  <tbody>\n",
       "    <tr>\n",
       "      <th>69</th>\n",
       "      <td>198</td>\n",
       "      <td>1207</td>\n",
       "      <td>B</td>\n",
       "      <td>44</td>\n",
       "      <td>R</td>\n",
       "      <td>1</td>\n",
       "      <td>103</td>\n",
       "      <td>566.03</td>\n",
       "      <td>0.000</td>\n",
       "    </tr>\n",
       "    <tr>\n",
       "      <th>68</th>\n",
       "      <td>198</td>\n",
       "      <td>1207</td>\n",
       "      <td>B</td>\n",
       "      <td>44</td>\n",
       "      <td>R</td>\n",
       "      <td>1</td>\n",
       "      <td>76</td>\n",
       "      <td>565.76</td>\n",
       "      <td>0.000</td>\n",
       "    </tr>\n",
       "    <tr>\n",
       "      <th>67</th>\n",
       "      <td>198</td>\n",
       "      <td>1207</td>\n",
       "      <td>B</td>\n",
       "      <td>44</td>\n",
       "      <td>R</td>\n",
       "      <td>1</td>\n",
       "      <td>60</td>\n",
       "      <td>565.60</td>\n",
       "      <td>0.000</td>\n",
       "    </tr>\n",
       "    <tr>\n",
       "      <th>18</th>\n",
       "      <td>198</td>\n",
       "      <td>1207</td>\n",
       "      <td>A</td>\n",
       "      <td>8</td>\n",
       "      <td>H</td>\n",
       "      <td>5</td>\n",
       "      <td>94</td>\n",
       "      <td>68.74</td>\n",
       "      <td>16.160</td>\n",
       "    </tr>\n",
       "    <tr>\n",
       "      <th>29</th>\n",
       "      <td>198</td>\n",
       "      <td>1207</td>\n",
       "      <td>A</td>\n",
       "      <td>12</td>\n",
       "      <td>H</td>\n",
       "      <td>6</td>\n",
       "      <td>28</td>\n",
       "      <td>107.58</td>\n",
       "      <td>31.737</td>\n",
       "    </tr>\n",
       "    <tr>\n",
       "      <th>...</th>\n",
       "      <td>...</td>\n",
       "      <td>...</td>\n",
       "      <td>...</td>\n",
       "      <td>...</td>\n",
       "      <td>...</td>\n",
       "      <td>...</td>\n",
       "      <td>...</td>\n",
       "      <td>...</td>\n",
       "      <td>...</td>\n",
       "    </tr>\n",
       "    <tr>\n",
       "      <th>54</th>\n",
       "      <td>198</td>\n",
       "      <td>1207</td>\n",
       "      <td>A</td>\n",
       "      <td>24</td>\n",
       "      <td>X</td>\n",
       "      <td>4</td>\n",
       "      <td>87</td>\n",
       "      <td>212.97</td>\n",
       "      <td>97.310</td>\n",
       "    </tr>\n",
       "    <tr>\n",
       "      <th>62</th>\n",
       "      <td>198</td>\n",
       "      <td>1207</td>\n",
       "      <td>B</td>\n",
       "      <td>4</td>\n",
       "      <td>R</td>\n",
       "      <td>2</td>\n",
       "      <td>53</td>\n",
       "      <td>187.83</td>\n",
       "      <td>97.410</td>\n",
       "    </tr>\n",
       "    <tr>\n",
       "      <th>53</th>\n",
       "      <td>198</td>\n",
       "      <td>1207</td>\n",
       "      <td>A</td>\n",
       "      <td>24</td>\n",
       "      <td>X</td>\n",
       "      <td>2</td>\n",
       "      <td>34</td>\n",
       "      <td>209.44</td>\n",
       "      <td>97.450</td>\n",
       "    </tr>\n",
       "    <tr>\n",
       "      <th>52</th>\n",
       "      <td>198</td>\n",
       "      <td>1207</td>\n",
       "      <td>A</td>\n",
       "      <td>23</td>\n",
       "      <td>X</td>\n",
       "      <td>6</td>\n",
       "      <td>89</td>\n",
       "      <td>206.29</td>\n",
       "      <td>97.860</td>\n",
       "    </tr>\n",
       "    <tr>\n",
       "      <th>49</th>\n",
       "      <td>198</td>\n",
       "      <td>1207</td>\n",
       "      <td>A</td>\n",
       "      <td>21</td>\n",
       "      <td>X</td>\n",
       "      <td>4</td>\n",
       "      <td>88</td>\n",
       "      <td>187.18</td>\n",
       "      <td>98.230</td>\n",
       "    </tr>\n",
       "  </tbody>\n",
       "</table>\n",
       "<p>71 rows × 9 columns</p>\n",
       "</div>"
      ],
      "text/plain": [
       "    Leg  Site  H  Cor  T Sc  Top(cm)  Depth (mbsf)  CaCO3 (wt %)\n",
       "69  198  1207  B   44  R  1      103        566.03         0.000\n",
       "68  198  1207  B   44  R  1       76        565.76         0.000\n",
       "67  198  1207  B   44  R  1       60        565.60         0.000\n",
       "18  198  1207  A    8  H  5       94         68.74        16.160\n",
       "29  198  1207  A   12  H  6       28        107.58        31.737\n",
       "..  ...   ... ..  ... .. ..      ...           ...           ...\n",
       "54  198  1207  A   24  X  4       87        212.97        97.310\n",
       "62  198  1207  B    4  R  2       53        187.83        97.410\n",
       "53  198  1207  A   24  X  2       34        209.44        97.450\n",
       "52  198  1207  A   23  X  6       89        206.29        97.860\n",
       "49  198  1207  A   21  X  4       88        187.18        98.230\n",
       "\n",
       "[71 rows x 9 columns]"
      ]
     },
     "execution_count": 71,
     "metadata": {},
     "output_type": "execute_result"
    }
   ],
   "source": [
    "geochemistry_df.sort_values(by='CaCO3 (wt %)')"
   ]
  },
  {
   "cell_type": "markdown",
   "metadata": {},
   "source": [
    "And here is a slightly more evolved example, reverse sorting by % carbonate first and by depth second. You can pass as many columns in the list as you wish:"
   ]
  },
  {
   "cell_type": "code",
   "execution_count": 72,
   "metadata": {
    "collapsed": false,
    "execution": {
     "iopub.execute_input": "2022-01-18T13:17:07.037861Z",
     "iopub.status.busy": "2022-01-18T13:17:07.037611Z",
     "iopub.status.idle": "2022-01-18T13:17:07.055362Z",
     "shell.execute_reply": "2022-01-18T13:17:07.054836Z",
     "shell.execute_reply.started": "2022-01-18T13:17:07.037837Z"
    },
    "jupyter": {
     "outputs_hidden": false
    },
    "tags": []
   },
   "outputs": [
    {
     "data": {
      "text/html": [
       "<div>\n",
       "<style scoped>\n",
       "    .dataframe tbody tr th:only-of-type {\n",
       "        vertical-align: middle;\n",
       "    }\n",
       "\n",
       "    .dataframe tbody tr th {\n",
       "        vertical-align: top;\n",
       "    }\n",
       "\n",
       "    .dataframe thead th {\n",
       "        text-align: right;\n",
       "    }\n",
       "</style>\n",
       "<table border=\"1\" class=\"dataframe\">\n",
       "  <thead>\n",
       "    <tr style=\"text-align: right;\">\n",
       "      <th></th>\n",
       "      <th>Leg</th>\n",
       "      <th>Site</th>\n",
       "      <th>H</th>\n",
       "      <th>Cor</th>\n",
       "      <th>T</th>\n",
       "      <th>Sc</th>\n",
       "      <th>Top(cm)</th>\n",
       "      <th>Depth (mbsf)</th>\n",
       "      <th>CaCO3 (wt %)</th>\n",
       "    </tr>\n",
       "  </thead>\n",
       "  <tbody>\n",
       "    <tr>\n",
       "      <th>49</th>\n",
       "      <td>198</td>\n",
       "      <td>1207</td>\n",
       "      <td>A</td>\n",
       "      <td>21</td>\n",
       "      <td>X</td>\n",
       "      <td>4</td>\n",
       "      <td>88</td>\n",
       "      <td>187.18</td>\n",
       "      <td>98.230</td>\n",
       "    </tr>\n",
       "    <tr>\n",
       "      <th>52</th>\n",
       "      <td>198</td>\n",
       "      <td>1207</td>\n",
       "      <td>A</td>\n",
       "      <td>23</td>\n",
       "      <td>X</td>\n",
       "      <td>6</td>\n",
       "      <td>89</td>\n",
       "      <td>206.29</td>\n",
       "      <td>97.860</td>\n",
       "    </tr>\n",
       "    <tr>\n",
       "      <th>53</th>\n",
       "      <td>198</td>\n",
       "      <td>1207</td>\n",
       "      <td>A</td>\n",
       "      <td>24</td>\n",
       "      <td>X</td>\n",
       "      <td>2</td>\n",
       "      <td>34</td>\n",
       "      <td>209.44</td>\n",
       "      <td>97.450</td>\n",
       "    </tr>\n",
       "    <tr>\n",
       "      <th>62</th>\n",
       "      <td>198</td>\n",
       "      <td>1207</td>\n",
       "      <td>B</td>\n",
       "      <td>4</td>\n",
       "      <td>R</td>\n",
       "      <td>2</td>\n",
       "      <td>53</td>\n",
       "      <td>187.83</td>\n",
       "      <td>97.410</td>\n",
       "    </tr>\n",
       "    <tr>\n",
       "      <th>54</th>\n",
       "      <td>198</td>\n",
       "      <td>1207</td>\n",
       "      <td>A</td>\n",
       "      <td>24</td>\n",
       "      <td>X</td>\n",
       "      <td>4</td>\n",
       "      <td>87</td>\n",
       "      <td>212.97</td>\n",
       "      <td>97.310</td>\n",
       "    </tr>\n",
       "    <tr>\n",
       "      <th>...</th>\n",
       "      <td>...</td>\n",
       "      <td>...</td>\n",
       "      <td>...</td>\n",
       "      <td>...</td>\n",
       "      <td>...</td>\n",
       "      <td>...</td>\n",
       "      <td>...</td>\n",
       "      <td>...</td>\n",
       "      <td>...</td>\n",
       "    </tr>\n",
       "    <tr>\n",
       "      <th>29</th>\n",
       "      <td>198</td>\n",
       "      <td>1207</td>\n",
       "      <td>A</td>\n",
       "      <td>12</td>\n",
       "      <td>H</td>\n",
       "      <td>6</td>\n",
       "      <td>28</td>\n",
       "      <td>107.58</td>\n",
       "      <td>31.737</td>\n",
       "    </tr>\n",
       "    <tr>\n",
       "      <th>18</th>\n",
       "      <td>198</td>\n",
       "      <td>1207</td>\n",
       "      <td>A</td>\n",
       "      <td>8</td>\n",
       "      <td>H</td>\n",
       "      <td>5</td>\n",
       "      <td>94</td>\n",
       "      <td>68.74</td>\n",
       "      <td>16.160</td>\n",
       "    </tr>\n",
       "    <tr>\n",
       "      <th>69</th>\n",
       "      <td>198</td>\n",
       "      <td>1207</td>\n",
       "      <td>B</td>\n",
       "      <td>44</td>\n",
       "      <td>R</td>\n",
       "      <td>1</td>\n",
       "      <td>103</td>\n",
       "      <td>566.03</td>\n",
       "      <td>0.000</td>\n",
       "    </tr>\n",
       "    <tr>\n",
       "      <th>68</th>\n",
       "      <td>198</td>\n",
       "      <td>1207</td>\n",
       "      <td>B</td>\n",
       "      <td>44</td>\n",
       "      <td>R</td>\n",
       "      <td>1</td>\n",
       "      <td>76</td>\n",
       "      <td>565.76</td>\n",
       "      <td>0.000</td>\n",
       "    </tr>\n",
       "    <tr>\n",
       "      <th>67</th>\n",
       "      <td>198</td>\n",
       "      <td>1207</td>\n",
       "      <td>B</td>\n",
       "      <td>44</td>\n",
       "      <td>R</td>\n",
       "      <td>1</td>\n",
       "      <td>60</td>\n",
       "      <td>565.60</td>\n",
       "      <td>0.000</td>\n",
       "    </tr>\n",
       "  </tbody>\n",
       "</table>\n",
       "<p>71 rows × 9 columns</p>\n",
       "</div>"
      ],
      "text/plain": [
       "    Leg  Site  H  Cor  T Sc  Top(cm)  Depth (mbsf)  CaCO3 (wt %)\n",
       "49  198  1207  A   21  X  4       88        187.18        98.230\n",
       "52  198  1207  A   23  X  6       89        206.29        97.860\n",
       "53  198  1207  A   24  X  2       34        209.44        97.450\n",
       "62  198  1207  B    4  R  2       53        187.83        97.410\n",
       "54  198  1207  A   24  X  4       87        212.97        97.310\n",
       "..  ...   ... ..  ... .. ..      ...           ...           ...\n",
       "29  198  1207  A   12  H  6       28        107.58        31.737\n",
       "18  198  1207  A    8  H  5       94         68.74        16.160\n",
       "69  198  1207  B   44  R  1      103        566.03         0.000\n",
       "68  198  1207  B   44  R  1       76        565.76         0.000\n",
       "67  198  1207  B   44  R  1       60        565.60         0.000\n",
       "\n",
       "[71 rows x 9 columns]"
      ]
     },
     "execution_count": 72,
     "metadata": {},
     "output_type": "execute_result"
    }
   ],
   "source": [
    "geochemistry_df.sort_values(by=['CaCO3 (wt %)', 'Depth (mbsf)'], ascending=False)"
   ]
  },
  {
   "cell_type": "markdown",
   "metadata": {},
   "source": [
    "## Summarizing and Computing Descriptive Statistics\n",
    "\n",
    "You can pretty much do the same descriptive statistics on a dataframe or a dataframe series that you would on an ndarray.\n",
    "\n",
    "There is one very useful method: `describe()` gives you a quick sense of the nature of your dataframe in an easy to digest format:"
   ]
  },
  {
   "cell_type": "code",
   "execution_count": 73,
   "metadata": {
    "collapsed": false,
    "execution": {
     "iopub.execute_input": "2022-01-18T13:17:07.056373Z",
     "iopub.status.busy": "2022-01-18T13:17:07.056227Z",
     "iopub.status.idle": "2022-01-18T13:17:07.078969Z",
     "shell.execute_reply": "2022-01-18T13:17:07.078321Z",
     "shell.execute_reply.started": "2022-01-18T13:17:07.056353Z"
    },
    "jupyter": {
     "outputs_hidden": false
    },
    "tags": []
   },
   "outputs": [
    {
     "data": {
      "text/html": [
       "<div>\n",
       "<style scoped>\n",
       "    .dataframe tbody tr th:only-of-type {\n",
       "        vertical-align: middle;\n",
       "    }\n",
       "\n",
       "    .dataframe tbody tr th {\n",
       "        vertical-align: top;\n",
       "    }\n",
       "\n",
       "    .dataframe thead th {\n",
       "        text-align: right;\n",
       "    }\n",
       "</style>\n",
       "<table border=\"1\" class=\"dataframe\">\n",
       "  <thead>\n",
       "    <tr style=\"text-align: right;\">\n",
       "      <th></th>\n",
       "      <th>Leg</th>\n",
       "      <th>Site</th>\n",
       "      <th>Cor</th>\n",
       "      <th>Top(cm)</th>\n",
       "      <th>Depth (mbsf)</th>\n",
       "      <th>CaCO3 (wt %)</th>\n",
       "    </tr>\n",
       "  </thead>\n",
       "  <tbody>\n",
       "    <tr>\n",
       "      <th>count</th>\n",
       "      <td>71.0</td>\n",
       "      <td>71.0</td>\n",
       "      <td>71.000000</td>\n",
       "      <td>71.000000</td>\n",
       "      <td>71.000000</td>\n",
       "      <td>71.000000</td>\n",
       "    </tr>\n",
       "    <tr>\n",
       "      <th>mean</th>\n",
       "      <td>198.0</td>\n",
       "      <td>1207.0</td>\n",
       "      <td>12.985915</td>\n",
       "      <td>66.000000</td>\n",
       "      <td>146.213521</td>\n",
       "      <td>70.933310</td>\n",
       "    </tr>\n",
       "    <tr>\n",
       "      <th>std</th>\n",
       "      <td>0.0</td>\n",
       "      <td>0.0</td>\n",
       "      <td>10.704462</td>\n",
       "      <td>29.079202</td>\n",
       "      <td>129.506866</td>\n",
       "      <td>24.026248</td>\n",
       "    </tr>\n",
       "    <tr>\n",
       "      <th>min</th>\n",
       "      <td>198.0</td>\n",
       "      <td>1207.0</td>\n",
       "      <td>1.000000</td>\n",
       "      <td>8.000000</td>\n",
       "      <td>6.950000</td>\n",
       "      <td>0.000000</td>\n",
       "    </tr>\n",
       "    <tr>\n",
       "      <th>25%</th>\n",
       "      <td>198.0</td>\n",
       "      <td>1207.0</td>\n",
       "      <td>5.000000</td>\n",
       "      <td>45.000000</td>\n",
       "      <td>67.705000</td>\n",
       "      <td>58.287000</td>\n",
       "    </tr>\n",
       "    <tr>\n",
       "      <th>50%</th>\n",
       "      <td>198.0</td>\n",
       "      <td>1207.0</td>\n",
       "      <td>11.000000</td>\n",
       "      <td>70.000000</td>\n",
       "      <td>123.970000</td>\n",
       "      <td>75.270000</td>\n",
       "    </tr>\n",
       "    <tr>\n",
       "      <th>75%</th>\n",
       "      <td>198.0</td>\n",
       "      <td>1207.0</td>\n",
       "      <td>17.000000</td>\n",
       "      <td>86.500000</td>\n",
       "      <td>175.800000</td>\n",
       "      <td>89.300000</td>\n",
       "    </tr>\n",
       "    <tr>\n",
       "      <th>max</th>\n",
       "      <td>198.0</td>\n",
       "      <td>1207.0</td>\n",
       "      <td>46.000000</td>\n",
       "      <td>137.000000</td>\n",
       "      <td>584.720000</td>\n",
       "      <td>98.230000</td>\n",
       "    </tr>\n",
       "  </tbody>\n",
       "</table>\n",
       "</div>"
      ],
      "text/plain": [
       "         Leg    Site        Cor     Top(cm)  Depth (mbsf)  CaCO3 (wt %)\n",
       "count   71.0    71.0  71.000000   71.000000     71.000000     71.000000\n",
       "mean   198.0  1207.0  12.985915   66.000000    146.213521     70.933310\n",
       "std      0.0     0.0  10.704462   29.079202    129.506866     24.026248\n",
       "min    198.0  1207.0   1.000000    8.000000      6.950000      0.000000\n",
       "25%    198.0  1207.0   5.000000   45.000000     67.705000     58.287000\n",
       "50%    198.0  1207.0  11.000000   70.000000    123.970000     75.270000\n",
       "75%    198.0  1207.0  17.000000   86.500000    175.800000     89.300000\n",
       "max    198.0  1207.0  46.000000  137.000000    584.720000     98.230000"
      ]
     },
     "execution_count": 73,
     "metadata": {},
     "output_type": "execute_result"
    }
   ],
   "source": [
    "geochemistry_df.describe()"
   ]
  },
  {
   "cell_type": "markdown",
   "metadata": {},
   "source": [
    "Note that only the numerical columns were used in the `describe()` method. You can also limit the description to one series (column):"
   ]
  },
  {
   "cell_type": "code",
   "execution_count": 74,
   "metadata": {
    "execution": {
     "iopub.execute_input": "2022-01-18T13:17:07.080153Z",
     "iopub.status.busy": "2022-01-18T13:17:07.079822Z",
     "iopub.status.idle": "2022-01-18T13:17:07.086327Z",
     "shell.execute_reply": "2022-01-18T13:17:07.085792Z",
     "shell.execute_reply.started": "2022-01-18T13:17:07.080127Z"
    },
    "tags": []
   },
   "outputs": [
    {
     "data": {
      "text/plain": [
       "count    71.000000\n",
       "mean     70.933310\n",
       "std      24.026248\n",
       "min       0.000000\n",
       "25%      58.287000\n",
       "50%      75.270000\n",
       "75%      89.300000\n",
       "max      98.230000\n",
       "Name: CaCO3 (wt %), dtype: float64"
      ]
     },
     "execution_count": 74,
     "metadata": {},
     "output_type": "execute_result"
    }
   ],
   "source": [
    "geochemistry_df['CaCO3 (wt %)'].describe()"
   ]
  },
  {
   "cell_type": "markdown",
   "metadata": {
    "execution": {
     "iopub.execute_input": "2022-01-18T09:23:06.677791Z",
     "iopub.status.busy": "2022-01-18T09:23:06.677640Z",
     "iopub.status.idle": "2022-01-18T09:23:06.683079Z",
     "shell.execute_reply": "2022-01-18T09:23:06.682490Z",
     "shell.execute_reply.started": "2022-01-18T09:23:06.677771Z"
    }
   },
   "source": [
    "You can sum all of the columns:"
   ]
  },
  {
   "cell_type": "code",
   "execution_count": 75,
   "metadata": {
    "execution": {
     "iopub.execute_input": "2022-01-18T13:17:07.087557Z",
     "iopub.status.busy": "2022-01-18T13:17:07.087261Z",
     "iopub.status.idle": "2022-01-18T13:17:07.092857Z",
     "shell.execute_reply": "2022-01-18T13:17:07.092339Z",
     "shell.execute_reply.started": "2022-01-18T13:17:07.087534Z"
    },
    "tags": []
   },
   "outputs": [
    {
     "data": {
      "text/plain": [
       "Leg                                                         14058\n",
       "Site                                                        85697\n",
       "H               AAAAAAAAAAAAAAAAAAAAAAAAAAAAAAAAAAAAAAAAAAAAAA...\n",
       "Cor                                                           922\n",
       "T               HHHHHHHHHHHHHHHHHHHHHHHHHHHHHHHHHHHHHHHHHHHHHH...\n",
       "Sc              2512446135135135245113112355162461141461241221...\n",
       "Top(cm)                                                      4686\n",
       "Depth (mbsf)                                             10381.16\n",
       "CaCO3 (wt %)                                             5036.265\n",
       "dtype: object"
      ]
     },
     "execution_count": 75,
     "metadata": {},
     "output_type": "execute_result"
    }
   ],
   "source": [
    "geochemistry_df.sum()"
   ]
  },
  {
   "cell_type": "markdown",
   "metadata": {},
   "source": [
    "Interesting, but summing values on some columns do not make a lot of sense because they are not numerical (for instance, `H` and `T`). It is time to learn to filter a datframe by data type!\n",
    "\n",
    "#### Filtering by data type\n",
    "\n",
    "We can call the `dtype` argument on any Series to check its data type:"
   ]
  },
  {
   "cell_type": "code",
   "execution_count": 76,
   "metadata": {
    "execution": {
     "iopub.execute_input": "2022-01-18T13:17:07.093811Z",
     "iopub.status.busy": "2022-01-18T13:17:07.093665Z",
     "iopub.status.idle": "2022-01-18T13:17:07.097308Z",
     "shell.execute_reply": "2022-01-18T13:17:07.096693Z",
     "shell.execute_reply.started": "2022-01-18T13:17:07.093791Z"
    },
    "tags": []
   },
   "outputs": [
    {
     "data": {
      "text/plain": [
       "dtype('float64')"
      ]
     },
     "execution_count": 76,
     "metadata": {},
     "output_type": "execute_result"
    }
   ],
   "source": [
    "geochemistry_df['CaCO3 (wt %)'].dtype"
   ]
  },
  {
   "cell_type": "markdown",
   "metadata": {},
   "source": [
    "We can also look at the data types of each columns in a dataframe using `dtypes`:"
   ]
  },
  {
   "cell_type": "code",
   "execution_count": 77,
   "metadata": {
    "execution": {
     "iopub.execute_input": "2022-01-18T13:17:07.098508Z",
     "iopub.status.busy": "2022-01-18T13:17:07.098320Z",
     "iopub.status.idle": "2022-01-18T13:17:07.102548Z",
     "shell.execute_reply": "2022-01-18T13:17:07.102078Z",
     "shell.execute_reply.started": "2022-01-18T13:17:07.098483Z"
    },
    "tags": []
   },
   "outputs": [
    {
     "data": {
      "text/plain": [
       "Leg               int64\n",
       "Site              int64\n",
       "H                object\n",
       "Cor               int64\n",
       "T                object\n",
       "Sc               object\n",
       "Top(cm)           int64\n",
       "Depth (mbsf)    float64\n",
       "CaCO3 (wt %)    float64\n",
       "dtype: object"
      ]
     },
     "execution_count": 77,
     "metadata": {},
     "output_type": "execute_result"
    }
   ],
   "source": [
    "geochemistry_df.dtypes"
   ]
  },
  {
   "cell_type": "markdown",
   "metadata": {},
   "source": [
    "Notice that strings have an `object` data type in Pandas and NumPy. So now let's filter and keep only the `float64` and `int64` values before taking our sum:"
   ]
  },
  {
   "cell_type": "code",
   "execution_count": 78,
   "metadata": {
    "execution": {
     "iopub.execute_input": "2022-01-18T13:17:07.103451Z",
     "iopub.status.busy": "2022-01-18T13:17:07.103308Z",
     "iopub.status.idle": "2022-01-18T13:17:07.109273Z",
     "shell.execute_reply": "2022-01-18T13:17:07.108755Z",
     "shell.execute_reply.started": "2022-01-18T13:17:07.103432Z"
    },
    "tags": []
   },
   "outputs": [
    {
     "data": {
      "text/plain": [
       "Leg             14058.000\n",
       "Site            85697.000\n",
       "Cor               922.000\n",
       "Top(cm)          4686.000\n",
       "Depth (mbsf)    10381.160\n",
       "CaCO3 (wt %)     5036.265\n",
       "dtype: float64"
      ]
     },
     "execution_count": 78,
     "metadata": {},
     "output_type": "execute_result"
    }
   ],
   "source": [
    "geochemistry_df.select_dtypes(['float64','int64']).sum()"
   ]
  },
  {
   "cell_type": "markdown",
   "metadata": {},
   "source": [
    "Note that `.select_dtypes(['float64','int64'])` returns a new Series, and we could have saved this as a variable. But the example above shows you a very common use of Pandas, where operations are chained togther to obtain a result. Chaining operation is another main reasons Pandas tends to return copies of Dataframes rather than do transformations in place: that way, we can perform the subsequent operation on the output of the previous function."
   ]
  },
  {
   "cell_type": "markdown",
   "metadata": {},
   "source": [
    "We can also do summary statistics by row. If you want to add the values in each column together per row, use this syntax:"
   ]
  },
  {
   "cell_type": "code",
   "execution_count": 81,
   "metadata": {
    "collapsed": false,
    "execution": {
     "iopub.execute_input": "2022-01-18T13:17:07.125739Z",
     "iopub.status.busy": "2022-01-18T13:17:07.125557Z",
     "iopub.status.idle": "2022-01-18T13:17:07.130993Z",
     "shell.execute_reply": "2022-01-18T13:17:07.130464Z",
     "shell.execute_reply.started": "2022-01-18T13:17:07.125718Z"
    },
    "jupyter": {
     "outputs_hidden": false
    },
    "tags": []
   },
   "outputs": [
    {
     "data": {
      "text/plain": [
       "0     1548.580\n",
       "1     1500.444\n",
       "2     1564.960\n",
       "3     1606.538\n",
       "4     1544.481\n",
       "        ...   \n",
       "66    2062.730\n",
       "67    2074.600\n",
       "68    2090.760\n",
       "69    2118.030\n",
       "70    2151.920\n",
       "Length: 71, dtype: float64"
      ]
     },
     "execution_count": 81,
     "metadata": {},
     "output_type": "execute_result"
    }
   ],
   "source": [
    "geochemistry_df.sum(axis='columns')"
   ]
  },
  {
   "cell_type": "markdown",
   "metadata": {},
   "source": [
    "Cummulative sum:"
   ]
  },
  {
   "cell_type": "markdown",
   "metadata": {},
   "source": [
    "A useful statistics is the percentage change between two values. This calculates the % change between a row and the preceding row. We can look at carbonates for instance:"
   ]
  },
  {
   "cell_type": "code",
   "execution_count": 82,
   "metadata": {
    "collapsed": false,
    "execution": {
     "iopub.execute_input": "2022-01-18T13:17:07.131943Z",
     "iopub.status.busy": "2022-01-18T13:17:07.131795Z",
     "iopub.status.idle": "2022-01-18T13:17:07.136982Z",
     "shell.execute_reply": "2022-01-18T13:17:07.136486Z",
     "shell.execute_reply.started": "2022-01-18T13:17:07.131923Z"
    },
    "jupyter": {
     "outputs_hidden": false
    },
    "tags": []
   },
   "outputs": [
    {
     "data": {
      "text/plain": [
       "0          NaN\n",
       "1    -0.291771\n",
       "2     0.541145\n",
       "3    -0.270026\n",
       "4    -0.153160\n",
       "        ...   \n",
       "66   -0.369255\n",
       "67   -1.000000\n",
       "68         NaN\n",
       "69         NaN\n",
       "70         inf\n",
       "Name: CaCO3 (wt %), Length: 71, dtype: float64"
      ]
     },
     "execution_count": 82,
     "metadata": {},
     "output_type": "execute_result"
    }
   ],
   "source": [
    "geochemistry_df['CaCO3 (wt %)'].pct_change()"
   ]
  },
  {
   "cell_type": "markdown",
   "metadata": {},
   "source": [
    "We can also look at the correlation between two series:"
   ]
  },
  {
   "cell_type": "code",
   "execution_count": 83,
   "metadata": {
    "collapsed": false,
    "execution": {
     "iopub.execute_input": "2022-01-18T13:17:07.137960Z",
     "iopub.status.busy": "2022-01-18T13:17:07.137815Z",
     "iopub.status.idle": "2022-01-18T13:17:07.141857Z",
     "shell.execute_reply": "2022-01-18T13:17:07.141373Z",
     "shell.execute_reply.started": "2022-01-18T13:17:07.137940Z"
    },
    "jupyter": {
     "outputs_hidden": false
    }
   },
   "outputs": [
    {
     "data": {
      "text/plain": [
       "-0.23892714874965887"
      ]
     },
     "execution_count": 83,
     "metadata": {},
     "output_type": "execute_result"
    }
   ],
   "source": [
    "geochemistry_df['CaCO3 (wt %)'].corr(geochemistry_df['Depth (mbsf)'])"
   ]
  },
  {
   "cell_type": "markdown",
   "metadata": {},
   "source": [
    "Or the covarience between two values:"
   ]
  },
  {
   "cell_type": "code",
   "execution_count": 84,
   "metadata": {
    "collapsed": false,
    "execution": {
     "iopub.execute_input": "2022-01-18T13:17:07.142788Z",
     "iopub.status.busy": "2022-01-18T13:17:07.142633Z",
     "iopub.status.idle": "2022-01-18T13:17:07.146549Z",
     "shell.execute_reply": "2022-01-18T13:17:07.146014Z",
     "shell.execute_reply.started": "2022-01-18T13:17:07.142768Z"
    },
    "jupyter": {
     "outputs_hidden": false
    },
    "tags": []
   },
   "outputs": [
    {
     "data": {
      "text/plain": [
       "-743.4371313923541"
      ]
     },
     "execution_count": 84,
     "metadata": {},
     "output_type": "execute_result"
    }
   ],
   "source": [
    "geochemistry_df['CaCO3 (wt %)'].cov(geochemistry_df['Depth (mbsf)'])"
   ]
  },
  {
   "cell_type": "markdown",
   "metadata": {},
   "source": [
    "You can also very quickly assess the correlation between all of the series in your dataframe:"
   ]
  },
  {
   "cell_type": "code",
   "execution_count": 85,
   "metadata": {
    "collapsed": false,
    "execution": {
     "iopub.execute_input": "2022-01-18T13:17:07.147485Z",
     "iopub.status.busy": "2022-01-18T13:17:07.147332Z",
     "iopub.status.idle": "2022-01-18T13:17:07.157149Z",
     "shell.execute_reply": "2022-01-18T13:17:07.156365Z",
     "shell.execute_reply.started": "2022-01-18T13:17:07.147465Z"
    },
    "jupyter": {
     "outputs_hidden": false
    },
    "tags": []
   },
   "outputs": [
    {
     "data": {
      "text/html": [
       "<div>\n",
       "<style scoped>\n",
       "    .dataframe tbody tr th:only-of-type {\n",
       "        vertical-align: middle;\n",
       "    }\n",
       "\n",
       "    .dataframe tbody tr th {\n",
       "        vertical-align: top;\n",
       "    }\n",
       "\n",
       "    .dataframe thead th {\n",
       "        text-align: right;\n",
       "    }\n",
       "</style>\n",
       "<table border=\"1\" class=\"dataframe\">\n",
       "  <thead>\n",
       "    <tr style=\"text-align: right;\">\n",
       "      <th></th>\n",
       "      <th>Leg</th>\n",
       "      <th>Site</th>\n",
       "      <th>Cor</th>\n",
       "      <th>Top(cm)</th>\n",
       "      <th>Depth (mbsf)</th>\n",
       "      <th>CaCO3 (wt %)</th>\n",
       "    </tr>\n",
       "  </thead>\n",
       "  <tbody>\n",
       "    <tr>\n",
       "      <th>Leg</th>\n",
       "      <td>NaN</td>\n",
       "      <td>NaN</td>\n",
       "      <td>NaN</td>\n",
       "      <td>NaN</td>\n",
       "      <td>NaN</td>\n",
       "      <td>NaN</td>\n",
       "    </tr>\n",
       "    <tr>\n",
       "      <th>Site</th>\n",
       "      <td>NaN</td>\n",
       "      <td>NaN</td>\n",
       "      <td>NaN</td>\n",
       "      <td>NaN</td>\n",
       "      <td>NaN</td>\n",
       "      <td>NaN</td>\n",
       "    </tr>\n",
       "    <tr>\n",
       "      <th>Cor</th>\n",
       "      <td>NaN</td>\n",
       "      <td>NaN</td>\n",
       "      <td>1.000000</td>\n",
       "      <td>0.162327</td>\n",
       "      <td>0.862302</td>\n",
       "      <td>-0.292044</td>\n",
       "    </tr>\n",
       "    <tr>\n",
       "      <th>Top(cm)</th>\n",
       "      <td>NaN</td>\n",
       "      <td>NaN</td>\n",
       "      <td>0.162327</td>\n",
       "      <td>1.000000</td>\n",
       "      <td>0.041463</td>\n",
       "      <td>0.129047</td>\n",
       "    </tr>\n",
       "    <tr>\n",
       "      <th>Depth (mbsf)</th>\n",
       "      <td>NaN</td>\n",
       "      <td>NaN</td>\n",
       "      <td>0.862302</td>\n",
       "      <td>0.041463</td>\n",
       "      <td>1.000000</td>\n",
       "      <td>-0.238927</td>\n",
       "    </tr>\n",
       "    <tr>\n",
       "      <th>CaCO3 (wt %)</th>\n",
       "      <td>NaN</td>\n",
       "      <td>NaN</td>\n",
       "      <td>-0.292044</td>\n",
       "      <td>0.129047</td>\n",
       "      <td>-0.238927</td>\n",
       "      <td>1.000000</td>\n",
       "    </tr>\n",
       "  </tbody>\n",
       "</table>\n",
       "</div>"
      ],
      "text/plain": [
       "              Leg  Site       Cor   Top(cm)  Depth (mbsf)  CaCO3 (wt %)\n",
       "Leg           NaN   NaN       NaN       NaN           NaN           NaN\n",
       "Site          NaN   NaN       NaN       NaN           NaN           NaN\n",
       "Cor           NaN   NaN  1.000000  0.162327      0.862302     -0.292044\n",
       "Top(cm)       NaN   NaN  0.162327  1.000000      0.041463      0.129047\n",
       "Depth (mbsf)  NaN   NaN  0.862302  0.041463      1.000000     -0.238927\n",
       "CaCO3 (wt %)  NaN   NaN -0.292044  0.129047     -0.238927      1.000000"
      ]
     },
     "execution_count": 85,
     "metadata": {},
     "output_type": "execute_result"
    }
   ],
   "source": [
    "geochemistry_df.corr()"
   ]
  },
  {
   "cell_type": "markdown",
   "metadata": {},
   "source": [
    "And the same with covariance:"
   ]
  },
  {
   "cell_type": "code",
   "execution_count": 86,
   "metadata": {
    "collapsed": false,
    "execution": {
     "iopub.execute_input": "2022-01-18T13:17:07.158118Z",
     "iopub.status.busy": "2022-01-18T13:17:07.157943Z",
     "iopub.status.idle": "2022-01-18T13:17:07.167892Z",
     "shell.execute_reply": "2022-01-18T13:17:07.167392Z",
     "shell.execute_reply.started": "2022-01-18T13:17:07.158097Z"
    },
    "jupyter": {
     "outputs_hidden": false
    },
    "tags": []
   },
   "outputs": [
    {
     "data": {
      "text/html": [
       "<div>\n",
       "<style scoped>\n",
       "    .dataframe tbody tr th:only-of-type {\n",
       "        vertical-align: middle;\n",
       "    }\n",
       "\n",
       "    .dataframe tbody tr th {\n",
       "        vertical-align: top;\n",
       "    }\n",
       "\n",
       "    .dataframe thead th {\n",
       "        text-align: right;\n",
       "    }\n",
       "</style>\n",
       "<table border=\"1\" class=\"dataframe\">\n",
       "  <thead>\n",
       "    <tr style=\"text-align: right;\">\n",
       "      <th></th>\n",
       "      <th>Leg</th>\n",
       "      <th>Site</th>\n",
       "      <th>Cor</th>\n",
       "      <th>Top(cm)</th>\n",
       "      <th>Depth (mbsf)</th>\n",
       "      <th>CaCO3 (wt %)</th>\n",
       "    </tr>\n",
       "  </thead>\n",
       "  <tbody>\n",
       "    <tr>\n",
       "      <th>Leg</th>\n",
       "      <td>0.0</td>\n",
       "      <td>0.0</td>\n",
       "      <td>0.000000</td>\n",
       "      <td>0.000000</td>\n",
       "      <td>0.000000</td>\n",
       "      <td>0.000000</td>\n",
       "    </tr>\n",
       "    <tr>\n",
       "      <th>Site</th>\n",
       "      <td>0.0</td>\n",
       "      <td>0.0</td>\n",
       "      <td>0.000000</td>\n",
       "      <td>0.000000</td>\n",
       "      <td>0.000000</td>\n",
       "      <td>0.000000</td>\n",
       "    </tr>\n",
       "    <tr>\n",
       "      <th>Cor</th>\n",
       "      <td>0.0</td>\n",
       "      <td>0.0</td>\n",
       "      <td>114.585513</td>\n",
       "      <td>50.528571</td>\n",
       "      <td>1195.410336</td>\n",
       "      <td>-75.110253</td>\n",
       "    </tr>\n",
       "    <tr>\n",
       "      <th>Top(cm)</th>\n",
       "      <td>0.0</td>\n",
       "      <td>0.0</td>\n",
       "      <td>50.528571</td>\n",
       "      <td>845.600000</td>\n",
       "      <td>156.147429</td>\n",
       "      <td>90.160543</td>\n",
       "    </tr>\n",
       "    <tr>\n",
       "      <th>Depth (mbsf)</th>\n",
       "      <td>0.0</td>\n",
       "      <td>0.0</td>\n",
       "      <td>1195.410336</td>\n",
       "      <td>156.147429</td>\n",
       "      <td>16772.028340</td>\n",
       "      <td>-743.437131</td>\n",
       "    </tr>\n",
       "    <tr>\n",
       "      <th>CaCO3 (wt %)</th>\n",
       "      <td>0.0</td>\n",
       "      <td>0.0</td>\n",
       "      <td>-75.110253</td>\n",
       "      <td>90.160543</td>\n",
       "      <td>-743.437131</td>\n",
       "      <td>577.260589</td>\n",
       "    </tr>\n",
       "  </tbody>\n",
       "</table>\n",
       "</div>"
      ],
      "text/plain": [
       "              Leg  Site          Cor     Top(cm)  Depth (mbsf)  CaCO3 (wt %)\n",
       "Leg           0.0   0.0     0.000000    0.000000      0.000000      0.000000\n",
       "Site          0.0   0.0     0.000000    0.000000      0.000000      0.000000\n",
       "Cor           0.0   0.0   114.585513   50.528571   1195.410336    -75.110253\n",
       "Top(cm)       0.0   0.0    50.528571  845.600000    156.147429     90.160543\n",
       "Depth (mbsf)  0.0   0.0  1195.410336  156.147429  16772.028340   -743.437131\n",
       "CaCO3 (wt %)  0.0   0.0   -75.110253   90.160543   -743.437131    577.260589"
      ]
     },
     "execution_count": 86,
     "metadata": {},
     "output_type": "execute_result"
    }
   ],
   "source": [
    "geochemistry_df.cov()"
   ]
  },
  {
   "cell_type": "markdown",
   "metadata": {},
   "source": [
    "# Exercise 3\n",
    "\n",
    "Write a one line program that outputs a series of boolean (`True` or `False`) that indicate for the different numerical columns in `geochemistry_df` whether their mean is >100. **Tip:** you will need to chain operations."
   ]
  },
  {
   "cell_type": "code",
   "execution_count": 79,
   "metadata": {
    "execution": {
     "iopub.execute_input": "2022-01-18T13:17:07.110315Z",
     "iopub.status.busy": "2022-01-18T13:17:07.110159Z",
     "iopub.status.idle": "2022-01-18T13:17:07.112430Z",
     "shell.execute_reply": "2022-01-18T13:17:07.111935Z",
     "shell.execute_reply.started": "2022-01-18T13:17:07.110296Z"
    }
   },
   "outputs": [],
   "source": [
    "# Your Code\n"
   ]
  },
  {
   "cell_type": "markdown",
   "metadata": {},
   "source": [
    "### 2.3.5 Combining and Merging Datasets <a id=\"combine\"></a>\n",
    "\n",
    "Oftentimes you will find yourself with multiple datasets that need to be merged together, either along their index (i.e. you add new series, or columns, to your data) or by concatenating along one of the two axis (for instance, adding new records to the dataset). Let's explore how this is done in Pandas.\n"
   ]
  },
  {
   "cell_type": "markdown",
   "metadata": {},
   "source": [
    "#### Merging on Index\n",
    "\n",
    "Let's assume that you have two dataframes with at least some overlap in their index. This could be for instance an index that is based on the depth below surface, or the sample name. You are then interested in merging the series (columns) that are common between the two datasets together. For this, you need to merge along the index."
   ]
  },
  {
   "cell_type": "code",
   "execution_count": 87,
   "metadata": {
    "collapsed": false,
    "execution": {
     "iopub.execute_input": "2022-01-18T13:17:07.169069Z",
     "iopub.status.busy": "2022-01-18T13:17:07.168898Z",
     "iopub.status.idle": "2022-01-18T13:17:07.177828Z",
     "shell.execute_reply": "2022-01-18T13:17:07.177344Z",
     "shell.execute_reply.started": "2022-01-18T13:17:07.169048Z"
    },
    "jupyter": {
     "outputs_hidden": false
    },
    "tags": []
   },
   "outputs": [
    {
     "data": {
      "text/html": [
       "<div>\n",
       "<style scoped>\n",
       "    .dataframe tbody tr th:only-of-type {\n",
       "        vertical-align: middle;\n",
       "    }\n",
       "\n",
       "    .dataframe tbody tr th {\n",
       "        vertical-align: top;\n",
       "    }\n",
       "\n",
       "    .dataframe thead th {\n",
       "        text-align: right;\n",
       "    }\n",
       "</style>\n",
       "<table border=\"1\" class=\"dataframe\">\n",
       "  <thead>\n",
       "    <tr style=\"text-align: right;\">\n",
       "      <th></th>\n",
       "      <th>mineral</th>\n",
       "      <th>color</th>\n",
       "      <th>depth (m)</th>\n",
       "    </tr>\n",
       "  </thead>\n",
       "  <tbody>\n",
       "    <tr>\n",
       "      <th>sample 1</th>\n",
       "      <td>calcite</td>\n",
       "      <td>yellow</td>\n",
       "      <td>2.0</td>\n",
       "    </tr>\n",
       "    <tr>\n",
       "      <th>sample 2</th>\n",
       "      <td>dolomite</td>\n",
       "      <td>pink</td>\n",
       "      <td>4.0</td>\n",
       "    </tr>\n",
       "    <tr>\n",
       "      <th>sample 3</th>\n",
       "      <td>quartz</td>\n",
       "      <td>grey</td>\n",
       "      <td>6.0</td>\n",
       "    </tr>\n",
       "    <tr>\n",
       "      <th>sample 4</th>\n",
       "      <td>quartz</td>\n",
       "      <td>grey</td>\n",
       "      <td>8.0</td>\n",
       "    </tr>\n",
       "    <tr>\n",
       "      <th>sample 5</th>\n",
       "      <td>calcite</td>\n",
       "      <td>white</td>\n",
       "      <td>10.0</td>\n",
       "    </tr>\n",
       "    <tr>\n",
       "      <th>sample 6</th>\n",
       "      <td>quartz</td>\n",
       "      <td>pink</td>\n",
       "      <td>12.0</td>\n",
       "    </tr>\n",
       "  </tbody>\n",
       "</table>\n",
       "</div>"
      ],
      "text/plain": [
       "           mineral   color  depth (m)\n",
       "sample 1   calcite  yellow        2.0\n",
       "sample 2  dolomite    pink        4.0\n",
       "sample 3    quartz    grey        6.0\n",
       "sample 4    quartz    grey        8.0\n",
       "sample 5   calcite   white       10.0\n",
       "sample 6    quartz    pink       12.0"
      ]
     },
     "execution_count": 87,
     "metadata": {},
     "output_type": "execute_result"
    }
   ],
   "source": [
    "# Let's create two very simple dataframes for this example. This will also show you how to create dataframe programmatically using a dictionary:\n",
    "\n",
    "mineralogy = pd.DataFrame({'mineral': ['calcite', 'dolomite', 'quartz', 'quartz', 'calcite', 'quartz'],\n",
    "                      'color': ['yellow', 'pink','grey', 'grey','white','pink'],'depth (m)':[2.,4.,6.,8.,10.,12.]}, index=['sample 1', 'sample 2','sample 3','sample 4','sample 5','sample 6'])\n",
    "mineralogy"
   ]
  },
  {
   "cell_type": "code",
   "execution_count": 88,
   "metadata": {
    "collapsed": false,
    "execution": {
     "iopub.execute_input": "2022-01-18T13:17:07.178847Z",
     "iopub.status.busy": "2022-01-18T13:17:07.178701Z",
     "iopub.status.idle": "2022-01-18T13:17:07.186406Z",
     "shell.execute_reply": "2022-01-18T13:17:07.185928Z",
     "shell.execute_reply.started": "2022-01-18T13:17:07.178828Z"
    },
    "jupyter": {
     "outputs_hidden": false
    },
    "tags": []
   },
   "outputs": [
    {
     "data": {
      "text/html": [
       "<div>\n",
       "<style scoped>\n",
       "    .dataframe tbody tr th:only-of-type {\n",
       "        vertical-align: middle;\n",
       "    }\n",
       "\n",
       "    .dataframe tbody tr th {\n",
       "        vertical-align: top;\n",
       "    }\n",
       "\n",
       "    .dataframe thead th {\n",
       "        text-align: right;\n",
       "    }\n",
       "</style>\n",
       "<table border=\"1\" class=\"dataframe\">\n",
       "  <thead>\n",
       "    <tr style=\"text-align: right;\">\n",
       "      <th></th>\n",
       "      <th>formation</th>\n",
       "      <th>depth (m)</th>\n",
       "    </tr>\n",
       "  </thead>\n",
       "  <tbody>\n",
       "    <tr>\n",
       "      <th>sample 1</th>\n",
       "      <td>Shuaiba</td>\n",
       "      <td>2.0</td>\n",
       "    </tr>\n",
       "    <tr>\n",
       "      <th>sample 3</th>\n",
       "      <td>Greyburg</td>\n",
       "      <td>6.0</td>\n",
       "    </tr>\n",
       "    <tr>\n",
       "      <th>sample 4</th>\n",
       "      <td>Farah</td>\n",
       "      <td>8.0</td>\n",
       "    </tr>\n",
       "    <tr>\n",
       "      <th>sample 7</th>\n",
       "      <td>Farah</td>\n",
       "      <td>14.0</td>\n",
       "    </tr>\n",
       "    <tr>\n",
       "      <th>sample 5</th>\n",
       "      <td>Shuaiba</td>\n",
       "      <td>10.0</td>\n",
       "    </tr>\n",
       "  </tbody>\n",
       "</table>\n",
       "</div>"
      ],
      "text/plain": [
       "         formation  depth (m)\n",
       "sample 1   Shuaiba        2.0\n",
       "sample 3  Greyburg        6.0\n",
       "sample 4     Farah        8.0\n",
       "sample 7     Farah       14.0\n",
       "sample 5   Shuaiba       10.0"
      ]
     },
     "execution_count": 88,
     "metadata": {},
     "output_type": "execute_result"
    }
   ],
   "source": [
    "formation_name = pd.DataFrame({'formation': ['Shuaiba', 'Greyburg', 'Farah', 'Farah', 'Shuaiba'],'depth (m)':[2.,6.,8.,14.,10.] }, index=['sample 1', 'sample 3','sample 4','sample 7','sample 5'])\n",
    "formation_name"
   ]
  },
  {
   "cell_type": "markdown",
   "metadata": {},
   "source": [
    "We can now do a merge of the two dataframe, which returns ONLY the records where we have data in both dataframes"
   ]
  },
  {
   "cell_type": "code",
   "execution_count": 89,
   "metadata": {
    "collapsed": false,
    "execution": {
     "iopub.execute_input": "2022-01-18T13:17:07.187489Z",
     "iopub.status.busy": "2022-01-18T13:17:07.187336Z",
     "iopub.status.idle": "2022-01-18T13:17:07.197429Z",
     "shell.execute_reply": "2022-01-18T13:17:07.196941Z",
     "shell.execute_reply.started": "2022-01-18T13:17:07.187469Z"
    },
    "jupyter": {
     "outputs_hidden": false
    },
    "tags": []
   },
   "outputs": [
    {
     "data": {
      "text/html": [
       "<div>\n",
       "<style scoped>\n",
       "    .dataframe tbody tr th:only-of-type {\n",
       "        vertical-align: middle;\n",
       "    }\n",
       "\n",
       "    .dataframe tbody tr th {\n",
       "        vertical-align: top;\n",
       "    }\n",
       "\n",
       "    .dataframe thead th {\n",
       "        text-align: right;\n",
       "    }\n",
       "</style>\n",
       "<table border=\"1\" class=\"dataframe\">\n",
       "  <thead>\n",
       "    <tr style=\"text-align: right;\">\n",
       "      <th></th>\n",
       "      <th>mineral</th>\n",
       "      <th>color</th>\n",
       "      <th>depth (m)_x</th>\n",
       "      <th>formation</th>\n",
       "      <th>depth (m)_y</th>\n",
       "    </tr>\n",
       "  </thead>\n",
       "  <tbody>\n",
       "    <tr>\n",
       "      <th>sample 1</th>\n",
       "      <td>calcite</td>\n",
       "      <td>yellow</td>\n",
       "      <td>2.0</td>\n",
       "      <td>Shuaiba</td>\n",
       "      <td>2.0</td>\n",
       "    </tr>\n",
       "    <tr>\n",
       "      <th>sample 3</th>\n",
       "      <td>quartz</td>\n",
       "      <td>grey</td>\n",
       "      <td>6.0</td>\n",
       "      <td>Greyburg</td>\n",
       "      <td>6.0</td>\n",
       "    </tr>\n",
       "    <tr>\n",
       "      <th>sample 4</th>\n",
       "      <td>quartz</td>\n",
       "      <td>grey</td>\n",
       "      <td>8.0</td>\n",
       "      <td>Farah</td>\n",
       "      <td>8.0</td>\n",
       "    </tr>\n",
       "    <tr>\n",
       "      <th>sample 5</th>\n",
       "      <td>calcite</td>\n",
       "      <td>white</td>\n",
       "      <td>10.0</td>\n",
       "      <td>Shuaiba</td>\n",
       "      <td>10.0</td>\n",
       "    </tr>\n",
       "  </tbody>\n",
       "</table>\n",
       "</div>"
      ],
      "text/plain": [
       "          mineral   color  depth (m)_x formation  depth (m)_y\n",
       "sample 1  calcite  yellow          2.0   Shuaiba          2.0\n",
       "sample 3   quartz    grey          6.0  Greyburg          6.0\n",
       "sample 4   quartz    grey          8.0     Farah          8.0\n",
       "sample 5  calcite   white         10.0   Shuaiba         10.0"
      ]
     },
     "execution_count": 89,
     "metadata": {},
     "output_type": "execute_result"
    }
   ],
   "source": [
    "pd.merge(mineralogy, formation_name, left_index=True, right_index=True)"
   ]
  },
  {
   "cell_type": "markdown",
   "metadata": {},
   "source": [
    "We can also use the 'concat' syntax (for 'concatenate) to join two dataframe together, passing the axis as a paremeter. Here we join based on new columns (axis 1) and we want to drop rows where we don't have all the data (join = \"inner\"):"
   ]
  },
  {
   "cell_type": "code",
   "execution_count": 90,
   "metadata": {
    "collapsed": false,
    "execution": {
     "iopub.execute_input": "2022-01-18T13:17:07.198477Z",
     "iopub.status.busy": "2022-01-18T13:17:07.198331Z",
     "iopub.status.idle": "2022-01-18T13:17:07.207537Z",
     "shell.execute_reply": "2022-01-18T13:17:07.207097Z",
     "shell.execute_reply.started": "2022-01-18T13:17:07.198458Z"
    },
    "jupyter": {
     "outputs_hidden": false
    },
    "tags": []
   },
   "outputs": [
    {
     "data": {
      "text/html": [
       "<div>\n",
       "<style scoped>\n",
       "    .dataframe tbody tr th:only-of-type {\n",
       "        vertical-align: middle;\n",
       "    }\n",
       "\n",
       "    .dataframe tbody tr th {\n",
       "        vertical-align: top;\n",
       "    }\n",
       "\n",
       "    .dataframe thead th {\n",
       "        text-align: right;\n",
       "    }\n",
       "</style>\n",
       "<table border=\"1\" class=\"dataframe\">\n",
       "  <thead>\n",
       "    <tr style=\"text-align: right;\">\n",
       "      <th></th>\n",
       "      <th>mineral</th>\n",
       "      <th>color</th>\n",
       "      <th>depth (m)</th>\n",
       "      <th>formation</th>\n",
       "      <th>depth (m)</th>\n",
       "    </tr>\n",
       "  </thead>\n",
       "  <tbody>\n",
       "    <tr>\n",
       "      <th>sample 1</th>\n",
       "      <td>calcite</td>\n",
       "      <td>yellow</td>\n",
       "      <td>2.0</td>\n",
       "      <td>Shuaiba</td>\n",
       "      <td>2.0</td>\n",
       "    </tr>\n",
       "    <tr>\n",
       "      <th>sample 3</th>\n",
       "      <td>quartz</td>\n",
       "      <td>grey</td>\n",
       "      <td>6.0</td>\n",
       "      <td>Greyburg</td>\n",
       "      <td>6.0</td>\n",
       "    </tr>\n",
       "    <tr>\n",
       "      <th>sample 4</th>\n",
       "      <td>quartz</td>\n",
       "      <td>grey</td>\n",
       "      <td>8.0</td>\n",
       "      <td>Farah</td>\n",
       "      <td>8.0</td>\n",
       "    </tr>\n",
       "    <tr>\n",
       "      <th>sample 5</th>\n",
       "      <td>calcite</td>\n",
       "      <td>white</td>\n",
       "      <td>10.0</td>\n",
       "      <td>Shuaiba</td>\n",
       "      <td>10.0</td>\n",
       "    </tr>\n",
       "  </tbody>\n",
       "</table>\n",
       "</div>"
      ],
      "text/plain": [
       "          mineral   color  depth (m) formation  depth (m)\n",
       "sample 1  calcite  yellow        2.0   Shuaiba        2.0\n",
       "sample 3   quartz    grey        6.0  Greyburg        6.0\n",
       "sample 4   quartz    grey        8.0     Farah        8.0\n",
       "sample 5  calcite   white       10.0   Shuaiba       10.0"
      ]
     },
     "execution_count": 90,
     "metadata": {},
     "output_type": "execute_result"
    }
   ],
   "source": [
    "pd.concat([mineralogy,formation_name], join=\"inner\", axis=1)"
   ]
  },
  {
   "cell_type": "markdown",
   "metadata": {},
   "source": [
    "Concat is very flexible and we can also use it to concatenate data based on adding new rows. For instance, if we create a new dataframe with new samples:"
   ]
  },
  {
   "cell_type": "code",
   "execution_count": 91,
   "metadata": {
    "execution": {
     "iopub.execute_input": "2022-01-18T13:17:07.208614Z",
     "iopub.status.busy": "2022-01-18T13:17:07.208477Z",
     "iopub.status.idle": "2022-01-18T13:17:07.217099Z",
     "shell.execute_reply": "2022-01-18T13:17:07.216325Z",
     "shell.execute_reply.started": "2022-01-18T13:17:07.208596Z"
    },
    "tags": []
   },
   "outputs": [
    {
     "data": {
      "text/html": [
       "<div>\n",
       "<style scoped>\n",
       "    .dataframe tbody tr th:only-of-type {\n",
       "        vertical-align: middle;\n",
       "    }\n",
       "\n",
       "    .dataframe tbody tr th {\n",
       "        vertical-align: top;\n",
       "    }\n",
       "\n",
       "    .dataframe thead th {\n",
       "        text-align: right;\n",
       "    }\n",
       "</style>\n",
       "<table border=\"1\" class=\"dataframe\">\n",
       "  <thead>\n",
       "    <tr style=\"text-align: right;\">\n",
       "      <th></th>\n",
       "      <th>mineral</th>\n",
       "      <th>color</th>\n",
       "      <th>depth (m)</th>\n",
       "    </tr>\n",
       "  </thead>\n",
       "  <tbody>\n",
       "    <tr>\n",
       "      <th>sample 7</th>\n",
       "      <td>calcite</td>\n",
       "      <td>white</td>\n",
       "      <td>14.0</td>\n",
       "    </tr>\n",
       "    <tr>\n",
       "      <th>sample 8</th>\n",
       "      <td>quartz</td>\n",
       "      <td>pink</td>\n",
       "      <td>16.0</td>\n",
       "    </tr>\n",
       "  </tbody>\n",
       "</table>\n",
       "</div>"
      ],
      "text/plain": [
       "          mineral  color  depth (m)\n",
       "sample 7  calcite  white       14.0\n",
       "sample 8   quartz   pink       16.0"
      ]
     },
     "execution_count": 91,
     "metadata": {},
     "output_type": "execute_result"
    }
   ],
   "source": [
    "mineralogy_extended = pd.DataFrame({'mineral': ['calcite', 'quartz'],'color': ['white','pink'],'depth (m)':[14.,16.]}, index=['sample 7', 'sample 8'])\n",
    "mineralogy_extended"
   ]
  },
  {
   "cell_type": "markdown",
   "metadata": {
    "execution": {
     "iopub.execute_input": "2022-01-18T11:55:57.464392Z",
     "iopub.status.busy": "2022-01-18T11:55:57.464191Z",
     "iopub.status.idle": "2022-01-18T11:55:57.474873Z",
     "shell.execute_reply": "2022-01-18T11:55:57.474289Z",
     "shell.execute_reply.started": "2022-01-18T11:55:57.464370Z"
    },
    "tags": []
   },
   "source": [
    "We can concatenate this data to the old mineralogy to add rows."
   ]
  },
  {
   "cell_type": "code",
   "execution_count": 92,
   "metadata": {
    "execution": {
     "iopub.execute_input": "2022-01-18T13:17:07.218340Z",
     "iopub.status.busy": "2022-01-18T13:17:07.218076Z",
     "iopub.status.idle": "2022-01-18T13:17:07.226710Z",
     "shell.execute_reply": "2022-01-18T13:17:07.226124Z",
     "shell.execute_reply.started": "2022-01-18T13:17:07.218315Z"
    },
    "tags": []
   },
   "outputs": [
    {
     "data": {
      "text/html": [
       "<div>\n",
       "<style scoped>\n",
       "    .dataframe tbody tr th:only-of-type {\n",
       "        vertical-align: middle;\n",
       "    }\n",
       "\n",
       "    .dataframe tbody tr th {\n",
       "        vertical-align: top;\n",
       "    }\n",
       "\n",
       "    .dataframe thead th {\n",
       "        text-align: right;\n",
       "    }\n",
       "</style>\n",
       "<table border=\"1\" class=\"dataframe\">\n",
       "  <thead>\n",
       "    <tr style=\"text-align: right;\">\n",
       "      <th></th>\n",
       "      <th>mineral</th>\n",
       "      <th>color</th>\n",
       "      <th>depth (m)</th>\n",
       "    </tr>\n",
       "  </thead>\n",
       "  <tbody>\n",
       "    <tr>\n",
       "      <th>sample 1</th>\n",
       "      <td>calcite</td>\n",
       "      <td>yellow</td>\n",
       "      <td>2.0</td>\n",
       "    </tr>\n",
       "    <tr>\n",
       "      <th>sample 2</th>\n",
       "      <td>dolomite</td>\n",
       "      <td>pink</td>\n",
       "      <td>4.0</td>\n",
       "    </tr>\n",
       "    <tr>\n",
       "      <th>sample 3</th>\n",
       "      <td>quartz</td>\n",
       "      <td>grey</td>\n",
       "      <td>6.0</td>\n",
       "    </tr>\n",
       "    <tr>\n",
       "      <th>sample 4</th>\n",
       "      <td>quartz</td>\n",
       "      <td>grey</td>\n",
       "      <td>8.0</td>\n",
       "    </tr>\n",
       "    <tr>\n",
       "      <th>sample 5</th>\n",
       "      <td>calcite</td>\n",
       "      <td>white</td>\n",
       "      <td>10.0</td>\n",
       "    </tr>\n",
       "    <tr>\n",
       "      <th>sample 6</th>\n",
       "      <td>quartz</td>\n",
       "      <td>pink</td>\n",
       "      <td>12.0</td>\n",
       "    </tr>\n",
       "    <tr>\n",
       "      <th>sample 7</th>\n",
       "      <td>calcite</td>\n",
       "      <td>white</td>\n",
       "      <td>14.0</td>\n",
       "    </tr>\n",
       "    <tr>\n",
       "      <th>sample 8</th>\n",
       "      <td>quartz</td>\n",
       "      <td>pink</td>\n",
       "      <td>16.0</td>\n",
       "    </tr>\n",
       "  </tbody>\n",
       "</table>\n",
       "</div>"
      ],
      "text/plain": [
       "           mineral   color  depth (m)\n",
       "sample 1   calcite  yellow        2.0\n",
       "sample 2  dolomite    pink        4.0\n",
       "sample 3    quartz    grey        6.0\n",
       "sample 4    quartz    grey        8.0\n",
       "sample 5   calcite   white       10.0\n",
       "sample 6    quartz    pink       12.0\n",
       "sample 7   calcite   white       14.0\n",
       "sample 8    quartz    pink       16.0"
      ]
     },
     "execution_count": 92,
     "metadata": {},
     "output_type": "execute_result"
    }
   ],
   "source": [
    "pd.concat([mineralogy,mineralogy_extended], join=\"inner\", axis=0) #NB the axis=0 is optional, as if no axis is stipulated Pandas assumes it is 0."
   ]
  },
  {
   "cell_type": "markdown",
   "metadata": {},
   "source": [
    "## Exercise 4\n",
    "\n",
    "In this exercise, you will need to use your skills in data manipulation in Pandas to answer the following simple question:\n",
    "\n",
    "*What is the average carbonate content of samples from ODP Site 1207 where the gamma ray count is >30?*\n",
    "\n",
    "You have all of the data you need to answer this question in the two datasets we have uploaded from the files before (`geochemistry_df` and  `ngr_df`). However, they currently are in separate dataframes. The goal of this exercise is also to teach you some new methods, and to do this cleanly using functions. Remember, functions are great because we can reuse the code!\n",
    "\n",
    "### Guidance:\n",
    "Do the following:\n",
    "1. In order to merge the dataset, we will use the `Depth (mbsf)` column in both files, but rounded to the closest full meter. Why rounding? Otherwise, you will only have 4 samples with the exact same depth. If we round the values first, we will have more overlap. Check the documentation for the Pandas `.round()` method to learn to use it.\n",
    "2. Write a simple function that takes a dataframe as an argument, and outputs a copy of this dataframe but with the `Depth (mbsf)` column rounded to the nearest meter. I have given you below the function's signature, i.e. it's name and the main argument (`def round_depth(df)`). Replace the `pass` with the code needed for this function.\n",
    "3. Write a second function (`merge_by_depth(df1,df2)` below) that takes two dataframes, and return a new merged dataframe using the `Depth (mbsf)` column for the merge.\n",
    "4. Finally, apply the two functions above to merge the `geochemistry_df` and  `ngr_df` dataframes, and calculate the mean value of carbonate content for samples with a `Corr. Counts` larger than 30.\n"
   ]
  },
  {
   "cell_type": "code",
   "execution_count": 93,
   "metadata": {
    "execution": {
     "iopub.execute_input": "2022-01-18T13:17:07.227824Z",
     "iopub.status.busy": "2022-01-18T13:17:07.227657Z",
     "iopub.status.idle": "2022-01-18T13:17:07.230278Z",
     "shell.execute_reply": "2022-01-18T13:17:07.229756Z",
     "shell.execute_reply.started": "2022-01-18T13:17:07.227804Z"
    }
   },
   "outputs": [],
   "source": [
    "# Your Code:\n",
    "\n",
    "# This simple function returns a copy of the dataframe with rounded values\n",
    "def round_depth(df):\n",
    "    pass\n",
    "\n",
    "# This other simply function returns a merged version of the dataset\n",
    "def merge_by_depth(df1,df2):\n",
    "    pass\n",
    "\n"
   ]
  },
  {
   "cell_type": "markdown",
   "metadata": {},
   "source": [
    "# Feedback Form"
   ]
  },
  {
   "cell_type": "code",
   "execution_count": 96,
   "metadata": {
    "execution": {
     "iopub.execute_input": "2022-01-18T13:17:07.246684Z",
     "iopub.status.busy": "2022-01-18T13:17:07.246513Z",
     "iopub.status.idle": "2022-01-18T13:17:07.250236Z",
     "shell.execute_reply": "2022-01-18T13:17:07.249680Z",
     "shell.execute_reply.started": "2022-01-18T13:17:07.246663Z"
    },
    "tags": []
   },
   "outputs": [
    {
     "data": {
      "text/html": [
       "<iframe src=\"https://docs.google.com/forms/d/e/1FAIpQLScBFfWo24X8yTOSKaxHz1LK4jtKg9uUuxqjqS2i3YdjpDAb8w/viewform?usp=sf_link=en\" width=\"800\" height=\"600\" frameborder=\"0\" marginheight=\"0\" marginwidth=\"0\">Loading…</iframe>\n"
      ],
      "text/plain": [
       "<IPython.core.display.HTML object>"
      ]
     },
     "metadata": {},
     "output_type": "display_data"
    }
   ],
   "source": [
    "%%html \n",
    "<iframe src=\"https://docs.google.com/forms/d/e/1FAIpQLScBFfWo24X8yTOSKaxHz1LK4jtKg9uUuxqjqS2i3YdjpDAb8w/viewform?usp=sf_link=en\" width=\"800\" height=\"600\" frameborder=\"0\" marginheight=\"0\" marginwidth=\"0\">Loading…</iframe>"
   ]
  }
 ],
 "metadata": {
  "kernelspec": {
   "display_name": "Python 3",
   "language": "python",
   "name": "python3"
  },
  "language_info": {
   "codemirror_mode": {
    "name": "ipython",
    "version": 3
   },
   "file_extension": ".py",
   "mimetype": "text/x-python",
   "name": "python",
   "nbconvert_exporter": "python",
   "pygments_lexer": "ipython3",
   "version": "3.8.8"
  }
 },
 "nbformat": 4,
 "nbformat_minor": 4
}
